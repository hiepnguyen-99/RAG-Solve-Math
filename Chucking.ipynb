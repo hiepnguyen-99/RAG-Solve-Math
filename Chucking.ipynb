{
 "cells": [
  {
   "cell_type": "code",
   "execution_count": 1,
   "id": "413ee580",
   "metadata": {},
   "outputs": [],
   "source": [
    "markdown_text = \"\"\"\n",
    "# Vector\n",
    "\n",
    "## Vector trong R^n \n",
    "\n",
    "Vector là một bộ n số thực, được biểu diễn trong không gian R^n. Ví dụ: (1, 2, 3) ∈ R^3.\n",
    "\n",
    "## Phép cộng\n",
    "\n",
    "Phép cộng hai vector cùng kích thước được thực hiện bằng cách cộng từng thành phần tương ứng.\n",
    "\"\"\"\n"
   ]
  },
  {
   "cell_type": "code",
   "execution_count": 5,
   "id": "22043555",
   "metadata": {},
   "outputs": [],
   "source": [
    "import re\n",
    "import os\n",
    "import torch\n",
    "import glob\n",
    "\n",
    "from langchain.text_splitter import MarkdownHeaderTextSplitter\n",
    "from sentence_transformers import SentenceTransformer\n",
    "from langchain.vectorstores import Chroma\n",
    "from langchain.embeddings import HuggingFaceEmbeddings\n",
    "from langchain.schema import Document\n",
    "\n",
    "\n",
    "DEVICE = \"cuda\" if torch.cuda.is_available() else \"cpu\"\n",
    "raw_data_folder = \"Raw_data\"\n",
    "model_name = \"intfloat/multilingual-e5-base\"\n",
    "persist_directory = \"chroma_db\""
   ]
  },
  {
   "cell_type": "code",
   "execution_count": 21,
   "id": "fb89f1b0",
   "metadata": {},
   "outputs": [],
   "source": [
    "txt_files = glob.glob(os.path.join(raw_data_folder, \"*.txt\"))\n",
    "\n",
    "def read_txt_file(file_path):\n",
    "    try:\n",
    "        with open(file_path, 'r', encoding='utf-8') as file:\n",
    "            return file.read()\n",
    "    except FileNotFoundError:\n",
    "        print(f\"File not found: {file_path}\")\n",
    "        return None\n",
    "    \n",
    "def clean_text(text):\n",
    "    #text.to_lower()  # Chuyển đổi chữ hoa thành chữ thường\n",
    "    #text = re.sub(r'#* ', '', text)  # Remove Markdown headers\n",
    "    text = re.sub(r'\\n+', ' ', text)  # Remove newlines\n",
    "    text = text.strip() \n",
    "    return text\n",
    "\n",
    "markdown_text = \"\"\n",
    "\n",
    "for file_path in txt_files:\n",
    "    try:\n",
    "        content = read_txt_file(file_path)\n",
    "        #content = clean_text(content)\n",
    "        if content:\n",
    "            markdown_text += f\"\\n\\n## {os.path.basename(file_path)}\\n\\n{content}\"\n",
    "    except Exception as e:\n",
    "        print(f\"Error reading {file_path}: {e}\")"
   ]
  },
  {
   "cell_type": "code",
   "execution_count": 22,
   "id": "b416bcaf",
   "metadata": {},
   "outputs": [],
   "source": [
    "headers_to_split_on = [\n",
    "            (\"#\", \"Header 1\"),\n",
    "            (\"##\", \"Header 2\"),\n",
    "            (\"###\", \"Header 3\"),\n",
    "            (\"####\", \"Header 4\"),\n",
    "            ]\n",
    "\n",
    "splitter = MarkdownHeaderTextSplitter(\n",
    "    headers_to_split_on = headers_to_split_on\n",
    ")\n",
    "\n",
    "chunks = splitter.split_text(content)\n"
   ]
  },
  {
   "cell_type": "code",
   "execution_count": 23,
   "id": "ba99d39d",
   "metadata": {},
   "outputs": [],
   "source": [
    "documents = []\n",
    "for chunk in chunks:\n",
    "    documents.append({\n",
    "        \"text\": chunk.page_content,\n",
    "        \"metadata\": chunk.metadata  # Giữ lại thông tin header\n",
    "    })"
   ]
  },
  {
   "cell_type": "code",
   "execution_count": 24,
   "id": "2675e97a",
   "metadata": {},
   "outputs": [
    {
     "data": {
      "text/plain": [
       "[{'text': 'Ma trận là một bảng số được sắp xếp theo hàng và cột. Ma trận A có m hàng và n cột được ký hiệu là A(m×n) hoặc A[m,n].  \\nMa trận tổng quát có dạng:\\nA = [a11  a12  ...  a1n]\\n[a21  a22  ...  a2n]\\n[... ...  ...  ...]\\n[am1  am2  ...  amn]  \\nTrong đó aij là phần tử ở hàng i, cột j.',\n",
       "  'metadata': {'Header 1': 'Kiến thức Ma trận - Đại số Tuyến tính',\n",
       "   'Header 2': '1. Định nghĩa Ma trận'}},\n",
       " {'text': 'Ma trận có số hàng bằng số cột (m = n).',\n",
       "  'metadata': {'Header 1': 'Kiến thức Ma trận - Đại số Tuyến tính',\n",
       "   'Header 2': '2. Các loại Ma trận đặc biệt',\n",
       "   'Header 3': 'Ma trận vuông'}},\n",
       " {'text': 'Ma trận vuông I có tất cả các phần tử trên đường chéo chính bằng 1, các phần tử khác bằng 0.  \\nI = [1  0  0]\\n[0  1  0]\\n[0  0  1]',\n",
       "  'metadata': {'Header 1': 'Kiến thức Ma trận - Đại số Tuyến tính',\n",
       "   'Header 2': '2. Các loại Ma trận đặc biệt',\n",
       "   'Header 3': 'Ma trận đơn vị'}},\n",
       " {'text': 'Ma trận có tất cả các phần tử bằng 0.',\n",
       "  'metadata': {'Header 1': 'Kiến thức Ma trận - Đại số Tuyến tính',\n",
       "   'Header 2': '2. Các loại Ma trận đặc biệt',\n",
       "   'Header 3': 'Ma trận không'}},\n",
       " {'text': 'Ma trận AT được tạo từ ma trận A bằng cách đổi hàng thành cột và cột thành hàng.',\n",
       "  'metadata': {'Header 1': 'Kiến thức Ma trận - Đại số Tuyến tính',\n",
       "   'Header 2': '2. Các loại Ma trận đặc biệt',\n",
       "   'Header 3': 'Ma trận chuyển vị'}},\n",
       " {'text': 'Hai ma trận A và B cùng cỡ có thể cộng với nhau:\\n(A + B)ij = aij + bij',\n",
       "  'metadata': {'Header 1': 'Kiến thức Ma trận - Đại số Tuyến tính',\n",
       "   'Header 2': '3. Phép toán Ma trận',\n",
       "   'Header 3': 'Phép cộng ma trận'}},\n",
       " {'text': '(kA)ij = k × aij',\n",
       "  'metadata': {'Header 1': 'Kiến thức Ma trận - Đại số Tuyến tính',\n",
       "   'Header 2': '3. Phép toán Ma trận',\n",
       "   'Header 3': 'Phép nhân ma trận với số'}},\n",
       " {'text': 'Ma trận A(m×p) nhân với ma trận B(p×n) cho kết quả C(m×n):\\ncij = Σ(k=1 to p) aik × bkj  \\nĐiều kiện: Số cột của ma trận thứ nhất phải bằng số hàng của ma trận thứ hai.',\n",
       "  'metadata': {'Header 1': 'Kiến thức Ma trận - Đại số Tuyến tính',\n",
       "   'Header 2': '3. Phép toán Ma trận',\n",
       "   'Header 3': 'Phép nhân ma trận'}},\n",
       " {'text': 'Định thức chỉ tồn tại cho ma trận vuông.',\n",
       "  'metadata': {'Header 1': 'Kiến thức Ma trận - Đại số Tuyến tính',\n",
       "   'Header 2': '4. Định thức Ma trận'}},\n",
       " {'text': '|A| = |a  b| = ad - bc\\n|c  d|',\n",
       "  'metadata': {'Header 1': 'Kiến thức Ma trận - Đại số Tuyến tính',\n",
       "   'Header 2': '4. Định thức Ma trận',\n",
       "   'Header 3': 'Định thức ma trận 2×2:'}},\n",
       " {'text': '|A| = a11(a22×a33 - a23×a32) - a12(a21×a33 - a23×a31) + a13(a21×a32 - a22×a31)',\n",
       "  'metadata': {'Header 1': 'Kiến thức Ma trận - Đại số Tuyến tính',\n",
       "   'Header 2': '4. Định thức Ma trận',\n",
       "   'Header 3': 'Định thức ma trận 3×3:'}},\n",
       " {'text': '1. |AT| = |A|\\n2. |AB| = |A| × |B|\\n3. |kA| = kn|A| (với A là ma trận n×n)\\n4. Nếu |A| = 0 thì A không khả nghịch',\n",
       "  'metadata': {'Header 1': 'Kiến thức Ma trận - Đại số Tuyến tính',\n",
       "   'Header 2': '4. Định thức Ma trận',\n",
       "   'Header 3': 'Tính chất định thức:'}},\n",
       " {'text': 'Ma trận A có ma trận nghịch đảo A⁻¹ nếu AA⁻¹ = A⁻¹A = I  \\nĐiều kiện tồn tại: |A| ≠ 0  \\nCông thức tính: A⁻¹ = (1/|A|) × adj(A)  \\nTrong đó adj(A) là ma trận phụ hợp của A.',\n",
       "  'metadata': {'Header 1': 'Kiến thức Ma trận - Đại số Tuyến tính',\n",
       "   'Header 2': '5. Ma trận Nghịch đảo'}},\n",
       " {'text': 'Hệ phương trình tuyến tính AX = B có thể giải bằng:\\n- Phương pháp Cramer (nếu |A| ≠ 0)\\n- Ma trận nghịch đảo: X = A⁻¹B\\n- Phương pháp Gauss',\n",
       "  'metadata': {'Header 1': 'Kiến thức Ma trận - Đại số Tuyến tính',\n",
       "   'Header 2': '6. Ứng dụng giải hệ phương trình'}},\n",
       " {'text': 'xi = |Ai|/|A|  \\nTrong đó Ai là ma trận được tạo từ A bằng cách thay cột thứ i bằng vector B.',\n",
       "  'metadata': {'Header 1': 'Kiến thức Ma trận - Đại số Tuyến tính',\n",
       "   'Header 2': '6. Ứng dụng giải hệ phương trình',\n",
       "   'Header 3': 'Quy tắc Cramer:'}}]"
      ]
     },
     "execution_count": 24,
     "metadata": {},
     "output_type": "execute_result"
    }
   ],
   "source": [
    "documents"
   ]
  },
  {
   "cell_type": "code",
   "execution_count": 25,
   "id": "43fd8edc",
   "metadata": {},
   "outputs": [],
   "source": [
    "langchain_docs = [\n",
    "    Document(page_content=doc[\"text\"], metadata=doc[\"metadata\"])\n",
    "    for doc in documents\n",
    "]"
   ]
  },
  {
   "cell_type": "code",
   "execution_count": 26,
   "id": "0acb1467",
   "metadata": {},
   "outputs": [
    {
     "data": {
      "text/plain": [
       "[Document(metadata={'Header 1': 'Kiến thức Ma trận - Đại số Tuyến tính', 'Header 2': '1. Định nghĩa Ma trận'}, page_content='Ma trận là một bảng số được sắp xếp theo hàng và cột. Ma trận A có m hàng và n cột được ký hiệu là A(m×n) hoặc A[m,n].  \\nMa trận tổng quát có dạng:\\nA = [a11  a12  ...  a1n]\\n[a21  a22  ...  a2n]\\n[... ...  ...  ...]\\n[am1  am2  ...  amn]  \\nTrong đó aij là phần tử ở hàng i, cột j.'),\n",
       " Document(metadata={'Header 1': 'Kiến thức Ma trận - Đại số Tuyến tính', 'Header 2': '2. Các loại Ma trận đặc biệt', 'Header 3': 'Ma trận vuông'}, page_content='Ma trận có số hàng bằng số cột (m = n).'),\n",
       " Document(metadata={'Header 1': 'Kiến thức Ma trận - Đại số Tuyến tính', 'Header 2': '2. Các loại Ma trận đặc biệt', 'Header 3': 'Ma trận đơn vị'}, page_content='Ma trận vuông I có tất cả các phần tử trên đường chéo chính bằng 1, các phần tử khác bằng 0.  \\nI = [1  0  0]\\n[0  1  0]\\n[0  0  1]'),\n",
       " Document(metadata={'Header 1': 'Kiến thức Ma trận - Đại số Tuyến tính', 'Header 2': '2. Các loại Ma trận đặc biệt', 'Header 3': 'Ma trận không'}, page_content='Ma trận có tất cả các phần tử bằng 0.'),\n",
       " Document(metadata={'Header 1': 'Kiến thức Ma trận - Đại số Tuyến tính', 'Header 2': '2. Các loại Ma trận đặc biệt', 'Header 3': 'Ma trận chuyển vị'}, page_content='Ma trận AT được tạo từ ma trận A bằng cách đổi hàng thành cột và cột thành hàng.'),\n",
       " Document(metadata={'Header 1': 'Kiến thức Ma trận - Đại số Tuyến tính', 'Header 2': '3. Phép toán Ma trận', 'Header 3': 'Phép cộng ma trận'}, page_content='Hai ma trận A và B cùng cỡ có thể cộng với nhau:\\n(A + B)ij = aij + bij'),\n",
       " Document(metadata={'Header 1': 'Kiến thức Ma trận - Đại số Tuyến tính', 'Header 2': '3. Phép toán Ma trận', 'Header 3': 'Phép nhân ma trận với số'}, page_content='(kA)ij = k × aij'),\n",
       " Document(metadata={'Header 1': 'Kiến thức Ma trận - Đại số Tuyến tính', 'Header 2': '3. Phép toán Ma trận', 'Header 3': 'Phép nhân ma trận'}, page_content='Ma trận A(m×p) nhân với ma trận B(p×n) cho kết quả C(m×n):\\ncij = Σ(k=1 to p) aik × bkj  \\nĐiều kiện: Số cột của ma trận thứ nhất phải bằng số hàng của ma trận thứ hai.'),\n",
       " Document(metadata={'Header 1': 'Kiến thức Ma trận - Đại số Tuyến tính', 'Header 2': '4. Định thức Ma trận'}, page_content='Định thức chỉ tồn tại cho ma trận vuông.'),\n",
       " Document(metadata={'Header 1': 'Kiến thức Ma trận - Đại số Tuyến tính', 'Header 2': '4. Định thức Ma trận', 'Header 3': 'Định thức ma trận 2×2:'}, page_content='|A| = |a  b| = ad - bc\\n|c  d|'),\n",
       " Document(metadata={'Header 1': 'Kiến thức Ma trận - Đại số Tuyến tính', 'Header 2': '4. Định thức Ma trận', 'Header 3': 'Định thức ma trận 3×3:'}, page_content='|A| = a11(a22×a33 - a23×a32) - a12(a21×a33 - a23×a31) + a13(a21×a32 - a22×a31)'),\n",
       " Document(metadata={'Header 1': 'Kiến thức Ma trận - Đại số Tuyến tính', 'Header 2': '4. Định thức Ma trận', 'Header 3': 'Tính chất định thức:'}, page_content='1. |AT| = |A|\\n2. |AB| = |A| × |B|\\n3. |kA| = kn|A| (với A là ma trận n×n)\\n4. Nếu |A| = 0 thì A không khả nghịch'),\n",
       " Document(metadata={'Header 1': 'Kiến thức Ma trận - Đại số Tuyến tính', 'Header 2': '5. Ma trận Nghịch đảo'}, page_content='Ma trận A có ma trận nghịch đảo A⁻¹ nếu AA⁻¹ = A⁻¹A = I  \\nĐiều kiện tồn tại: |A| ≠ 0  \\nCông thức tính: A⁻¹ = (1/|A|) × adj(A)  \\nTrong đó adj(A) là ma trận phụ hợp của A.'),\n",
       " Document(metadata={'Header 1': 'Kiến thức Ma trận - Đại số Tuyến tính', 'Header 2': '6. Ứng dụng giải hệ phương trình'}, page_content='Hệ phương trình tuyến tính AX = B có thể giải bằng:\\n- Phương pháp Cramer (nếu |A| ≠ 0)\\n- Ma trận nghịch đảo: X = A⁻¹B\\n- Phương pháp Gauss'),\n",
       " Document(metadata={'Header 1': 'Kiến thức Ma trận - Đại số Tuyến tính', 'Header 2': '6. Ứng dụng giải hệ phương trình', 'Header 3': 'Quy tắc Cramer:'}, page_content='xi = |Ai|/|A|  \\nTrong đó Ai là ma trận được tạo từ A bằng cách thay cột thứ i bằng vector B.')]"
      ]
     },
     "execution_count": 26,
     "metadata": {},
     "output_type": "execute_result"
    }
   ],
   "source": [
    "langchain_docs"
   ]
  },
  {
   "cell_type": "code",
   "execution_count": 27,
   "id": "5530bd95",
   "metadata": {},
   "outputs": [
    {
     "name": "stderr",
     "output_type": "stream",
     "text": [
      "C:\\Users\\dongh\\AppData\\Local\\Temp\\ipykernel_5688\\1942991363.py:1: LangChainDeprecationWarning: The class `HuggingFaceEmbeddings` was deprecated in LangChain 0.2.2 and will be removed in 1.0. An updated version of the class exists in the :class:`~langchain-huggingface package and should be used instead. To use it run `pip install -U :class:`~langchain-huggingface` and import as `from :class:`~langchain_huggingface import HuggingFaceEmbeddings``.\n",
      "  embedding_model = HuggingFaceEmbeddings(\n"
     ]
    }
   ],
   "source": [
    "embedding_model = HuggingFaceEmbeddings(\n",
    "    model_name=model_name,\n",
    "    model_kwargs={\"device\": DEVICE},\n",
    "    encode_kwargs={\"normalize_embeddings\": True}\n",
    ")\n",
    "\n",
    "\n",
    "vectorstore = Chroma.from_documents(\n",
    "    documents=langchain_docs,\n",
    "    embedding=embedding_model,\n",
    "    persist_directory=persist_directory,\n",
    "    collection_name=\"math_vectors\"\n",
    ")"
   ]
  },
  {
   "cell_type": "markdown",
   "id": "c7e9307a",
   "metadata": {},
   "source": [
    "Test"
   ]
  },
  {
   "cell_type": "code",
   "execution_count": null,
   "id": "f8dac3c9",
   "metadata": {},
   "outputs": [],
   "source": [
    "# Load model\n",
    "model = SentenceTransformer(model_name, device=DEVICE)"
   ]
  },
  {
   "cell_type": "code",
   "execution_count": null,
   "id": "c78f5db8",
   "metadata": {},
   "outputs": [],
   "source": [
    "# Tạo embedding\n",
    "texts = [chunk.page_content for chunk in chunks]\n",
    "embeddings = model.encode(texts, \n",
    "                          convert_to_tensor=False,\n",
    "                          normalize_embeddings=True)"
   ]
  },
  {
   "cell_type": "code",
   "execution_count": 10,
   "id": "f7a6d96c",
   "metadata": {},
   "outputs": [
    {
     "data": {
      "text/plain": [
       "array([[ 0.01175354,  0.04333695,  0.01675817, ..., -0.01774279,\n",
       "        -0.02854558,  0.07406582],\n",
       "       [ 0.01095208,  0.0504429 , -0.01873817, ..., -0.02134096,\n",
       "        -0.03130301,  0.03099393]], dtype=float32)"
      ]
     },
     "execution_count": 10,
     "metadata": {},
     "output_type": "execute_result"
    }
   ],
   "source": [
    "embeddings"
   ]
  }
 ],
 "metadata": {
  "kernelspec": {
   "display_name": "Python 3",
   "language": "python",
   "name": "python3"
  },
  "language_info": {
   "codemirror_mode": {
    "name": "ipython",
    "version": 3
   },
   "file_extension": ".py",
   "mimetype": "text/x-python",
   "name": "python",
   "nbconvert_exporter": "python",
   "pygments_lexer": "ipython3",
   "version": "3.10.0"
  }
 },
 "nbformat": 4,
 "nbformat_minor": 5
}
