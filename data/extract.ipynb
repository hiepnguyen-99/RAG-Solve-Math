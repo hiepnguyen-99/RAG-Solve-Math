{
 "cells": [
  {
   "cell_type": "code",
   "execution_count": 1,
   "id": "c69e8076",
   "metadata": {},
   "outputs": [
    {
     "name": "stderr",
     "output_type": "stream",
     "text": [
      "[WARNING 2025-07-23 23:47:06,080 _showwarnmsg:109] d:\\User\\ProjectGithub\\hiepnguyenn-99\\RAG-Solve-Math\\ragmathenv\\lib\\site-packages\\tqdm\\auto.py:21: TqdmWarning: IProgress not found. Please update jupyter and ipywidgets. See https://ipywidgets.readthedocs.io/en/stable/user_install.html\n",
      "  from .autonotebook import tqdm as notebook_tqdm\n",
      " \n"
     ]
    }
   ],
   "source": [
    "import fitz\n",
    "from pix2text import Pix2Text"
   ]
  },
  {
   "cell_type": "code",
   "execution_count": 3,
   "id": "ef0e1658",
   "metadata": {},
   "outputs": [
    {
     "name": "stdout",
     "output_type": "stream",
     "text": [
      "GPU\n"
     ]
    }
   ],
   "source": [
    "import onnxruntime as ort\n",
    "print(ort.get_device())"
   ]
  },
  {
   "cell_type": "markdown",
   "id": "83b4b4b4",
   "metadata": {},
   "source": [
    "# giao_trinh_4.pdf"
   ]
  },
  {
   "cell_type": "code",
   "execution_count": null,
   "id": "89b3d3d7",
   "metadata": {},
   "outputs": [
    {
     "name": "stderr",
     "output_type": "stream",
     "text": [
      "\u001b[32m[INFO] 2025-07-23 23:47:11,815 [RapidOCR] base.py:24: Using engine_name: onnxruntime\u001b[0m\n",
      "\u001b[32m[INFO] 2025-07-23 23:47:11,815 [RapidOCR] main.py:55: Using C:\\Users\\admin\\AppData\\Roaming\\cnstd\\1.2\\ppocr\\ch_PP-OCRv5_det\\ch_PP-OCRv5_det_infer.onnx\u001b[0m\n",
      "Using a slow image processor as `use_fast` is unset and a slow processor was saved with this model. `use_fast=True` will be the default behavior in v4.52, even if the model was saved with a slow processor. This will result in minor differences in outputs. You'll still be able to use a slow processor with `use_fast=False`.\n"
     ]
    },
    {
     "name": "stdout",
     "output_type": "stream",
     "text": [
      "\n",
      "0: 1024x736 9 titles, 11 plain texts, 1 abandon, 5 isolate_formulas, 1341.7ms\n",
      "Speed: 14.8ms preprocess, 1341.7ms inference, 0.0ms postprocess per image at shape (1, 3, 1024, 736)\n",
      "Loading C:\\Users\\admin\\AppData\\Roaming\\pix2text\\1.1\\mfd-onnx\\mfd-v20240618.onnx for ONNX Runtime inference...\n",
      "Using ONNX Runtime CPUExecutionProvider\n",
      "\n",
      "WARNING imgsz=[617, 1024] must be multiple of max stride 32, updating to [640, 1024]\n",
      "0: 640x1024 1 embedding, 284.8ms\n",
      "Speed: 5.0ms preprocess, 284.8ms inference, 1.8ms postprocess per image at shape (1, 3, 640, 1024)\n"
     ]
    },
    {
     "name": "stderr",
     "output_type": "stream",
     "text": [
      "100%|██████████| 1/1 [00:00<00:00,  4.95it/s]\n"
     ]
    },
    {
     "name": "stdout",
     "output_type": "stream",
     "text": [
      "\n",
      "WARNING imgsz=[111, 1536] must be multiple of max stride 32, updating to [128, 1536]\n",
      "0: 128x1536 1 embedding, 59.9ms\n",
      "Speed: 1.2ms preprocess, 59.9ms inference, 15.2ms postprocess per image at shape (1, 3, 128, 1536)\n"
     ]
    },
    {
     "name": "stderr",
     "output_type": "stream",
     "text": [
      "100%|██████████| 1/1 [00:00<00:00,  5.16it/s]\n",
      "100%|██████████| 1/1 [00:03<00:00,  3.30s/it]"
     ]
    },
    {
     "name": "stdout",
     "output_type": "stream",
     "text": [
      "\n",
      "WARNING imgsz=[462, 1024] must be multiple of max stride 32, updating to [480, 1024]\n",
      "0: 480x1024 1 isolated, 160.0ms\n",
      "Speed: 3.8ms preprocess, 160.0ms inference, 1.8ms postprocess per image at shape (1, 3, 480, 1024)\n"
     ]
    },
    {
     "name": "stderr",
     "output_type": "stream",
     "text": [
      "\n",
      "100%|██████████| 1/1 [00:00<00:00,  3.52it/s]\n",
      "100%|██████████| 1/1 [00:01<00:00,  1.33s/it]"
     ]
    },
    {
     "name": "stdout",
     "output_type": "stream",
     "text": [
      "\n",
      "WARNING imgsz=[91, 1024] must be multiple of max stride 32, updating to [96, 1024]\n",
      "0: 96x1024 4 embeddings, 33.9ms\n",
      "Speed: 1.0ms preprocess, 33.9ms inference, 3.0ms postprocess per image at shape (1, 3, 96, 1024)\n"
     ]
    },
    {
     "name": "stderr",
     "output_type": "stream",
     "text": [
      "\n",
      "100%|██████████| 4/4 [00:00<00:00,  5.03it/s]\n",
      "100%|██████████| 1/1 [00:00<00:00,  1.36it/s]"
     ]
    },
    {
     "name": "stdout",
     "output_type": "stream",
     "text": [
      "\n",
      "WARNING imgsz=[126, 1024] must be multiple of max stride 32, updating to [128, 1024]\n",
      "0: 128x1024 2 embeddings, 38.6ms\n",
      "Speed: 2.1ms preprocess, 38.6ms inference, 0.9ms postprocess per image at shape (1, 3, 128, 1024)\n"
     ]
    },
    {
     "name": "stderr",
     "output_type": "stream",
     "text": [
      "\n",
      "100%|██████████| 2/2 [00:00<00:00,  5.52it/s]\n"
     ]
    },
    {
     "name": "stdout",
     "output_type": "stream",
     "text": [
      "\n",
      "WARNING imgsz=[147, 1024] must be multiple of max stride 32, updating to [160, 1024]\n",
      "0: 160x1024 6 embeddings, 64.4ms\n",
      "Speed: 2.2ms preprocess, 64.4ms inference, 2.8ms postprocess per image at shape (1, 3, 160, 1024)\n"
     ]
    },
    {
     "name": "stderr",
     "output_type": "stream",
     "text": [
      "100%|██████████| 6/6 [00:01<00:00,  4.38it/s]\n"
     ]
    },
    {
     "name": "stdout",
     "output_type": "stream",
     "text": [
      "\n",
      "0: 96x1024 3 embeddings, 29.1ms\n",
      "Speed: 0.8ms preprocess, 29.1ms inference, 4.4ms postprocess per image at shape (1, 3, 96, 1024)\n"
     ]
    },
    {
     "name": "stderr",
     "output_type": "stream",
     "text": [
      "100%|██████████| 3/3 [00:00<00:00,  4.05it/s]\n"
     ]
    },
    {
     "name": "stdout",
     "output_type": "stream",
     "text": [
      "\n",
      "WARNING imgsz=[79, 1024] must be multiple of max stride 32, updating to [96, 1024]\n",
      "0: 96x1024 3 embeddings, 29.4ms\n",
      "Speed: 1.3ms preprocess, 29.4ms inference, 1.0ms postprocess per image at shape (1, 3, 96, 1024)\n"
     ]
    },
    {
     "name": "stderr",
     "output_type": "stream",
     "text": [
      "100%|██████████| 3/3 [00:00<00:00,  4.41it/s]\n"
     ]
    },
    {
     "name": "stdout",
     "output_type": "stream",
     "text": [
      "\n",
      "WARNING imgsz=[103, 1024] must be multiple of max stride 32, updating to [128, 1024]\n",
      "0: 128x1024 1 embedding, 39.2ms\n",
      "Speed: 2.0ms preprocess, 39.2ms inference, 1.0ms postprocess per image at shape (1, 3, 128, 1024)\n"
     ]
    },
    {
     "name": "stderr",
     "output_type": "stream",
     "text": [
      "100%|██████████| 1/1 [00:00<00:00,  5.50it/s]\n",
      "100%|██████████| 1/1 [00:00<00:00,  1.72it/s]"
     ]
    },
    {
     "name": "stdout",
     "output_type": "stream",
     "text": [
      "\n",
      "WARNING imgsz=[186, 1024] must be multiple of max stride 32, updating to [192, 1024]\n",
      "0: 192x1024 (no detections), 63.6ms\n",
      "Speed: 1.4ms preprocess, 63.6ms inference, 0.7ms postprocess per image at shape (1, 3, 192, 1024)\n"
     ]
    },
    {
     "name": "stderr",
     "output_type": "stream",
     "text": [
      "\n",
      "0it [00:00, ?it/s]\n"
     ]
    },
    {
     "name": "stdout",
     "output_type": "stream",
     "text": [
      "\n",
      "WARNING imgsz=[1447, 1024] must be multiple of max stride 32, updating to [1472, 1024]\n",
      "0: 1472x1024 (no detections), 531.7ms\n",
      "Speed: 13.6ms preprocess, 531.7ms inference, 1.2ms postprocess per image at shape (1, 3, 1472, 1024)\n"
     ]
    },
    {
     "name": "stderr",
     "output_type": "stream",
     "text": [
      "0it [00:00, ?it/s]\n"
     ]
    },
    {
     "name": "stdout",
     "output_type": "stream",
     "text": [
      "Chương 1\n",
      "\n",
      "Ma trận\n",
      "\n",
      "Nội dung\n",
      "\n",
      "• Định nghĩa và ví dụ.\n",
      "\n",
      "• Các phép biến đổi sơ cấp.\n",
      "\n",
      "• Các phép toán đối với ma trận.\n",
      "\n",
      "• Hạng của ma trận.\n",
      "\n",
      "• Ma trận nghịch đảo.\n",
      "\n",
      "1.1\n",
      "Các khái niệm cơ bản\n",
      "\n",
      "Định nghĩa 1.1 (Ma trận) .\n",
      "Ma trận cỡm × n là một bảng số(thực hoặc phức) hình chữnhật có m hàng và n cột.\n",
      "\n",
      "$$ A=\\left( \\begin{matrix} {a_{1 1}} & {\\cdots} & {a_{1 j}} & {\\cdots} & {a_{1 n}} \\\\ {\\cdots} & {\\cdots} & {\\cdots} & {\\cdots} & {\\cdots} \\\\ {a_{i 1}} & {\\cdots} & {a_{i j}} & {\\cdots} & {a_{i n}} \\\\ {\\cdots} & {\\cdots} & {\\cdots} & {\\cdots} & {\\cdots} \\\\ {a_{m 1}} & {\\cdots} & {a_{m j}} & {\\cdots} & {a_{m n}} \\\\ \\end{matrix} \\right)\n",
      " $$\n",
      "\n",
      "\n",
      "\n",
      "\n",
      "\n",
      "\n",
      "\n",
      "\n",
      "\n",
      "\n",
      "\n",
      "\n",
      "\n",
      "\n",
      "\n",
      "\n",
      "\n",
      "\n",
      "\n",
      "\n",
      "\n",
      "\n",
      "\n",
      "\n",
      "\n",
      "\n",
      "\n",
      "\n",
      "\n",
      "\n",
      "\n",
      "\n",
      "\n",
      "\n",
      "\n",
      "\n",
      "\n",
      "\n",
      "\n",
      "\n",
      "\n",
      "\n",
      "\n",
      "Ví dụ1.1\n",
      "\n",
      "$$ A=\\left( \\begin{matrix} {3} & {4} & {1} \\\\ {2} & {0} & {5} \\\\ \\end{matrix} \\right)_{2 \\times3}, B=\\left( \\begin{matrix} {1+i} & {2} \\\\ {3-i} & {4 i} \\\\ \\end{matrix} \\right)\n",
      " $$\n",
      "\n",
      "\n",
      "\n",
      "\n",
      "\n",
      "\n",
      "\n",
      "\n",
      "\n",
      "\n",
      "\n",
      "\n",
      "\n",
      "\n",
      "\n",
      "\n",
      "\n",
      "\n",
      "A là ma trận cỡ2 × 3 có 2 hàng và 3 cột. Các phần tửcủa ma trận A:\n",
      "\n",
      "$$ a_{1 1}=3, a_{1 2}=4, a_{1 3}=1, a_{2 1}=2, a_{2 2}=0, a_{3 2}=5.\n",
      " $$\n",
      "\n",
      "B là ma trận cỡ2 × 2 có các phần tửtrong phức.\n",
      "\n",
      "Ghi chú\n",
      "\n",
      "• Ma trận A cỡm × n thường được ký hiệu bởi A = (aij)m×n.\n",
      "\n",
      "• Tập tất cảcác ma trận cỡm×n trên trường sốK được ký hiệu Mm×n(K).\n",
      "\n",
      "Ma trận không.\n",
      "Ma trận không có tất cảcác phần tửbằng 0, ký hiệu là 0\n",
      "\n",
      "$$ 0_{2 \\times3}=\\left( \\begin{matrix} {0} & {0} & {0} \\\\ {0} & {0} & {0} \\\\ \\end{matrix} \\right).\n",
      " $$\n",
      "\n",
      "\n",
      "\n",
      "\n",
      "\n",
      "\n",
      "\n",
      "\n",
      "\n",
      "\n",
      "Có vô sốma trận 0 tùy theo cỡ.\n",
      "\n",
      "11\n",
      "\n",
      "\n"
     ]
    }
   ],
   "source": [
    "# trích suất trang đầu phần 1.1 Các khái niệm cơ bản\n",
    "\n",
    "# kiểm tra giao nhau\n",
    "def intersects(b1, b2):\n",
    "    x0, y0, x1, y1 = b1\n",
    "    X0, Y0, X1, Y1 = b2\n",
    "    return not (x0 > X1 or y0 > Y1 or x1 < X0 or y1 < Y0)\n",
    "\n",
    "# phát hiện công thức và chuyển thành latex\n",
    "def extract_text_and_formula(page):\n",
    "    layout = page.get_text(\n",
    "        'dict',\n",
    "        sort=True\n",
    "        )\n",
    "    pix = page.get_pixmap(dpi=300)\n",
    "    img = pix.pil_image() # chuyển về ảnh pil\n",
    "    \n",
    "    dpi = 300\n",
    "    zoom = dpi/72.0 # 1 point = 1/72 inch (pt->px)\n",
    "    mat_forward = fitz.Matrix(zoom, zoom)\n",
    "    mat = ~mat_forward # ma trận nghịch đảo (px->pt)\n",
    "\n",
    "    # phát hiện công thức trong ảnh\n",
    "    page_obj = p2t.recognize_page(\n",
    "        img,\n",
    "        file_type='text_formula',\n",
    "        resized_shape=1024,\n",
    "        return_text=False,\n",
    "        save_debug_res=None\n",
    "    )\n",
    "    formulas = [e for e in page_obj.elements if e.type.name == 'FORMULA']\n",
    "\n",
    "    seen_formula = set()\n",
    "    for f in formulas:\n",
    "        r_px = fitz.Rect(f.box) # region (x0, y0, x1, y1)\n",
    "        r_pt = r_px * mat\n",
    "        latex = f.text\n",
    "        # lấy khối văn bản\n",
    "        for block in layout['blocks']:\n",
    "            # lấy dòng văn bản trong khối\n",
    "            for line in block.get('lines', []):\n",
    "                kept = []\n",
    "                for span in line['spans']:\n",
    "                    sb = fitz.Rect(span['bbox'])\n",
    "                    overlap = abs(sb & r_pt)\n",
    "                    # giữ lại spans có phần giao với công thức ko quá 80% span\n",
    "                    if overlap < 0.8 * abs(sb):\n",
    "                        kept.append(span)\n",
    "                    else:\n",
    "                        if not latex in seen_formula:\n",
    "                            kept.append({\n",
    "                                'type': 'formula',\n",
    "                                'text': f'$$ {latex} $$',\n",
    "                                'bbox': r_pt\n",
    "                            })\n",
    "                            seen_formula.add(latex)\n",
    "                line['spans'] = kept\n",
    "    return layout\n",
    "\n",
    "# chuyển pdf về markdown\n",
    "def render_md(layout):\n",
    "    md = ''\n",
    "    for block in layout['blocks']:\n",
    "        for line in block.get('lines', []):\n",
    "            spans = sorted(line['spans'], key=lambda s: s['bbox'][0])\n",
    "            for s in spans:\n",
    "                md += s['text']\n",
    "            md += '\\n'\n",
    "        md += '\\n'\n",
    "    return md\n",
    "\n",
    "p2t = Pix2Text.from_config(\n",
    "    analyzer_config={\n",
    "        \"model_name\": \"mfd-pro\",\n",
    "        \"model_backend\": \"onnx\"\n",
    "    },\n",
    "    formula_ocr_config={\n",
    "        \"model_name\": \"mfr-pro\",\n",
    "        \"model_backend\": \"onnx\"\n",
    "    }\n",
    ")\n",
    "\n",
    "doc = fitz.open('source/giao_trinh_4.pdf')\n",
    "page = doc.load_page(11)\n",
    "layout = extract_text_and_formula(page)\n",
    "md = render_md(layout)\n",
    "print(md)"
   ]
  },
  {
   "cell_type": "code",
   "execution_count": null,
   "id": "6739d000",
   "metadata": {},
   "outputs": [],
   "source": [
    "with open('extracted/giao_trinh_4.md', 'w', encoding='utf-8') as f:\n",
    "    for line in md.splitlines():\n",
    "        if line.strip():\n",
    "            f.write(line + '\\n')"
   ]
  }
 ],
 "metadata": {
  "kernelspec": {
   "display_name": "ragmathenv",
   "language": "python",
   "name": "python3"
  },
  "language_info": {
   "codemirror_mode": {
    "name": "ipython",
    "version": 3
   },
   "file_extension": ".py",
   "mimetype": "text/x-python",
   "name": "python",
   "nbconvert_exporter": "python",
   "pygments_lexer": "ipython3",
   "version": "3.10.10"
  }
 },
 "nbformat": 4,
 "nbformat_minor": 5
}
