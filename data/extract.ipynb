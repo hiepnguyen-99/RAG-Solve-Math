{
 "cells": [
  {
   "cell_type": "code",
   "execution_count": 17,
   "id": "c69e8076",
   "metadata": {},
   "outputs": [],
   "source": [
    "import fitz, re\n",
    "from pix2text import Pix2Text"
   ]
  },
  {
   "cell_type": "code",
   "execution_count": 8,
   "id": "ef0e1658",
   "metadata": {},
   "outputs": [
    {
     "name": "stdout",
     "output_type": "stream",
     "text": [
      "Providers: ['TensorrtExecutionProvider', 'CUDAExecutionProvider', 'CPUExecutionProvider']\n",
      "Device: GPU\n"
     ]
    }
   ],
   "source": [
    "import onnxruntime as ort\n",
    "print(\"Providers:\", ort.get_available_providers())\n",
    "print(\"Device:\", ort.get_device())\n"
   ]
  },
  {
   "cell_type": "markdown",
   "id": "83b4b4b4",
   "metadata": {},
   "source": [
    "# giao_trinh_4.pdf"
   ]
  },
  {
   "cell_type": "code",
   "execution_count": null,
   "id": "f3f14590",
   "metadata": {},
   "outputs": [
    {
     "name": "stderr",
     "output_type": "stream",
     "text": [
      "\u001b[32m[INFO] 2025-07-24 01:50:40,867 [RapidOCR] base.py:24: Using engine_name: onnxruntime\u001b[0m\n",
      "\u001b[32m[INFO] 2025-07-24 01:50:40,869 [RapidOCR] main.py:55: Using C:\\Users\\admin\\AppData\\Roaming\\cnstd\\1.2\\ppocr\\ch_PP-OCRv5_det\\ch_PP-OCRv5_det_infer.onnx\u001b[0m\n"
     ]
    },
    {
     "name": "stdout",
     "output_type": "stream",
     "text": [
      "\n",
      "0: 1024x736 7 titles, 11 plain texts, 1 abandon, 4 isolate_formulas, 1125.5ms\n",
      "Speed: 11.1ms preprocess, 1125.5ms inference, 2.0ms postprocess per image at shape (1, 3, 1024, 736)\n",
      "Loading C:\\Users\\admin\\AppData\\Roaming\\pix2text\\1.1\\mfd-onnx\\mfd-v20240618.onnx for ONNX Runtime inference...\n",
      "Using ONNX Runtime CPUExecutionProvider\n",
      "\n",
      "WARNING imgsz=[649, 1024] must be multiple of max stride 32, updating to [672, 1024]\n",
      "0: 672x1024 (no detections), 255.6ms\n",
      "Speed: 5.5ms preprocess, 255.6ms inference, 1.3ms postprocess per image at shape (1, 3, 672, 1024)\n"
     ]
    },
    {
     "name": "stderr",
     "output_type": "stream",
     "text": [
      "0it [00:00, ?it/s]\n"
     ]
    },
    {
     "name": "stdout",
     "output_type": "stream",
     "text": [
      "\n",
      "WARNING imgsz=[109, 1024] must be multiple of max stride 32, updating to [128, 1024]\n",
      "0: 128x1024 2 embeddings, 42.1ms\n",
      "Speed: 0.9ms preprocess, 42.1ms inference, 0.9ms postprocess per image at shape (1, 3, 128, 1024)\n"
     ]
    },
    {
     "name": "stderr",
     "output_type": "stream",
     "text": [
      "100%|██████████| 2/2 [00:00<00:00,  5.47it/s]\n",
      "100%|██████████| 1/1 [00:02<00:00,  2.83s/it]"
     ]
    },
    {
     "name": "stdout",
     "output_type": "stream",
     "text": [
      "\n",
      "WARNING imgsz=[577, 1024] must be multiple of max stride 32, updating to [608, 1024]\n"
     ]
    },
    {
     "name": "stderr",
     "output_type": "stream",
     "text": [
      "\n"
     ]
    },
    {
     "name": "stdout",
     "output_type": "stream",
     "text": [
      "0: 608x1024 1 isolated, 197.2ms\n",
      "Speed: 4.5ms preprocess, 197.2ms inference, 2.0ms postprocess per image at shape (1, 3, 608, 1024)\n"
     ]
    },
    {
     "name": "stderr",
     "output_type": "stream",
     "text": [
      "100%|██████████| 1/1 [00:00<00:00,  4.23it/s]\n",
      "100%|██████████| 1/1 [00:01<00:00,  1.04s/it]"
     ]
    },
    {
     "name": "stdout",
     "output_type": "stream",
     "text": [
      "\n",
      "WARNING imgsz=[126, 1024] must be multiple of max stride 32, updating to [128, 1024]\n",
      "0: 128x1024 3 embeddings, 44.6ms\n",
      "Speed: 1.0ms preprocess, 44.6ms inference, 2.1ms postprocess per image at shape (1, 3, 128, 1024)\n"
     ]
    },
    {
     "name": "stderr",
     "output_type": "stream",
     "text": [
      "\n",
      "100%|██████████| 3/3 [00:00<00:00,  5.30it/s]\n",
      "100%|██████████| 1/1 [00:00<00:00,  1.59it/s]"
     ]
    },
    {
     "name": "stdout",
     "output_type": "stream",
     "text": [
      "\n",
      "WARNING imgsz=[171, 1024] must be multiple of max stride 32, updating to [192, 1024]\n",
      "0: 192x1024 2 embeddings, 61.5ms\n",
      "Speed: 1.5ms preprocess, 61.5ms inference, 1.1ms postprocess per image at shape (1, 3, 192, 1024)\n"
     ]
    },
    {
     "name": "stderr",
     "output_type": "stream",
     "text": [
      "\n",
      "100%|██████████| 2/2 [00:00<00:00,  6.09it/s]\n"
     ]
    },
    {
     "name": "stdout",
     "output_type": "stream",
     "text": [
      "\n",
      "WARNING imgsz=[180, 1024] must be multiple of max stride 32, updating to [192, 1024]\n",
      "0: 192x1024 6 embeddings, 69.6ms\n",
      "Speed: 2.1ms preprocess, 69.6ms inference, 1.2ms postprocess per image at shape (1, 3, 192, 1024)\n"
     ]
    },
    {
     "name": "stderr",
     "output_type": "stream",
     "text": [
      "100%|██████████| 6/6 [00:01<00:00,  5.15it/s]\n"
     ]
    },
    {
     "name": "stdout",
     "output_type": "stream",
     "text": [
      "\n",
      "WARNING imgsz=[138, 1024] must be multiple of max stride 32, updating to [160, 1024]\n",
      "0: 160x1024 3 embeddings, 51.3ms\n",
      "Speed: 1.3ms preprocess, 51.3ms inference, 1.0ms postprocess per image at shape (1, 3, 160, 1024)\n"
     ]
    },
    {
     "name": "stderr",
     "output_type": "stream",
     "text": [
      "100%|██████████| 3/3 [00:00<00:00,  4.97it/s]\n"
     ]
    },
    {
     "name": "stdout",
     "output_type": "stream",
     "text": [
      "\n",
      "WARNING imgsz=[115, 1024] must be multiple of max stride 32, updating to [128, 1024]\n",
      "0: 128x1024 3 embeddings, 50.8ms\n",
      "Speed: 2.8ms preprocess, 50.8ms inference, 1.3ms postprocess per image at shape (1, 3, 128, 1024)\n"
     ]
    },
    {
     "name": "stderr",
     "output_type": "stream",
     "text": [
      "100%|██████████| 3/3 [00:00<00:00,  4.90it/s]\n"
     ]
    },
    {
     "name": "stdout",
     "output_type": "stream",
     "text": [
      "\n",
      "WARNING imgsz=[150, 1024] must be multiple of max stride 32, updating to [160, 1024]\n",
      "0: 160x1024 (no detections), 48.7ms\n",
      "Speed: 1.1ms preprocess, 48.7ms inference, 0.7ms postprocess per image at shape (1, 3, 160, 1024)\n"
     ]
    },
    {
     "name": "stderr",
     "output_type": "stream",
     "text": [
      "0it [00:00, ?it/s]\n",
      "100%|██████████| 1/1 [00:00<00:00,  1.56it/s]"
     ]
    },
    {
     "name": "stdout",
     "output_type": "stream",
     "text": [
      "\n",
      "WARNING imgsz=[264, 1024] must be multiple of max stride 32, updating to [288, 1024]\n",
      "0: 288x1024 (no detections), 94.0ms\n",
      "Speed: 1.8ms preprocess, 94.0ms inference, 0.7ms postprocess per image at shape (1, 3, 288, 1024)\n"
     ]
    },
    {
     "name": "stderr",
     "output_type": "stream",
     "text": [
      "\n",
      "0it [00:00, ?it/s]\n"
     ]
    },
    {
     "name": "stdout",
     "output_type": "stream",
     "text": [
      "\n",
      "WARNING imgsz=[1447, 1024] must be multiple of max stride 32, updating to [1472, 1024]\n",
      "0: 1472x1024 (no detections), 529.7ms\n",
      "Speed: 14.4ms preprocess, 529.7ms inference, 0.8ms postprocess per image at shape (1, 3, 1472, 1024)\n"
     ]
    },
    {
     "name": "stderr",
     "output_type": "stream",
     "text": [
      "0it [00:00, ?it/s]\n"
     ]
    },
    {
     "name": "stdout",
     "output_type": "stream",
     "text": [
      "Chương 1\n",
      "\n",
      "Ma trận\n",
      "\n",
      "Nội dung\n",
      "\n",
      "• Định nghĩa và ví dụ.\n",
      "\n",
      "• Các phép biến đổi sơ cấp.\n",
      "\n",
      "• Các phép toán đối với ma trận.\n",
      "\n",
      "• Hạng của ma trận.\n",
      "\n",
      "• Ma trận nghịch đảo.\n",
      "\n",
      "1.1\n",
      "Các khái niệm cơ bản\n",
      "\n",
      "Định nghĩa 1.1 (Ma trận) .\n",
      "Ma trận cỡm × n là một bảng số(thực hoặc phức) hình chữnhật có m hàng và n cột.\n",
      "\n",
      "$$ A=\\left( \\begin{matrix} {a_{1 1}} & {\\ldots} & {a_{1 j}} & {\\ldots} & {a_{1 n}} \\\\ {\\ldots} & {\\ldots} & {\\ldots} & {\\ldots} & {\\ldots} \\\\ {a_{i 1}} & {\\ldots} & {a_{i j}} & {\\ldots} & {a_{i n}} \\\\ {\\ldots} & {\\ldots} & {\\ldots} & {\\ldots} & {\\ldots} \\\\ {a_{m 1}} & {\\ldots} & {a_{m j}} & {\\ldots} & {a_{m n}} \\\\ \\end{matrix} \\right)\n",
      " $$\n",
      "\n",
      "\n",
      "\n",
      "\n",
      "\n",
      "\n",
      "\n",
      "\n",
      "\n",
      "\n",
      "\n",
      "\n",
      "\n",
      "\n",
      "\n",
      "\n",
      "\n",
      "\n",
      "\n",
      "\n",
      "\n",
      "\n",
      "\n",
      "\n",
      "\n",
      "\n",
      "\n",
      "\n",
      "\n",
      "\n",
      "\n",
      "\n",
      "\n",
      "\n",
      "\n",
      "\n",
      "\n",
      "\n",
      "\n",
      "\n",
      "\n",
      "\n",
      "\n",
      "Ví dụ1.1\n",
      "\n",
      "$$ A=\\left( \\begin{matrix} {3} & {4} & {1} \\\\ {2} & {0} & {5} \\\\ \\end{matrix} \\right)_{2 \\times3}, B=\\left( \\begin{matrix} {1+i} & {2} \\\\ {3-i} & {4 i} \\\\ \\end{matrix} \\right)\n",
      " $$\n",
      "\n",
      "\n",
      "\n",
      "\n",
      "\n",
      "\n",
      "\n",
      "\n",
      "\n",
      "\n",
      "\n",
      "\n",
      "\n",
      "\n",
      "\n",
      "\n",
      "\n",
      "\n",
      "A là ma trận cỡ2 × 3 có 2 hàng và 3 cột. Các phần tửcủa ma trận A:\n",
      "\n",
      "$$ a_{1 1}=3, a_{1 2}=4, a_{1 3}=1, a_{2 1}=2, a_{2 2}=0, a_{3 2}=5.\n",
      " $$\n",
      "\n",
      "B là ma trận cỡ2 × 2 có các phần tửtrong phức.\n",
      "\n",
      "Ghi chú\n",
      "\n",
      "• Ma trận A cỡm × n thường được ký hiệu bởi A = (aij)m×n.\n",
      "\n",
      "• Tập tất cảcác ma trận cỡm×n trên trường sốK được ký hiệu Mm×n(K).\n",
      "\n",
      "Ma trận không.\n",
      "Ma trận không có tất cảcác phần tửbằng 0, ký hiệu là 0\n",
      "\n",
      "$$ 0_{2 \\times3}=\\left( \\begin{matrix} {0} & {0} & {0} \\\\ {0} & {0} & {0} \\\\ \\end{matrix} \\right).\n",
      " $$\n",
      "\n",
      "\n",
      "\n",
      "\n",
      "\n",
      "\n",
      "\n",
      "\n",
      "\n",
      "\n",
      "Có vô sốma trận 0 tùy theo cỡ.\n",
      "\n",
      "11\n",
      "\n",
      "\n"
     ]
    }
   ],
   "source": [
    "# trích suất trang đầu phần 1.1 Các khái niệm cơ bản\n",
    "\n",
    "# kiểm tra giao nhau\n",
    "def intersects(b1, b2):\n",
    "    x0, y0, x1, y1 = b1\n",
    "    X0, Y0, X1, Y1 = b2\n",
    "    return not (x0 > X1 or y0 > Y1 or x1 < X0 or y1 < Y0)\n",
    "\n",
    "# phát hiện công thức và chuyển thành latex\n",
    "def extract_text_and_formula(page):\n",
    "    layout = page.get_text(\n",
    "        'dict',\n",
    "        sort=True\n",
    "        )\n",
    "    dpi = 150\n",
    "    pix = page.get_pixmap(dpi=dpi)\n",
    "    img = pix.pil_image() # chuyển về ảnh pil\n",
    "    zoom = dpi/72.0 # 1 point = 1/72 inch (pt->px)\n",
    "    mat_forward = fitz.Matrix(zoom, zoom)\n",
    "    mat_inverse = ~mat_forward # ma trận nghịch đảo (px->pt)\n",
    "\n",
    "    # phát hiện công thức trong ảnh\n",
    "    page_obj = p2t.recognize_page(\n",
    "        img,\n",
    "        file_type='text_formula',\n",
    "        resized_shape=1024,\n",
    "        return_text=False,\n",
    "        save_debug_res=None\n",
    "    )\n",
    "\n",
    "    formulas = []\n",
    "    if page_obj:\n",
    "        formulas = [\n",
    "            {\n",
    "                'bbox_pt': fitz.Rect(f.box) * mat_inverse, # chuyển luôn về đơn vị point\n",
    "                'latex': f.text\n",
    "            }\n",
    "            for f in page_obj.elements if f.type.name == \"FORMULA\"\n",
    "        ]\n",
    "\n",
    "    if not formulas:\n",
    "        return layout\n",
    "    \n",
    "    seen_formulas = set()\n",
    "    for block in layout.get('blocks', []):\n",
    "        if block['type'] != 0: # chuỗi văn bản có type == 0\n",
    "            continue\n",
    "        \n",
    "        for line in block.get('lines', []):\n",
    "            line_bbox = fitz.Rect(line['bbox']) # pt\n",
    "            relevant_formulas = [f for f in formulas if intersects(line_bbox, f['bbox_pt'])]\n",
    "            if not relevant_formulas:\n",
    "                continue\n",
    "\n",
    "            new_spans = []\n",
    "            original_spans = line['spans']\n",
    "            # xác định span cần loại vì có ít hơn (cải thiện hiệu suất)\n",
    "            spans_to_remove_idx = set()\n",
    "            for i, span in enumerate(original_spans):\n",
    "                sb = fitz.Rect(span['bbox'])\n",
    "                for f in relevant_formulas:\n",
    "                    r_pt = f['bbox_pt']\n",
    "                    overlap = abs(sb & r_pt)\n",
    "                    if overlap > 0.8 * abs(sb):\n",
    "                        spans_to_remove_idx.add(i)\n",
    "                        break\n",
    "\n",
    "            for i, span in enumerate(original_spans):\n",
    "                if i not in spans_to_remove_idx:\n",
    "                    new_spans.append(span)\n",
    "\n",
    "            for f in relevant_formulas:\n",
    "                if f['latex'] not in seen_formulas:\n",
    "                    new_spans.append({\n",
    "                        'type': 'formula',\n",
    "                        'text': f\"$$ {f['latex']} $$\",\n",
    "                        'bbox': f['bbox_pt']\n",
    "                    })\n",
    "                    seen_formulas.add(f['latex'])\n",
    "            line['spans'] = sorted(new_spans, key=lambda s: s['bbox'][0])\n",
    "    return layout\n",
    "\n",
    "# chuyển pdf về markdown\n",
    "def render_md(layout):\n",
    "    md = ''\n",
    "    for block in layout['blocks']:\n",
    "        for line in block['lines']:\n",
    "            spans = line['spans']\n",
    "            line_text = ''\n",
    "            for i, s in enumerate(spans):\n",
    "                text = s['text']\n",
    "                if i == 0:\n",
    "                    line_text += text\n",
    "                else:\n",
    "                    pre = spans[i-1]['text']\n",
    "                    if pre and pre[-1] != ' ' and text and text[0] != ' ':\n",
    "                        line_text += ' ' + text\n",
    "                    else:\n",
    "                        line_text += text\n",
    "            md += line_text + '\\n'\n",
    "        md += '\\n'\n",
    "    return md\n",
    "\n",
    "providers = ['CUDAExecusionProvider', 'CPUExecutionProvider']\n",
    "\n",
    "p2t = Pix2Text.from_config(\n",
    "    analyzer_config={\n",
    "        \"model_name\": \"mfd-pro\",\n",
    "        \"model_backend\": \"onnx\",\n",
    "        \"providers\": providers,\n",
    "    },\n",
    "    formula_ocr_config={\n",
    "        \"model_name\": \"mfr-pro\",\n",
    "        \"model_backend\": \"onnx\",\n",
    "        \"providers\": providers,\n",
    "    }\n",
    ")\n",
    "\n",
    "doc = fitz.open('source/giao_trinh_4.pdf')\n",
    "page = doc.load_page(11)\n",
    "layout = extract_text_and_formula(page)\n",
    "md = render_md(layout)\n",
    "print(md)"
   ]
  },
  {
   "cell_type": "code",
   "execution_count": 29,
   "id": "95a03699",
   "metadata": {},
   "outputs": [
    {
     "name": "stdout",
     "output_type": "stream",
     "text": [
      "Chương 1\n",
      "\n",
      "Ma trận\n",
      "\n",
      "Nội dung\n",
      "\n",
      "• Định nghĩa và ví dụ.\n",
      "\n",
      "• Các phép biến đổi sơ cấp.\n",
      "\n",
      "• Các phép toán đối với ma trận.\n",
      "\n",
      "• Hạng của ma trận.\n",
      "\n",
      "• Ma trận nghịch đảo.\n",
      "\n",
      "1.1\n",
      "Các khái niệm cơ bản\n",
      "\n",
      "Định nghĩa 1.1 (Ma trận) .\n",
      "Ma trận cỡ m × n là một bảng số(thực hoặc phức) hình chữnhật có m hàng và n cột.\n",
      "\n",
      "$$ A=\\left( \\begin{matrix} {a_{1 1}} & {\\ldots} & {a_{1 j}} & {\\ldots} & {a_{1 n}} \\\\ {\\ldots} & {\\ldots} & {\\ldots} & {\\ldots} & {\\ldots} \\\\ {a_{i 1}} & {\\ldots} & {a_{i j}} & {\\ldots} & {a_{i n}} \\\\ {\\ldots} & {\\ldots} & {\\ldots} & {\\ldots} & {\\ldots} \\\\ {a_{m 1}} & {\\ldots} & {a_{m j}} & {\\ldots} & {a_{m n}} \\\\ \\end{matrix} \\right)\n",
      " $$\n",
      "\n",
      "\n",
      "\n",
      "\n",
      "\n",
      "\n",
      "\n",
      "\n",
      "\n",
      "\n",
      "\n",
      "\n",
      "\n",
      "\n",
      "\n",
      "\n",
      "\n",
      "\n",
      "\n",
      "\n",
      "\n",
      "\n",
      "\n",
      "\n",
      "\n",
      "\n",
      "\n",
      "\n",
      "\n",
      "\n",
      "\n",
      "\n",
      "\n",
      "\n",
      "\n",
      "\n",
      "\n",
      "\n",
      "\n",
      "\n",
      "\n",
      "\n",
      "\n",
      "Ví dụ1.1\n",
      "\n",
      "$$ A=\\left( \\begin{matrix} {3} & {4} & {1} \\\\ {2} & {0} & {5} \\\\ \\end{matrix} \\right)_{2 \\times3}, B=\\left( \\begin{matrix} {1+i} & {2} \\\\ {3-i} & {4 i} \\\\ \\end{matrix} \\right)\n",
      " $$\n",
      "\n",
      "\n",
      "\n",
      "\n",
      "\n",
      "\n",
      "\n",
      "\n",
      "\n",
      "\n",
      "\n",
      "\n",
      "\n",
      "\n",
      "\n",
      "\n",
      "\n",
      "\n",
      "A là ma trận cỡ 2 × 3 có 2 hàng và 3 cột. Các phần tửcủa ma trận A :\n",
      "\n",
      "$$ a_{1 1}=3, a_{1 2}=4, a_{1 3}=1, a_{2 1}=2, a_{2 2}=0, a_{3 2}=5.\n",
      " $$\n",
      "\n",
      "B là ma trận cỡ 2 × 2 có các phần tửtrong phức.\n",
      "\n",
      "Ghi chú\n",
      "\n",
      "• Ma trận A cỡ m × n thường được ký hiệu bởi A = ( a ij ) m × n .\n",
      "\n",
      "• Tập tất cảcác ma trận cỡ m × n trên trường số K được ký hiệu M m × n ( K ) .\n",
      "\n",
      "Ma trận không .\n",
      "Ma trận không có tất cảcác phần tửbằng 0 , ký hiệu là 0\n",
      "\n",
      "$$ 0_{2 \\times3}=\\left( \\begin{matrix} {0} & {0} & {0} \\\\ {0} & {0} & {0} \\\\ \\end{matrix} \\right).\n",
      " $$\n",
      "\n",
      "\n",
      "\n",
      "\n",
      "\n",
      "\n",
      "\n",
      "\n",
      "\n",
      "\n",
      "Có vô sốma trận 0 tùy theo cỡ.\n",
      "\n",
      "11\n",
      "\n",
      "\n"
     ]
    }
   ],
   "source": [
    "def render_md(layout):\n",
    "    md = ''\n",
    "    for block in layout['blocks']:\n",
    "        for line in block['lines']:\n",
    "            spans = line['spans']\n",
    "            line_text = ''\n",
    "            for i, s in enumerate(spans):\n",
    "                text = s['text']\n",
    "                if i == 0:\n",
    "                    line_text += text\n",
    "                else:\n",
    "                    pre = spans[i-1]['text']\n",
    "                    if pre and pre[-1] != ' ' and text and text[0] != ' ':\n",
    "                        line_text += ' ' + text\n",
    "                    else:\n",
    "                        line_text += text\n",
    "            md += line_text + '\\n'\n",
    "        md += '\\n'\n",
    "    return md\n",
    "\n",
    "md = render_md(layout)\n",
    "print(md)"
   ]
  },
  {
   "cell_type": "code",
   "execution_count": null,
   "id": "6739d000",
   "metadata": {},
   "outputs": [],
   "source": [
    "with open('extracted/giao_trinh_4.md', 'w', encoding='utf-8') as f:\n",
    "    for line in md.splitlines():\n",
    "        if line.strip():\n",
    "            f.write(line + '\\n')"
   ]
  }
 ],
 "metadata": {
  "kernelspec": {
   "display_name": "ragmathenv",
   "language": "python",
   "name": "python3"
  },
  "language_info": {
   "codemirror_mode": {
    "name": "ipython",
    "version": 3
   },
   "file_extension": ".py",
   "mimetype": "text/x-python",
   "name": "python",
   "nbconvert_exporter": "python",
   "pygments_lexer": "ipython3",
   "version": "3.10.10"
  }
 },
 "nbformat": 4,
 "nbformat_minor": 5
}
