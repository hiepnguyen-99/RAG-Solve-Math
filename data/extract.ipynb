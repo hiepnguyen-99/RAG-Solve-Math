{
 "cells": [
  {
   "cell_type": "code",
   "execution_count": 2,
   "id": "c69e8076",
   "metadata": {},
   "outputs": [
    {
     "name": "stderr",
     "output_type": "stream",
     "text": [
      "[WARNING 2025-07-25 00:10:20,561 _showwarnmsg:109] d:\\User\\ProjectGithub\\hiepnguyenn-99\\RAG-Solve-Math\\ragmathenv\\lib\\site-packages\\tqdm\\auto.py:21: TqdmWarning: IProgress not found. Please update jupyter and ipywidgets. See https://ipywidgets.readthedocs.io/en/stable/user_install.html\n",
      "  from .autonotebook import tqdm as notebook_tqdm\n",
      " \n"
     ]
    }
   ],
   "source": [
    "import fitz, re\n",
    "from pix2text import Pix2Text"
   ]
  },
  {
   "cell_type": "markdown",
   "id": "83b4b4b4",
   "metadata": {},
   "source": [
    "# giao_trinh_4.pdf"
   ]
  },
  {
   "cell_type": "code",
   "execution_count": 3,
   "id": "f3f14590",
   "metadata": {},
   "outputs": [
    {
     "name": "stderr",
     "output_type": "stream",
     "text": [
      "\u001b[32m[INFO] 2025-07-25 00:17:41,769 [RapidOCR] base.py:24: Using engine_name: onnxruntime\u001b[0m\n",
      "\u001b[32m[INFO] 2025-07-25 00:17:41,774 [RapidOCR] main.py:55: Using C:\\Users\\admin\\AppData\\Roaming\\cnstd\\1.2\\ppocr\\ch_PP-OCRv5_det\\ch_PP-OCRv5_det_infer.onnx\u001b[0m\n",
      "Using a slow image processor as `use_fast` is unset and a slow processor was saved with this model. `use_fast=True` will be the default behavior in v4.52, even if the model was saved with a slow processor. This will result in minor differences in outputs. You'll still be able to use a slow processor with `use_fast=False`.\n"
     ]
    },
    {
     "name": "stdout",
     "output_type": "stream",
     "text": [
      "\n",
      "0: 1024x736 7 titles, 11 plain texts, 1 abandon, 4 isolate_formulas, 953.1ms\n",
      "Speed: 0.0ms preprocess, 953.1ms inference, 2.0ms postprocess per image at shape (1, 3, 1024, 736)\n",
      "Loading C:\\Users\\admin\\AppData\\Roaming\\pix2text\\1.1\\mfd-1.5-onnx\\pix2text-mfd-1.5.onnx for ONNX Runtime inference...\n",
      "Using ONNX Runtime CPUExecutionProvider\n",
      "\n",
      "WARNING imgsz=[649, 1024] must be multiple of max stride 32, updating to [672, 1024]\n",
      "0: 672x1024 (no detections), 510.4ms\n",
      "Speed: 4.5ms preprocess, 510.4ms inference, 0.6ms postprocess per image at shape (1, 3, 672, 1024)\n"
     ]
    },
    {
     "name": "stderr",
     "output_type": "stream",
     "text": [
      "0it [00:00, ?it/s]\n"
     ]
    },
    {
     "name": "stdout",
     "output_type": "stream",
     "text": [
      "\n",
      "WARNING imgsz=[109, 1024] must be multiple of max stride 32, updating to [128, 1024]\n",
      "0: 128x1024 2 embeddings, 95.9ms\n",
      "Speed: 0.9ms preprocess, 95.9ms inference, 1.0ms postprocess per image at shape (1, 3, 128, 1024)\n"
     ]
    },
    {
     "name": "stderr",
     "output_type": "stream",
     "text": [
      "100%|██████████| 2/2 [00:00<00:00,  5.57it/s]\n",
      "100%|██████████| 1/1 [00:02<00:00,  2.68s/it]"
     ]
    },
    {
     "name": "stdout",
     "output_type": "stream",
     "text": [
      "\n",
      "WARNING imgsz=[577, 1024] must be multiple of max stride 32, updating to [608, 1024]\n"
     ]
    },
    {
     "name": "stderr",
     "output_type": "stream",
     "text": [
      "\n"
     ]
    },
    {
     "name": "stdout",
     "output_type": "stream",
     "text": [
      "0: 608x1024 1 isolated, 470.2ms\n",
      "Speed: 4.3ms preprocess, 470.2ms inference, 1.5ms postprocess per image at shape (1, 3, 608, 1024)\n"
     ]
    },
    {
     "name": "stderr",
     "output_type": "stream",
     "text": [
      "100%|██████████| 1/1 [00:00<00:00,  3.47it/s]\n",
      "100%|██████████| 1/1 [00:00<00:00,  1.03it/s]"
     ]
    },
    {
     "name": "stdout",
     "output_type": "stream",
     "text": [
      "\n",
      "WARNING imgsz=[126, 1024] must be multiple of max stride 32, updating to [128, 1024]\n",
      "0: 128x1024 3 embeddings, 88.2ms\n",
      "Speed: 1.0ms preprocess, 88.2ms inference, 0.9ms postprocess per image at shape (1, 3, 128, 1024)\n"
     ]
    },
    {
     "name": "stderr",
     "output_type": "stream",
     "text": [
      "\n",
      "100%|██████████| 3/3 [00:00<00:00,  6.04it/s]\n",
      "100%|██████████| 1/1 [00:00<00:00,  1.74it/s]"
     ]
    },
    {
     "name": "stdout",
     "output_type": "stream",
     "text": [
      "\n",
      "WARNING imgsz=[171, 1024] must be multiple of max stride 32, updating to [192, 1024]\n",
      "0: 192x1024 2 embeddings, 141.0ms\n",
      "Speed: 1.1ms preprocess, 141.0ms inference, 1.0ms postprocess per image at shape (1, 3, 192, 1024)\n"
     ]
    },
    {
     "name": "stderr",
     "output_type": "stream",
     "text": [
      "\n",
      "100%|██████████| 2/2 [00:00<00:00,  5.91it/s]\n"
     ]
    },
    {
     "name": "stdout",
     "output_type": "stream",
     "text": [
      "\n",
      "WARNING imgsz=[180, 1024] must be multiple of max stride 32, updating to [192, 1024]\n",
      "0: 192x1024 6 embeddings, 135.7ms\n",
      "Speed: 1.2ms preprocess, 135.7ms inference, 1.2ms postprocess per image at shape (1, 3, 192, 1024)\n"
     ]
    },
    {
     "name": "stderr",
     "output_type": "stream",
     "text": [
      "100%|██████████| 6/6 [00:01<00:00,  4.89it/s]\n"
     ]
    },
    {
     "name": "stdout",
     "output_type": "stream",
     "text": [
      "\n",
      "WARNING imgsz=[138, 1024] must be multiple of max stride 32, updating to [160, 1024]\n",
      "0: 160x1024 3 embeddings, 117.7ms\n",
      "Speed: 1.2ms preprocess, 117.7ms inference, 1.0ms postprocess per image at shape (1, 3, 160, 1024)\n"
     ]
    },
    {
     "name": "stderr",
     "output_type": "stream",
     "text": [
      "100%|██████████| 3/3 [00:00<00:00,  4.90it/s]\n"
     ]
    },
    {
     "name": "stdout",
     "output_type": "stream",
     "text": [
      "\n",
      "WARNING imgsz=[115, 1024] must be multiple of max stride 32, updating to [128, 1024]\n",
      "0: 128x1024 3 embeddings, 91.1ms\n",
      "Speed: 0.8ms preprocess, 91.1ms inference, 1.2ms postprocess per image at shape (1, 3, 128, 1024)\n"
     ]
    },
    {
     "name": "stderr",
     "output_type": "stream",
     "text": [
      "100%|██████████| 3/3 [00:00<00:00,  5.03it/s]\n"
     ]
    },
    {
     "name": "stdout",
     "output_type": "stream",
     "text": [
      "\n",
      "WARNING imgsz=[150, 1024] must be multiple of max stride 32, updating to [160, 1024]\n",
      "0: 160x1024 (no detections), 119.3ms\n",
      "Speed: 1.1ms preprocess, 119.3ms inference, 0.6ms postprocess per image at shape (1, 3, 160, 1024)\n"
     ]
    },
    {
     "name": "stderr",
     "output_type": "stream",
     "text": [
      "0it [00:00, ?it/s]\n",
      "100%|██████████| 1/1 [00:00<00:00,  1.83it/s]"
     ]
    },
    {
     "name": "stdout",
     "output_type": "stream",
     "text": [
      "\n",
      "WARNING imgsz=[264, 1024] must be multiple of max stride 32, updating to [288, 1024]\n"
     ]
    },
    {
     "name": "stderr",
     "output_type": "stream",
     "text": [
      "\n"
     ]
    },
    {
     "name": "stdout",
     "output_type": "stream",
     "text": [
      "0: 288x1024 2 embeddings, 215.5ms\n",
      "Speed: 1.6ms preprocess, 215.5ms inference, 0.9ms postprocess per image at shape (1, 3, 288, 1024)\n"
     ]
    },
    {
     "name": "stderr",
     "output_type": "stream",
     "text": [
      "100%|██████████| 1/1 [00:00<00:00,  4.63it/s]\n"
     ]
    },
    {
     "name": "stdout",
     "output_type": "stream",
     "text": [
      "\n",
      "WARNING imgsz=[1447, 1024] must be multiple of max stride 32, updating to [1472, 1024]\n",
      "0: 1472x1024 1 embedding, 1290.2ms\n",
      "Speed: 13.2ms preprocess, 1290.2ms inference, 1.4ms postprocess per image at shape (1, 3, 1472, 1024)\n"
     ]
    },
    {
     "name": "stderr",
     "output_type": "stream",
     "text": [
      "100%|██████████| 1/1 [00:00<00:00,  4.99it/s]\n"
     ]
    },
    {
     "name": "stdout",
     "output_type": "stream",
     "text": [
      "Chương 1\n",
      "\n",
      "Ma trận\n",
      "\n",
      "Nội dung\n",
      "\n",
      "• Định nghĩa và ví dụ.\n",
      "\n",
      "• Các phép biến đổi sơ cấp.\n",
      "\n",
      "• Các phép toán đối với ma trận.\n",
      "\n",
      "• Hạng của ma trận.\n",
      "\n",
      "• Ma trận nghịch đảo.\n",
      "\n",
      "1.1\n",
      "Các khái niệm cơ bản\n",
      "\n",
      "Định nghĩa 1.1 (Ma trận) .\n",
      "Ma trận cỡ m × n là một bảng số(thực hoặc phức) hình chữnhật có m hàng và n cột.\n",
      "\n",
      "$$ A=\\left( \\begin{matrix} {a_{1 1}} & {\\dots} & {a_{1 j}} & {\\dots} & {a_{1 n}} \\\\ {\\dots} & {\\dots} & {\\dots} & {\\dots} & {\\dots} \\\\ {a_{i 1}} & {\\dots} & {a_{i j}} & {\\dots} & {a_{i n}} \\\\ {\\dots} & {\\dots} & {\\dots} & {\\dots} & {\\dots} \\\\ {a_{m 1}} & {\\dots} & {a_{m j}} & {\\dots} & {a_{m n}} \\\\ \\end{matrix} \\right)\n",
      " $$\n",
      "\n",
      "\n",
      "\n",
      "\n",
      "\n",
      "\n",
      "\n",
      "\n",
      "\n",
      "\n",
      "\n",
      "\n",
      "\n",
      "\n",
      "\n",
      "\n",
      "\n",
      "\n",
      "\n",
      "\n",
      "\n",
      "\n",
      "\n",
      "\n",
      "\n",
      "\n",
      "\n",
      "\n",
      "\n",
      "\n",
      "\n",
      "\n",
      "\n",
      "\n",
      "\n",
      "\n",
      "\n",
      "\n",
      "\n",
      "\n",
      "\n",
      "\n",
      "\n",
      "Ví dụ1.1\n",
      "\n",
      "$$ A=\\left( \\begin{matrix} {3} & {4} & {1} \\\\ {2} & {0} & {5} \\\\ \\end{matrix} \\right)_{2 \\times3} , B=\\left( \\begin{matrix} {1+i} & {2} \\\\ {3-i} & {4 i} \\\\ \\end{matrix} \\right)\n",
      " $$\n",
      "\n",
      "\n",
      "\n",
      "\n",
      "\n",
      "\n",
      "\n",
      "\n",
      "\n",
      "\n",
      "\n",
      "\n",
      "\n",
      "\n",
      "\n",
      "\n",
      "\n",
      "\n",
      "A là ma trận cỡ 2 × 3 có 2 hàng và 3 cột. Các phần tửcủa ma trận A :\n",
      "\n",
      "$$ a_{1 1}=3 , a_{1 2}=4 , a_{1 3}=1 , a_{2 1}=2 , a_{2 2}=0 , a_{3 2}=5 .\n",
      " $$\n",
      "\n",
      "B là ma trận cỡ 2 × 2 có các phần tửtrong phức.\n",
      "\n",
      "Ghi chú\n",
      "\n",
      "• Ma trận A cỡ m × n thường được ký hiệu bởi A = ( a ij ) m × n .\n",
      "\n",
      "• Tập tất cảcác ma trận cỡ m × n trên trường số K được ký hiệu M m × n ( K ) .\n",
      "\n",
      "Ma trận không .\n",
      "Ma trận không có tất cảcác phần tửbằng 0 , ký hiệu là 0\n",
      "\n",
      "$$ 0_{2 \\times3}=\\left( \\begin{matrix} {0} & {0} & {0} \\\\ {0} & {0} & {0} \\\\ \\end{matrix} \\right) .\n",
      " $$\n",
      "\n",
      "\n",
      "\n",
      "\n",
      "\n",
      "\n",
      "\n",
      "\n",
      "\n",
      "\n",
      "Có vô sốma trận 0 tùy theo cỡ.\n",
      "\n",
      "11\n",
      "\n",
      "\n"
     ]
    }
   ],
   "source": [
    "# trích suất trang đầu phần 1.1 Các khái niệm cơ bản\n",
    "\n",
    "# kiểm tra giao nhau\n",
    "def intersects(b1, b2):\n",
    "    x0, y0, x1, y1 = b1\n",
    "    X0, Y0, X1, Y1 = b2\n",
    "    return not (x0 > X1 or y0 > Y1 or x1 < X0 or y1 < Y0)\n",
    "\n",
    "# phát hiện công thức và chuyển thành latex\n",
    "def extract_text_and_formula(page):\n",
    "    layout = page.get_text(\n",
    "        'dict',\n",
    "        sort=True\n",
    "        )\n",
    "    dpi = 150\n",
    "    pix = page.get_pixmap(dpi=dpi)\n",
    "    img = pix.pil_image() # chuyển về ảnh pil\n",
    "    zoom = dpi/72.0 # 1 point = 1/72 inch (pt->px)\n",
    "    mat_forward = fitz.Matrix(zoom, zoom)\n",
    "    mat_inverse = ~mat_forward # ma trận nghịch đảo (px->pt)\n",
    "\n",
    "    # phát hiện công thức trong ảnh\n",
    "    page_obj = p2t.recognize_page(\n",
    "        img,\n",
    "        file_type='text_formula',\n",
    "        resized_shape=1024,\n",
    "        return_text=False,\n",
    "        save_debug_res=None\n",
    "    )\n",
    "\n",
    "    formulas = []\n",
    "    if page_obj:\n",
    "        formulas = [\n",
    "            {\n",
    "                'bbox_pt': fitz.Rect(f.box) * mat_inverse, # chuyển luôn về đơn vị point\n",
    "                'latex': f.text\n",
    "            }\n",
    "            for f in page_obj.elements if f.type.name == \"FORMULA\"\n",
    "        ]\n",
    "\n",
    "    if not formulas:\n",
    "        return layout\n",
    "    \n",
    "    seen_formulas = set()\n",
    "    for block in layout.get('blocks', []):\n",
    "        if block['type'] != 0: # chuỗi văn bản có type == 0\n",
    "            continue\n",
    "        \n",
    "        for line in block.get('lines', []):\n",
    "            line_bbox = fitz.Rect(line['bbox']) # pt\n",
    "            relevant_formulas = [f for f in formulas if intersects(line_bbox, f['bbox_pt'])]\n",
    "            if not relevant_formulas:\n",
    "                continue\n",
    "\n",
    "            new_spans = []\n",
    "            original_spans = line['spans']\n",
    "            # xác định span cần loại vì có ít hơn (cải thiện hiệu suất)\n",
    "            spans_to_remove_idx = set()\n",
    "            for i, span in enumerate(original_spans):\n",
    "                sb = fitz.Rect(span['bbox'])\n",
    "                for f in relevant_formulas:\n",
    "                    r_pt = f['bbox_pt']\n",
    "                    overlap = abs(sb & r_pt)\n",
    "                    if overlap > 0.8 * abs(sb):\n",
    "                        spans_to_remove_idx.add(i)\n",
    "                        break\n",
    "\n",
    "            for i, span in enumerate(original_spans):\n",
    "                if i not in spans_to_remove_idx:\n",
    "                    new_spans.append(span)\n",
    "\n",
    "            for f in relevant_formulas:\n",
    "                if f['latex'] not in seen_formulas:\n",
    "                    new_spans.append({\n",
    "                        'type': 'formula',\n",
    "                        'text': f\"$$ {f['latex']} $$\",\n",
    "                        'bbox': f['bbox_pt']\n",
    "                    })\n",
    "                    seen_formulas.add(f['latex'])\n",
    "            line['spans'] = sorted(new_spans, key=lambda s: s['bbox'][0])\n",
    "    return layout\n",
    "\n",
    "# chuyển pdf về markdown\n",
    "def render_md(layout):\n",
    "    md = ''\n",
    "    for block in layout['blocks']:\n",
    "        for line in block['lines']:\n",
    "            spans = line['spans']\n",
    "            line_text = ''\n",
    "            for i, s in enumerate(spans):\n",
    "                text = s['text']\n",
    "                if i == 0:\n",
    "                    line_text += text\n",
    "                else:\n",
    "                    pre = spans[i-1]['text']\n",
    "                    if pre and pre[-1] != ' ' and text and text[0] != ' ':\n",
    "                        line_text += ' ' + text\n",
    "                    else:\n",
    "                        line_text += text\n",
    "            md += line_text + '\\n'\n",
    "        md += '\\n'\n",
    "    return md\n",
    "\n",
    "providers = ['CUDAExecusionProvider', 'CPUExecutionProvider']\n",
    "\n",
    "p2t = Pix2Text.from_config(\n",
    "    analyzer_config={\n",
    "        \"model_name\": \"mfd-pro\",\n",
    "        \"model_backend\": \"onnx\",\n",
    "        \"providers\": providers,\n",
    "    },\n",
    "    formula_ocr_config={\n",
    "        \"model_name\": \"mfr-pro\",\n",
    "        \"model_backend\": \"onnx\",\n",
    "        \"providers\": providers,\n",
    "    }\n",
    ")\n",
    "\n",
    "doc = fitz.open('source/giao_trinh_4.pdf')\n",
    "page = doc.load_page(11)\n",
    "layout = extract_text_and_formula(page)\n",
    "md = render_md(layout)\n",
    "print(md)"
   ]
  },
  {
   "cell_type": "code",
   "execution_count": 6,
   "id": "95a03699",
   "metadata": {},
   "outputs": [
    {
     "name": "stdout",
     "output_type": "stream",
     "text": [
      "# Chương 1\n",
      "\n",
      "Ma trận\n",
      "\n",
      "Nội dung\n",
      "\n",
      "• Định nghĩa và ví dụ.\n",
      "\n",
      "• Các phép biến đổi sơ cấp.\n",
      "\n",
      "• Các phép toán đối với ma trận.\n",
      "\n",
      "• Hạng của ma trận.\n",
      "\n",
      "• Ma trận nghịch đảo.\n",
      "\n",
      "## 1.1\n",
      "Các khái niệm cơ bản\n",
      "\n",
      "#### Định nghĩa 1.1 (Ma trận) .\n",
      "Ma trận cỡ m × n là một bảng số(thực hoặc phức) hình chữnhật có m hàng và n cột.\n",
      "\n",
      "$$ A=\\left( \\begin{matrix} {a_{1 1}} & {\\dots} & {a_{1 j}} & {\\dots} & {a_{1 n}} \\\\ {\\dots} & {\\dots} & {\\dots} & {\\dots} & {\\dots} \\\\ {a_{i 1}} & {\\dots} & {a_{i j}} & {\\dots} & {a_{i n}} \\\\ {\\dots} & {\\dots} & {\\dots} & {\\dots} & {\\dots} \\\\ {a_{m 1}} & {\\dots} & {a_{m j}} & {\\dots} & {a_{m n}} \\\\ \\end{matrix} \\right)\n",
      " $$\n",
      "\n",
      "\n",
      "\n",
      "\n",
      "\n",
      "\n",
      "\n",
      "\n",
      "\n",
      "\n",
      "\n",
      "\n",
      "\n",
      "\n",
      "\n",
      "\n",
      "\n",
      "\n",
      "\n",
      "\n",
      "\n",
      "\n",
      "\n",
      "\n",
      "\n",
      "\n",
      "\n",
      "\n",
      "\n",
      "\n",
      "\n",
      "\n",
      "\n",
      "\n",
      "\n",
      "\n",
      "\n",
      "\n",
      "\n",
      "\n",
      "\n",
      "\n",
      "\n",
      "Ví dụ1.1\n",
      "\n",
      "$$ A=\\left( \\begin{matrix} {3} & {4} & {1} \\\\ {2} & {0} & {5} \\\\ \\end{matrix} \\right)_{2 \\times3} , B=\\left( \\begin{matrix} {1+i} & {2} \\\\ {3-i} & {4 i} \\\\ \\end{matrix} \\right)\n",
      " $$\n",
      "\n",
      "\n",
      "\n",
      "\n",
      "\n",
      "\n",
      "\n",
      "\n",
      "\n",
      "\n",
      "\n",
      "\n",
      "\n",
      "\n",
      "\n",
      "\n",
      "\n",
      "\n",
      "A là ma trận cỡ 2 × 3 có 2 hàng và 3 cột. Các phần tửcủa ma trận A :\n",
      "\n",
      "$$ a_{1 1}=3 , a_{1 2}=4 , a_{1 3}=1 , a_{2 1}=2 , a_{2 2}=0 , a_{3 2}=5 .\n",
      " $$\n",
      "\n",
      "B là ma trận cỡ 2 × 2 có các phần tửtrong phức.\n",
      "\n",
      "Ghi chú\n",
      "\n",
      "• Ma trận A cỡ m × n thường được ký hiệu bởi A = ( a ij ) m × n .\n",
      "\n",
      "• Tập tất cảcác ma trận cỡ m × n trên trường số K được ký hiệu M m × n ( K ) .\n",
      "\n",
      "Ma trận không .\n",
      "Ma trận không có tất cảcác phần tửbằng 0 , ký hiệu là 0\n",
      "\n",
      "$$ 0_{2 \\times3}=\\left( \\begin{matrix} {0} & {0} & {0} \\\\ {0} & {0} & {0} \\\\ \\end{matrix} \\right) .\n",
      " $$\n",
      "\n",
      "\n",
      "\n",
      "\n",
      "\n",
      "\n",
      "\n",
      "\n",
      "\n",
      "\n",
      "Có vô sốma trận 0 tùy theo cỡ.\n",
      "\n",
      "11\n",
      "\n",
      "\n"
     ]
    }
   ],
   "source": [
    "def render_md(layout):\n",
    "    md = ''\n",
    "    # mục con của chương\n",
    "    subchapter = re.compile(r'^\\d+\\.\\d+.*')\n",
    "\n",
    "    for block in layout['blocks']:\n",
    "        for line in block['lines']:\n",
    "            spans = line['spans']\n",
    "            line_text = ''\n",
    "            for i, s in enumerate(spans):\n",
    "                text = s['text']\n",
    "                if i == 0:\n",
    "                    line_text += text\n",
    "                # xử lý dấu cách\n",
    "                else:\n",
    "                    pre = spans[i-1]['text']\n",
    "                    if pre and pre[-1] != ' ' and text and text[0] != ' ':\n",
    "                        line_text += ' ' + text\n",
    "                    else:\n",
    "                        line_text += text\n",
    "\n",
    "            # xử lý header thêm #\n",
    "            stripped = line_text.lstrip() # loại bỏ khoảng trắng bên trái\n",
    "            if stripped.startswith('Chương'):\n",
    "                line_text = '# ' + stripped\n",
    "            elif subchapter.match(stripped):\n",
    "                line_text = '## ' + stripped\n",
    "            elif stripped.startswith('Định nghĩa'):\n",
    "                line_text = '#### ' + stripped\n",
    "\n",
    "            md += line_text + '\\n'\n",
    "        md += '\\n'\n",
    "    return md\n",
    "\n",
    "md = render_md(layout)\n",
    "print(md)"
   ]
  },
  {
   "cell_type": "code",
   "execution_count": null,
   "id": "6739d000",
   "metadata": {},
   "outputs": [],
   "source": [
    "with open('extracted/giao_trinh_4.md', 'w', encoding='utf-8') as f:\n",
    "    for line in md.splitlines():\n",
    "        if line.strip():\n",
    "            f.write(line + '\\n')"
   ]
  },
  {
   "cell_type": "code",
   "execution_count": null,
   "id": "95895741",
   "metadata": {},
   "outputs": [
    {
     "ename": "FileNotFoundError",
     "evalue": "no such file: 'data/source/giao_trinh_4.pdf'",
     "output_type": "error",
     "traceback": [
      "\u001b[1;31m---------------------------------------------------------------------------\u001b[0m",
      "\u001b[1;31mFileNotFoundError\u001b[0m                         Traceback (most recent call last)",
      "\u001b[1;32m~\\AppData\\Local\\Temp\\ipykernel_10648\\1908778961.py\u001b[0m in \u001b[0;36m?\u001b[1;34m()\u001b[0m\n\u001b[0;32m      1\u001b[0m \u001b[1;32mimport\u001b[0m \u001b[0mfitz\u001b[0m\u001b[1;33m,\u001b[0m \u001b[0mre\u001b[0m\u001b[1;33m\u001b[0m\u001b[1;33m\u001b[0m\u001b[0m\n\u001b[0;32m      2\u001b[0m \u001b[1;32mfrom\u001b[0m \u001b[0mpix2text\u001b[0m \u001b[1;32mimport\u001b[0m \u001b[0mPix2Text\u001b[0m\u001b[1;33m\u001b[0m\u001b[1;33m\u001b[0m\u001b[0m\n\u001b[0;32m      3\u001b[0m \u001b[1;33m\u001b[0m\u001b[0m\n\u001b[1;32m----> 4\u001b[1;33m \u001b[0mdoc\u001b[0m \u001b[1;33m=\u001b[0m \u001b[0mfitz\u001b[0m\u001b[1;33m.\u001b[0m\u001b[0mopen\u001b[0m\u001b[1;33m(\u001b[0m\u001b[1;34m'data/source/giao_trinh_4.pdf'\u001b[0m\u001b[1;33m)\u001b[0m\u001b[1;33m\u001b[0m\u001b[1;33m\u001b[0m\u001b[0m\n\u001b[0m",
      "\u001b[1;32md:\\User\\ProjectGithub\\hiepnguyenn-99\\RAG-Solve-Math\\ragmathenv\\lib\\site-packages\\pymupdf\\__init__.py\u001b[0m in \u001b[0;36m?\u001b[1;34m(self, filename, stream, filetype, rect, width, height, fontsize)\u001b[0m\n\u001b[0;32m   3012\u001b[0m                     \u001b[0mself\u001b[0m\u001b[1;33m.\u001b[0m\u001b[0mpage_count2\u001b[0m \u001b[1;33m=\u001b[0m \u001b[0mextra\u001b[0m\u001b[1;33m.\u001b[0m\u001b[0mpage_count_pdf\u001b[0m\u001b[1;33m\u001b[0m\u001b[1;33m\u001b[0m\u001b[0m\n\u001b[0;32m   3013\u001b[0m                 \u001b[1;32melse\u001b[0m\u001b[1;33m:\u001b[0m\u001b[1;33m\u001b[0m\u001b[1;33m\u001b[0m\u001b[0m\n\u001b[0;32m   3014\u001b[0m                     \u001b[0mself\u001b[0m\u001b[1;33m.\u001b[0m\u001b[0mpage_count2\u001b[0m \u001b[1;33m=\u001b[0m \u001b[0mextra\u001b[0m\u001b[1;33m.\u001b[0m\u001b[0mpage_count_fz\u001b[0m\u001b[1;33m\u001b[0m\u001b[1;33m\u001b[0m\u001b[0m\n\u001b[0;32m   3015\u001b[0m         \u001b[1;32mfinally\u001b[0m\u001b[1;33m:\u001b[0m\u001b[1;33m\u001b[0m\u001b[1;33m\u001b[0m\u001b[0m\n\u001b[1;32m-> 3016\u001b[1;33m             \u001b[0mJM_mupdf_show_errors\u001b[0m \u001b[1;33m=\u001b[0m \u001b[0mJM_mupdf_show_errors_old\u001b[0m\u001b[1;33m\u001b[0m\u001b[1;33m\u001b[0m\u001b[0m\n\u001b[0m",
      "\u001b[1;31mFileNotFoundError\u001b[0m: no such file: 'data/source/giao_trinh_4.pdf'"
     ]
    }
   ],
   "source": [
    "import fitz, re\n",
    "from pix2text import Pix2Text\n",
    "\n",
    "doc = fitz.open('source/giao_trinh_4.pfd')\n",
    "page = doc.load_page(12)"
   ]
  }
 ],
 "metadata": {
  "kernelspec": {
   "display_name": "ragmathenv",
   "language": "python",
   "name": "python3"
  },
  "language_info": {
   "codemirror_mode": {
    "name": "ipython",
    "version": 3
   },
   "file_extension": ".py",
   "mimetype": "text/x-python",
   "name": "python",
   "nbconvert_exporter": "python",
   "pygments_lexer": "ipython3",
   "version": "3.10.10"
  }
 },
 "nbformat": 4,
 "nbformat_minor": 5
}
