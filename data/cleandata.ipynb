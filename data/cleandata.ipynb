{
 "cells": [
  {
   "cell_type": "code",
   "execution_count": 1,
   "id": "c69e8076",
   "metadata": {},
   "outputs": [
    {
     "name": "stderr",
     "output_type": "stream",
     "text": [
      "[WARNING 2025-07-22 00:40:36,267 _showwarnmsg:109] d:\\User\\ProjectGithub\\hiepnguyenn-99\\RAG-Solve-Math\\ragmathenv\\lib\\site-packages\\tqdm\\auto.py:21: TqdmWarning: IProgress not found. Please update jupyter and ipywidgets. See https://ipywidgets.readthedocs.io/en/stable/user_install.html\n",
      "  from .autonotebook import tqdm as notebook_tqdm\n",
      " \n"
     ]
    }
   ],
   "source": [
    "import fitz, re\n",
    "from pix2text import Pix2Text"
   ]
  },
  {
   "cell_type": "markdown",
   "id": "83b4b4b4",
   "metadata": {},
   "source": [
    "# Slide_bai_giang_thay_Vinh.pdf"
   ]
  },
  {
   "cell_type": "code",
   "execution_count": null,
   "id": "89b3d3d7",
   "metadata": {},
   "outputs": [
    {
     "name": "stderr",
     "output_type": "stream",
     "text": [
      "\u001b[32m[INFO] 2025-07-21 23:27:46,712 [RapidOCR] base.py:24: Using engine_name: onnxruntime\u001b[0m\n",
      "\u001b[32m[INFO] 2025-07-21 23:27:46,712 [RapidOCR] main.py:55: Using C:\\Users\\admin\\AppData\\Roaming\\cnstd\\1.2\\ppocr\\ch_PP-OCRv5_det\\ch_PP-OCRv5_det_infer.onnx\u001b[0m\n"
     ]
    }
   ],
   "source": [
    "# # trích suất trang đầu phần 1.1 Các khái niệm cơ bản\n",
    "\n",
    "# p2t = Pix2Text.from_config(\n",
    "#     enable_formula=True,\n",
    "#     mfd_config={\"model_name\": \"mfd-pro\", \"model_backend\": \"onnx\"}\n",
    "#     )\n",
    "\n",
    "# # phát hiện công thức và chuyển thành latex\n",
    "# def extrac_text_and_formula(page):\n",
    "#     layout = page.get_text('dict', sort=True)\n",
    "#     pix = page.get_pixmap(dpi=300)\n",
    "#     img = pix.pil_image() # chuyển về ảnh pil\n",
    "    \n",
    "#     # phát hiện công thức trong ảnh\n",
    "#     page_obj = p2t.recognize_page(img, page_number=page.number, text_contain_formula=True, save_debug_res=None) \n",
    "#     formulas = [e for e in page_obj.elements if e.type == 'FORMULA']\n",
    "\n",
    "#     for f in formulas:\n",
    "#         r = f.position # region (x0, y0, x1, y1)\n",
    "#         latex = f.text\n",
    "#         for block in layout['blocks']:\n",
    "#             for line in block.get('lines', []):\n",
    "#                 for i, span in enumerate(line['spans']):\n",
    "#                     sb = span['bbox'] # span box (x0, y0, x1, y1)\n",
    "#                     if not (sb[0] > r[2] or sb[1] > r[3] or sb[2] < r[0] or sb[3] < r[1]):\n",
    "#                         line['spans'][i] = {\n",
    "#                             'type': 'formula',\n",
    "#                             'text': f'$$ {latex} $$',\n",
    "#                             'bbox': r\n",
    "#                         }\n",
    "#                         break\n",
    "#     return layout\n",
    "\n",
    "# # chuyển pdf về markdown\n",
    "# def render_md(layout):\n",
    "#     md = ''\n",
    "#     for block in layout['blocks']:\n",
    "#         for line in block.get('lines', []):\n",
    "#             spans = sorted(line['spans'], key=lambda s: s['bbox'][0])\n",
    "#             for s in spans:\n",
    "#                 md += s['text']\n",
    "#             md += '\\n'\n",
    "#         md += '\\n'\n",
    "#     return md"
   ]
  },
  {
   "cell_type": "code",
   "execution_count": 14,
   "id": "5cae8d45",
   "metadata": {},
   "outputs": [
    {
     "name": "stdout",
     "output_type": "stream",
     "text": [
      "\n",
      "0: 1024x736 9 titles, 11 plain texts, 1 abandon, 5 isolate_formulas, 1168.1ms\n",
      "Speed: 9.3ms preprocess, 1168.1ms inference, 0.0ms postprocess per image at shape (1, 3, 1024, 736)\n",
      "Loading C:\\Users\\admin\\AppData\\Roaming\\pix2text\\1.1\\mfd-onnx\\mfd-v20240618.onnx for ONNX Runtime inference...\n",
      "Using ONNX Runtime CPUExecutionProvider\n",
      "\n",
      "WARNING imgsz=[463, 768] must be multiple of max stride 32, updating to [480, 768]\n",
      "0: 480x768 (no detections), 117.5ms\n",
      "Speed: 3.2ms preprocess, 117.5ms inference, 0.6ms postprocess per image at shape (1, 3, 480, 768)\n"
     ]
    },
    {
     "name": "stderr",
     "output_type": "stream",
     "text": [
      "0it [00:00, ?it/s]\n"
     ]
    },
    {
     "name": "stdout",
     "output_type": "stream",
     "text": [
      "\n",
      "WARNING imgsz=[83, 1152] must be multiple of max stride 32, updating to [96, 1152]\n",
      "0: 96x1152 3 embeddings, 50.1ms\n",
      "Speed: 1.0ms preprocess, 50.1ms inference, 0.9ms postprocess per image at shape (1, 3, 96, 1152)\n"
     ]
    },
    {
     "name": "stderr",
     "output_type": "stream",
     "text": [
      "100%|██████████| 3/3 [00:00<00:00,  4.73it/s]\n",
      "100%|██████████| 1/1 [00:02<00:00,  2.91s/it]"
     ]
    },
    {
     "name": "stdout",
     "output_type": "stream",
     "text": [
      "\n",
      "WARNING imgsz=[346, 768] must be multiple of max stride 32, updating to [352, 768]\n",
      "0: 352x768 1 isolated, 93.6ms\n",
      "Speed: 2.7ms preprocess, 93.6ms inference, 1.3ms postprocess per image at shape (1, 3, 352, 768)\n"
     ]
    },
    {
     "name": "stderr",
     "output_type": "stream",
     "text": [
      "\n",
      "100%|██████████| 1/1 [00:00<00:00,  3.86it/s]\n",
      "100%|██████████| 1/1 [00:01<00:00,  1.07s/it]"
     ]
    },
    {
     "name": "stdout",
     "output_type": "stream",
     "text": [
      "\n",
      "WARNING imgsz=[102, 1152] must be multiple of max stride 32, updating to [128, 1152]\n",
      "0: 128x1152 2 embeddings, 45.4ms\n",
      "Speed: 1.3ms preprocess, 45.4ms inference, 0.9ms postprocess per image at shape (1, 3, 128, 1152)\n"
     ]
    },
    {
     "name": "stderr",
     "output_type": "stream",
     "text": [
      "\n",
      "100%|██████████| 2/2 [00:00<00:00,  5.95it/s]\n",
      "100%|██████████| 1/1 [00:00<00:00,  1.30it/s]"
     ]
    },
    {
     "name": "stdout",
     "output_type": "stream",
     "text": [
      "\n",
      "WARNING imgsz=[94, 768] must be multiple of max stride 32, updating to [96, 768]\n",
      "0: 96x768 2 embeddings, 23.8ms\n",
      "Speed: 0.7ms preprocess, 23.8ms inference, 2.7ms postprocess per image at shape (1, 3, 96, 768)\n"
     ]
    },
    {
     "name": "stderr",
     "output_type": "stream",
     "text": [
      "\n",
      "100%|██████████| 2/2 [00:00<00:00,  5.77it/s]\n"
     ]
    },
    {
     "name": "stdout",
     "output_type": "stream",
     "text": [
      "\n",
      "WARNING imgsz=[165, 1152] must be multiple of max stride 32, updating to [192, 1152]\n",
      "0: 192x1152 6 embeddings, 67.4ms\n",
      "Speed: 1.5ms preprocess, 67.4ms inference, 1.0ms postprocess per image at shape (1, 3, 192, 1152)\n"
     ]
    },
    {
     "name": "stderr",
     "output_type": "stream",
     "text": [
      "100%|██████████| 6/6 [00:01<00:00,  4.56it/s]\n"
     ]
    },
    {
     "name": "stdout",
     "output_type": "stream",
     "text": [
      "\n",
      "WARNING imgsz=[108, 1152] must be multiple of max stride 32, updating to [128, 1152]\n",
      "0: 128x1152 3 embeddings, 42.5ms\n",
      "Speed: 0.9ms preprocess, 42.5ms inference, 1.1ms postprocess per image at shape (1, 3, 128, 1152)\n"
     ]
    },
    {
     "name": "stderr",
     "output_type": "stream",
     "text": [
      "100%|██████████| 3/3 [00:00<00:00,  4.24it/s]\n"
     ]
    },
    {
     "name": "stdout",
     "output_type": "stream",
     "text": [
      "\n",
      "WARNING imgsz=[89, 1152] must be multiple of max stride 32, updating to [96, 1152]\n",
      "0: 96x1152 3 embeddings, 36.1ms\n",
      "Speed: 1.1ms preprocess, 36.1ms inference, 1.1ms postprocess per image at shape (1, 3, 96, 1152)\n"
     ]
    },
    {
     "name": "stderr",
     "output_type": "stream",
     "text": [
      "100%|██████████| 3/3 [00:00<00:00,  4.62it/s]\n"
     ]
    },
    {
     "name": "stdout",
     "output_type": "stream",
     "text": [
      "\n",
      "WARNING imgsz=[116, 1152] must be multiple of max stride 32, updating to [128, 1152]\n",
      "0: 128x1152 (no detections), 42.3ms\n",
      "Speed: 2.1ms preprocess, 42.3ms inference, 0.7ms postprocess per image at shape (1, 3, 128, 1152)\n"
     ]
    },
    {
     "name": "stderr",
     "output_type": "stream",
     "text": [
      "0it [00:00, ?it/s]\n",
      "100%|██████████| 1/1 [00:00<00:00,  1.67it/s]"
     ]
    },
    {
     "name": "stdout",
     "output_type": "stream",
     "text": [
      "\n",
      "WARNING imgsz=[140, 768] must be multiple of max stride 32, updating to [160, 768]\n",
      "0: 160x768 (no detections), 40.0ms\n",
      "Speed: 1.1ms preprocess, 40.0ms inference, 1.1ms postprocess per image at shape (1, 3, 160, 768)\n"
     ]
    },
    {
     "name": "stderr",
     "output_type": "stream",
     "text": [
      "\n",
      "0it [00:00, ?it/s]\n"
     ]
    },
    {
     "name": "stdout",
     "output_type": "stream",
     "text": [
      "\n",
      "WARNING imgsz=[1085, 768] must be multiple of max stride 32, updating to [1088, 768]\n",
      "0: 1088x768 (no detections), 305.9ms\n",
      "Speed: 10.0ms preprocess, 305.9ms inference, 0.7ms postprocess per image at shape (1, 3, 1088, 768)\n"
     ]
    },
    {
     "name": "stderr",
     "output_type": "stream",
     "text": [
      "0it [00:00, ?it/s]\n"
     ]
    },
    {
     "name": "stdout",
     "output_type": "stream",
     "text": [
      "Chương 1\n",
      "\n",
      "Ma trận\n",
      "\n",
      "Nội dung\n",
      "\n",
      "• Định nghĩa và ví dụ.\n",
      "\n",
      "• Các phép biến đổi sơ cấp.\n",
      "\n",
      "• Các phép toán đối với ma trận.\n",
      "\n",
      "• Hạng của ma trận.\n",
      "\n",
      "• Ma trận nghịch đảo.\n",
      "\n",
      "1.1\n",
      "Các khái niệm cơ bản\n",
      "\n",
      "Định nghĩa 1.1 (Ma trận) .\n",
      "Ma trận cỡm × n là một bảng số(thực hoặc phức) hình chữnhật có m hàng và n cột.\n",
      "\n",
      "\n",
      "\n",
      "\n",
      "\n",
      "A =\n",
      "\n",
      "\n",
      "\n",
      "\n",
      "\n",
      "\n",
      "\n",
      "\n",
      "\n",
      "\n",
      "\n",
      "\n",
      "\n",
      "a11\n",
      ". . .\n",
      "a1j\n",
      ". . .\n",
      "a1n\n",
      ". . .\n",
      ". . .\n",
      ". . .\n",
      ". . .\n",
      ". . .\n",
      "ai1\n",
      ". . .\n",
      "aij\n",
      ". . .\n",
      "ain\n",
      ". . .\n",
      ". . .\n",
      ". . .\n",
      ". . .\n",
      ". . .\n",
      "am1\n",
      ". . .\n",
      "amj\n",
      ". . .\n",
      "amn\n",
      "\n",
      "Ví dụ1.1\n",
      "\n",
      "\u0013\n",
      "\n",
      "\u0013\n",
      "\n",
      "A =\n",
      "\u00123\n",
      "4\n",
      "1\n",
      "2\n",
      "0\n",
      "5\n",
      "\n",
      "2×3\n",
      ", B =\n",
      "\u00121 + i\n",
      "2\n",
      "3 −i\n",
      "4i\n",
      "\n",
      "A là ma trận cỡ2 × 3 có 2 hàng và 3 cột. Các phần tửcủa ma trận A:\n",
      "\n",
      "a11 = 3, a12 = 4, a13 = 1, a21 = 2, a22 = 0, a32 = 5.\n",
      "\n",
      "B là ma trận cỡ2 × 2 có các phần tửtrong phức.\n",
      "\n",
      "Ghi chú\n",
      "\n",
      "• Ma trận A cỡm × n thường được ký hiệu bởi A = (aij)m×n.\n",
      "\n",
      "• Tập tất cảcác ma trận cỡm×n trên trường sốK được ký hiệu Mm×n(K).\n",
      "\n",
      "Ma trận không.\n",
      "Ma trận không có tất cảcác phần tửbằng 0, ký hiệu là 0\n",
      "\n",
      "\u0013\n",
      ".\n",
      "\n",
      "02×3 =\n",
      "\u00120\n",
      "0\n",
      "0\n",
      "0\n",
      "0\n",
      "0\n",
      "\n",
      "Có vô sốma trận 0 tùy theo cỡ.\n",
      "\n",
      "11\n",
      "\n",
      "\n"
     ]
    }
   ],
   "source": [
    "doc = fitz.open('source/giao_trinh_4.pdf')\n",
    "page = doc.load_page(11)\n",
    "layout = extrac_text_and_formula(page)\n",
    "md = render_md(layout)\n",
    "print(md)"
   ]
  },
  {
   "cell_type": "code",
   "execution_count": 14,
   "id": "be9c0c1f",
   "metadata": {},
   "outputs": [
    {
     "name": "stderr",
     "output_type": "stream",
     "text": [
      "\u001b[32m[INFO] 2025-07-22 01:21:59,951 [RapidOCR] base.py:24: Using engine_name: onnxruntime\u001b[0m\n",
      "\u001b[32m[INFO] 2025-07-22 01:21:59,951 [RapidOCR] main.py:55: Using C:\\Users\\admin\\AppData\\Roaming\\cnstd\\1.2\\ppocr\\ch_PP-OCRv5_det\\ch_PP-OCRv5_det_infer.onnx\u001b[0m\n"
     ]
    },
    {
     "name": "stdout",
     "output_type": "stream",
     "text": [
      "\n",
      "0: 1024x736 9 titles, 11 plain texts, 1 abandon, 5 isolate_formulas, 1103.8ms\n",
      "Speed: 4.0ms preprocess, 1103.8ms inference, 0.0ms postprocess per image at shape (1, 3, 1024, 736)\n",
      "Loading C:\\Users\\admin\\AppData\\Roaming\\pix2text\\1.1\\mfd-onnx\\mfd-v20240618.onnx for ONNX Runtime inference...\n",
      "Using ONNX Runtime CPUExecutionProvider\n",
      "\n",
      "WARNING imgsz=[463, 768] must be multiple of max stride 32, updating to [480, 768]\n",
      "0: 480x768 (no detections), 116.2ms\n",
      "Speed: 3.7ms preprocess, 116.2ms inference, 0.6ms postprocess per image at shape (1, 3, 480, 768)\n"
     ]
    },
    {
     "name": "stderr",
     "output_type": "stream",
     "text": [
      "0it [00:00, ?it/s]\n"
     ]
    },
    {
     "name": "stdout",
     "output_type": "stream",
     "text": [
      "\n",
      "WARNING imgsz=[83, 1152] must be multiple of max stride 32, updating to [96, 1152]\n",
      "0: 96x1152 3 embeddings, 47.4ms\n",
      "Speed: 0.7ms preprocess, 47.4ms inference, 0.9ms postprocess per image at shape (1, 3, 96, 1152)\n"
     ]
    },
    {
     "name": "stderr",
     "output_type": "stream",
     "text": [
      "100%|██████████| 3/3 [00:00<00:00,  4.95it/s]\n",
      "100%|██████████| 1/1 [00:02<00:00,  2.64s/it]"
     ]
    },
    {
     "name": "stdout",
     "output_type": "stream",
     "text": [
      "\n",
      "WARNING imgsz=[346, 768] must be multiple of max stride 32, updating to [352, 768]\n",
      "0: 352x768 1 isolated, 92.0ms\n",
      "Speed: 1.6ms preprocess, 92.0ms inference, 1.7ms postprocess per image at shape (1, 3, 352, 768)\n"
     ]
    },
    {
     "name": "stderr",
     "output_type": "stream",
     "text": [
      "\n",
      "100%|██████████| 1/1 [00:00<00:00,  3.77it/s]\n",
      "100%|██████████| 1/1 [00:00<00:00,  1.01it/s]"
     ]
    },
    {
     "name": "stdout",
     "output_type": "stream",
     "text": [
      "\n",
      "WARNING imgsz=[102, 1152] must be multiple of max stride 32, updating to [128, 1152]\n",
      "0: 128x1152 2 embeddings, 40.8ms\n",
      "Speed: 1.0ms preprocess, 40.8ms inference, 0.9ms postprocess per image at shape (1, 3, 128, 1152)\n"
     ]
    },
    {
     "name": "stderr",
     "output_type": "stream",
     "text": [
      "\n",
      "100%|██████████| 2/2 [00:00<00:00,  5.92it/s]\n",
      "100%|██████████| 1/1 [00:00<00:00,  1.48it/s]"
     ]
    },
    {
     "name": "stdout",
     "output_type": "stream",
     "text": [
      "\n",
      "WARNING imgsz=[94, 768] must be multiple of max stride 32, updating to [96, 768]\n",
      "0: 96x768 2 embeddings, 22.3ms\n",
      "Speed: 0.9ms preprocess, 22.3ms inference, 1.6ms postprocess per image at shape (1, 3, 96, 768)\n"
     ]
    },
    {
     "name": "stderr",
     "output_type": "stream",
     "text": [
      "\n",
      "100%|██████████| 2/2 [00:00<00:00,  6.03it/s]\n"
     ]
    },
    {
     "name": "stdout",
     "output_type": "stream",
     "text": [
      "\n",
      "WARNING imgsz=[165, 1152] must be multiple of max stride 32, updating to [192, 1152]\n",
      "0: 192x1152 6 embeddings, 64.1ms\n",
      "Speed: 1.4ms preprocess, 64.1ms inference, 1.0ms postprocess per image at shape (1, 3, 192, 1152)\n"
     ]
    },
    {
     "name": "stderr",
     "output_type": "stream",
     "text": [
      "100%|██████████| 6/6 [00:01<00:00,  4.86it/s]\n"
     ]
    },
    {
     "name": "stdout",
     "output_type": "stream",
     "text": [
      "\n",
      "WARNING imgsz=[108, 1152] must be multiple of max stride 32, updating to [128, 1152]\n",
      "0: 128x1152 3 embeddings, 43.1ms\n",
      "Speed: 1.0ms preprocess, 43.1ms inference, 0.9ms postprocess per image at shape (1, 3, 128, 1152)\n"
     ]
    },
    {
     "name": "stderr",
     "output_type": "stream",
     "text": [
      "100%|██████████| 3/3 [00:00<00:00,  4.62it/s]\n"
     ]
    },
    {
     "name": "stdout",
     "output_type": "stream",
     "text": [
      "\n",
      "WARNING imgsz=[89, 1152] must be multiple of max stride 32, updating to [96, 1152]\n",
      "0: 96x1152 3 embeddings, 33.2ms\n",
      "Speed: 1.0ms preprocess, 33.2ms inference, 0.9ms postprocess per image at shape (1, 3, 96, 1152)\n"
     ]
    },
    {
     "name": "stderr",
     "output_type": "stream",
     "text": [
      "100%|██████████| 3/3 [00:00<00:00,  5.21it/s]\n"
     ]
    },
    {
     "name": "stdout",
     "output_type": "stream",
     "text": [
      "\n",
      "WARNING imgsz=[116, 1152] must be multiple of max stride 32, updating to [128, 1152]\n",
      "0: 128x1152 (no detections), 38.2ms\n",
      "Speed: 1.3ms preprocess, 38.2ms inference, 0.6ms postprocess per image at shape (1, 3, 128, 1152)\n"
     ]
    },
    {
     "name": "stderr",
     "output_type": "stream",
     "text": [
      "0it [00:00, ?it/s]\n",
      "100%|██████████| 1/1 [00:00<00:00,  1.66it/s]"
     ]
    },
    {
     "name": "stdout",
     "output_type": "stream",
     "text": [
      "\n",
      "WARNING imgsz=[140, 768] must be multiple of max stride 32, updating to [160, 768]\n",
      "0: 160x768 (no detections), 35.6ms\n",
      "Speed: 2.9ms preprocess, 35.6ms inference, 0.8ms postprocess per image at shape (1, 3, 160, 768)\n"
     ]
    },
    {
     "name": "stderr",
     "output_type": "stream",
     "text": [
      "\n",
      "0it [00:00, ?it/s]\n"
     ]
    },
    {
     "name": "stdout",
     "output_type": "stream",
     "text": [
      "\n",
      "WARNING imgsz=[1085, 768] must be multiple of max stride 32, updating to [1088, 768]\n",
      "0: 1088x768 (no detections), 264.8ms\n",
      "Speed: 7.4ms preprocess, 264.8ms inference, 0.7ms postprocess per image at shape (1, 3, 1088, 768)\n"
     ]
    },
    {
     "name": "stderr",
     "output_type": "stream",
     "text": [
      "0it [00:00, ?it/s]\n"
     ]
    },
    {
     "ename": "TypeError",
     "evalue": "'Page' object is not iterable",
     "output_type": "error",
     "traceback": [
      "\u001b[1;31m---------------------------------------------------------------------------\u001b[0m",
      "\u001b[1;31mTypeError\u001b[0m                                 Traceback (most recent call last)",
      "Cell \u001b[1;32mIn[14], line 153\u001b[0m\n\u001b[0;32m    150\u001b[0m doc \u001b[38;5;241m=\u001b[39m fitz\u001b[38;5;241m.\u001b[39mopen(\u001b[38;5;124m'\u001b[39m\u001b[38;5;124msource/giao_trinh_4.pdf\u001b[39m\u001b[38;5;124m'\u001b[39m)\n\u001b[0;32m    151\u001b[0m page \u001b[38;5;241m=\u001b[39m doc\u001b[38;5;241m.\u001b[39mload_page(\u001b[38;5;241m11\u001b[39m)\n\u001b[1;32m--> 153\u001b[0m layout \u001b[38;5;241m=\u001b[39m \u001b[43mextract_text_and_formula\u001b[49m\u001b[43m(\u001b[49m\u001b[43mpage\u001b[49m\u001b[43m,\u001b[49m\u001b[43m \u001b[49m\u001b[43mp2t\u001b[49m\u001b[43m)\u001b[49m\n\u001b[0;32m    154\u001b[0m md \u001b[38;5;241m=\u001b[39m render_md(layout)\n\u001b[0;32m    155\u001b[0m \u001b[38;5;28mprint\u001b[39m(md)\n",
      "Cell \u001b[1;32mIn[14], line 26\u001b[0m, in \u001b[0;36mextract_text_and_formula\u001b[1;34m(page, p2t_model)\u001b[0m\n\u001b[0;32m     24\u001b[0m results \u001b[38;5;241m=\u001b[39m p2t_model(img)\n\u001b[0;32m     25\u001b[0m \u001b[38;5;66;03m# Lọc ra chỉ những thành phần là công thức\u001b[39;00m\n\u001b[1;32m---> 26\u001b[0m formulas \u001b[38;5;241m=\u001b[39m [res \u001b[38;5;28;01mfor\u001b[39;00m res \u001b[38;5;129;01min\u001b[39;00m results \u001b[38;5;28;01mif\u001b[39;00m res[\u001b[38;5;124m'\u001b[39m\u001b[38;5;124mtype\u001b[39m\u001b[38;5;124m'\u001b[39m] \u001b[38;5;241m==\u001b[39m \u001b[38;5;124m'\u001b[39m\u001b[38;5;124mformula\u001b[39m\u001b[38;5;124m'\u001b[39m]\n\u001b[0;32m     28\u001b[0m \u001b[38;5;28mprint\u001b[39m(\u001b[38;5;124mf\u001b[39m\u001b[38;5;124m\"\u001b[39m\u001b[38;5;124mTrang \u001b[39m\u001b[38;5;132;01m{\u001b[39;00mpage\u001b[38;5;241m.\u001b[39mnumber\u001b[38;5;250m \u001b[39m\u001b[38;5;241m+\u001b[39m\u001b[38;5;250m \u001b[39m\u001b[38;5;241m1\u001b[39m\u001b[38;5;132;01m}\u001b[39;00m\u001b[38;5;124m: Tìm thấy \u001b[39m\u001b[38;5;132;01m{\u001b[39;00m\u001b[38;5;28mlen\u001b[39m(formulas)\u001b[38;5;132;01m}\u001b[39;00m\u001b[38;5;124m công thức.\u001b[39m\u001b[38;5;124m\"\u001b[39m)\n\u001b[0;32m     30\u001b[0m \u001b[38;5;66;03m# Nếu không tìm thấy công thức nào, trả về layout gốc\u001b[39;00m\n",
      "\u001b[1;31mTypeError\u001b[0m: 'Page' object is not iterable"
     ]
    }
   ],
   "source": [
    "import fitz\n",
    "from pix2text import Pix2Text\n",
    "\n",
    "# Hàm is_span_center_in_bbox (giữ nguyên, đã đúng)\n",
    "def is_span_center_in_bbox(span_bbox, formula_bbox):\n",
    "    \"\"\"Kiểm tra xem tâm của span_bbox có nằm trong formula_bbox không.\"\"\"\n",
    "    x1, y1, x2, y2 = span_bbox\n",
    "    X1, Y1, X2, Y2 = formula_bbox\n",
    "    span_center_x = (x1 + x2) / 2\n",
    "    span_center_y = (y1 + y2) / 2\n",
    "    return X1 < span_center_x < X2 and Y1 < span_center_y < Y2\n",
    "\n",
    "def extract_text_and_formula(page, p2t_model):\n",
    "    # 1. Trích xuất text gốc bằng fitz\n",
    "    layout = page.get_text('dict', sort=True)\n",
    "    \n",
    "    # 2. Nhận diện công thức bằng pix2text\n",
    "    DPI = 300\n",
    "    pix = page.get_pixmap(dpi=DPI)\n",
    "    img = pix.pil_image()\n",
    "    \n",
    "    # --- THAY ĐỔI QUAN TRỌNG: Sử dụng p2t() trực tiếp thay vì recognize_page() ---\n",
    "    # Phương thức này mạnh mẽ hơn và trả về một list các dictionary.\n",
    "    results = p2t_model(img)\n",
    "    # Lọc ra chỉ những thành phần là công thức\n",
    "    formulas = [res for res in results if res['type'] == 'formula']\n",
    "    \n",
    "    print(f\"Trang {page.number + 1}: Tìm thấy {len(formulas)} công thức.\")\n",
    "    \n",
    "    # Nếu không tìm thấy công thức nào, trả về layout gốc\n",
    "    if not formulas:\n",
    "        return layout\n",
    "\n",
    "    # Tính toán tỷ lệ chuyển đổi\n",
    "    scale = DPI / 72.0\n",
    "\n",
    "    # 3. Dọn dẹp: Tìm và đánh dấu các span bị công thức đè lên\n",
    "    spans_to_remove = set()\n",
    "    \n",
    "    # --- THAY ĐỔI NHỎ: Truy cập dict thay vì object ---\n",
    "    for f in formulas:\n",
    "        # Lấy tọa độ từ dictionary\n",
    "        pixel_bbox = f['position'] \n",
    "        formula_bbox_points = tuple(coord / scale for coord in pixel_bbox)\n",
    "        \n",
    "        for b_idx, block in enumerate(layout['blocks']):\n",
    "            for l_idx, line in enumerate(block.get('lines', [])):\n",
    "                for s_idx, span in enumerate(line['spans']):\n",
    "                    if is_span_center_in_bbox(span['bbox'], formula_bbox_points):\n",
    "                        spans_to_remove.add((b_idx, l_idx, s_idx))\n",
    "\n",
    "    # 4. Xây dựng lại layout sạch (Logic giữ nguyên)\n",
    "    new_blocks = []\n",
    "    for b_idx, block in enumerate(layout['blocks']):\n",
    "        new_lines = []\n",
    "        for l_idx, line in enumerate(block.get('lines', [])):\n",
    "            new_spans = [span for s_idx, span in enumerate(line['spans']) if (b_idx, l_idx, s_idx) not in spans_to_remove]\n",
    "            if new_spans:\n",
    "                # Cập nhật bbox của dòng để bao trọn các span còn lại\n",
    "                line_x0 = min(s['bbox'][0] for s in new_spans)\n",
    "                line_y0 = min(s['bbox'][1] for s in new_spans)\n",
    "                line_x1 = max(s['bbox'][2] for s in new_spans)\n",
    "                line_y1 = max(s['bbox'][3] for s in new_spans)\n",
    "                line['bbox'] = (line_x0, line_y0, line_x1, line_y1)\n",
    "                line['spans'] = new_spans\n",
    "                new_lines.append(line)\n",
    "        if new_lines:\n",
    "            block['lines'] = new_lines\n",
    "            new_blocks.append(block)\n",
    "    layout['blocks'] = new_blocks\n",
    "\n",
    "    # 5. Chèn công thức vào layout sạch\n",
    "    # --- THAY ĐỔI NHỎ: Truy cập dict thay vì object ---\n",
    "    for f in formulas:\n",
    "        pixel_bbox = f['position']\n",
    "        formula_bbox_points = tuple(coord / scale for coord in pixel_bbox)\n",
    "        \n",
    "        # Lấy text từ dictionary\n",
    "        latex_text = f'$$ {f[\"text\"]} $$'\n",
    "        \n",
    "        best_line = None\n",
    "        min_v_dist = float('inf')\n",
    "        formula_v_center = (formula_bbox_points[1] + formula_bbox_points[3]) / 2\n",
    "\n",
    "        for block in layout['blocks']:\n",
    "            for line in block.get('lines', []):\n",
    "                line_v_center = (line['bbox'][1] + line['bbox'][3]) / 2\n",
    "                v_dist = abs(formula_v_center - line_v_center)\n",
    "                if v_dist < min_v_dist:\n",
    "                    min_v_dist = v_dist\n",
    "                    best_line = line\n",
    "        \n",
    "        if not best_line or min_v_dist > 20: # Thêm ngưỡng để tránh chèn sai chỗ\n",
    "            formula_line_bbox = (page.rect.x0, formula_bbox_points[1], page.rect.x1, formula_bbox_points[3])\n",
    "            new_line = {'bbox': formula_line_bbox, 'spans': []}\n",
    "            new_block = {'type': 0, 'bbox': formula_line_bbox, 'lines': [new_line]}\n",
    "            layout['blocks'].append(new_block)\n",
    "            layout['blocks'].sort(key=lambda b: b['bbox'][1])\n",
    "            best_line = new_line\n",
    "        \n",
    "        formula_span = {'type': 'formula', 'text': latex_text, 'bbox': formula_bbox_points}\n",
    "        best_line['spans'].append(formula_span)\n",
    "        best_line['spans'].sort(key=lambda s: s['bbox'][0])\n",
    "\n",
    "    return layout\n",
    "\n",
    "# Hàm render_md (giữ nguyên, đã tốt)\n",
    "def render_md(layout):\n",
    "    \"\"\"Render layout dictionary thành một chuỗi Markdown sạch đẹp.\"\"\"\n",
    "    md = []\n",
    "    sorted_blocks = sorted(layout['blocks'], key=lambda b: b['bbox'][1])\n",
    "    for block in sorted_blocks:\n",
    "        block_text = []\n",
    "        sorted_lines = sorted(block.get('lines', []), key=lambda l: l['bbox'][1])\n",
    "        for line in sorted_lines:\n",
    "            sorted_spans = sorted(line['spans'], key=lambda s: s['bbox'][0])\n",
    "            line_parts = []\n",
    "            last_x2 = 0\n",
    "            is_prev_formula = False\n",
    "            for span in sorted_spans:\n",
    "                is_formula = span.get('type') == 'formula'\n",
    "                # Thêm dòng mới trước công thức nếu nó không đứng một mình\n",
    "                if is_formula and line_parts:\n",
    "                     # Thêm \\n để công thức luôn ở dòng riêng\n",
    "                    line_parts.append('\\n')\n",
    "\n",
    "                # Thêm khoảng trắng giữa các span text\n",
    "                if not is_formula and not is_prev_formula and last_x2 > 0 and span['bbox'][0] > last_x2 + 1:\n",
    "                    line_parts.append(' ')\n",
    "\n",
    "                line_parts.append(span['text'])\n",
    "                \n",
    "                if is_formula and line_parts:\n",
    "                    line_parts.append('\\n')\n",
    "\n",
    "                last_x2 = span['bbox'][2]\n",
    "                is_prev_formula = is_formula\n",
    "\n",
    "            block_text.append(\"\".join(line_parts).strip())\n",
    "        md.append(\"\\n\".join(block_text))\n",
    "    return \"\\n\\n\".join(filter(None, md)).strip()\n",
    "\n",
    "\n",
    "# --- Khối thực thi (giữ nguyên) ---\n",
    "p2t = Pix2Text.from_config(\n",
    "    enable_formula=True,\n",
    "    mfd_config={\"model_name\": \"mfd-pro\", \"model_backend\": \"onnx\"}\n",
    ")\n",
    "\n",
    "doc = fitz.open('source/giao_trinh_4.pdf')\n",
    "page = doc.load_page(11)\n",
    "\n",
    "layout = extract_text_and_formula(page, p2t)\n",
    "md = render_md(layout)\n",
    "print(md)"
   ]
  }
 ],
 "metadata": {
  "kernelspec": {
   "display_name": "ragmathenv",
   "language": "python",
   "name": "python3"
  },
  "language_info": {
   "codemirror_mode": {
    "name": "ipython",
    "version": 3
   },
   "file_extension": ".py",
   "mimetype": "text/x-python",
   "name": "python",
   "nbconvert_exporter": "python",
   "pygments_lexer": "ipython3",
   "version": "3.10.10"
  }
 },
 "nbformat": 4,
 "nbformat_minor": 5
}
