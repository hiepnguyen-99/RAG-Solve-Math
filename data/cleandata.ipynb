{
 "cells": [
  {
   "cell_type": "code",
   "execution_count": 3,
   "id": "c69e8076",
   "metadata": {},
   "outputs": [
    {
     "name": "stderr",
     "output_type": "stream",
     "text": [
      "[WARNING 2025-07-22 09:28:38,341 _showwarnmsg:109] d:\\User\\ProjectGithub\\hiepnguyenn-99\\RAG-Solve-Math\\ragmathenv\\lib\\site-packages\\tqdm\\auto.py:21: TqdmWarning: IProgress not found. Please update jupyter and ipywidgets. See https://ipywidgets.readthedocs.io/en/stable/user_install.html\n",
      "  from .autonotebook import tqdm as notebook_tqdm\n",
      " \n"
     ]
    }
   ],
   "source": [
    "import fitz, re\n",
    "from pix2text import Pix2Text"
   ]
  },
  {
   "cell_type": "markdown",
   "id": "83b4b4b4",
   "metadata": {},
   "source": [
    "# Slide_bai_giang_thay_Vinh.pdf"
   ]
  },
  {
   "cell_type": "code",
   "execution_count": 6,
   "id": "89b3d3d7",
   "metadata": {},
   "outputs": [
    {
     "name": "stderr",
     "output_type": "stream",
     "text": [
      "\u001b[32m[INFO] 2025-07-22 09:39:48,004 [RapidOCR] base.py:24: Using engine_name: onnxruntime\u001b[0m\n",
      "\u001b[32m[INFO] 2025-07-22 09:39:48,010 [RapidOCR] main.py:55: Using C:\\Users\\admin\\AppData\\Roaming\\cnstd\\1.2\\ppocr\\ch_PP-OCRv5_det\\ch_PP-OCRv5_det_infer.onnx\u001b[0m\n"
     ]
    },
    {
     "name": "stdout",
     "output_type": "stream",
     "text": [
      "\n",
      "0: 1024x736 9 titles, 11 plain texts, 1 abandon, 5 isolate_formulas, 1105.9ms\n",
      "Speed: 0.0ms preprocess, 1105.9ms inference, 0.0ms postprocess per image at shape (1, 3, 1024, 736)\n",
      "Loading C:\\Users\\admin\\AppData\\Roaming\\pix2text\\1.1\\mfd-onnx\\mfd-v20240618.onnx for ONNX Runtime inference...\n",
      "Using ONNX Runtime CPUExecutionProvider\n",
      "\n",
      "WARNING imgsz=[463, 768] must be multiple of max stride 32, updating to [480, 768]\n",
      "0: 480x768 (no detections), 118.2ms\n",
      "Speed: 3.6ms preprocess, 118.2ms inference, 0.7ms postprocess per image at shape (1, 3, 480, 768)\n"
     ]
    },
    {
     "name": "stderr",
     "output_type": "stream",
     "text": [
      "0it [00:00, ?it/s]\n"
     ]
    },
    {
     "name": "stdout",
     "output_type": "stream",
     "text": [
      "\n",
      "WARNING imgsz=[83, 1152] must be multiple of max stride 32, updating to [96, 1152]\n",
      "0: 96x1152 3 embeddings, 49.7ms\n",
      "Speed: 0.7ms preprocess, 49.7ms inference, 1.2ms postprocess per image at shape (1, 3, 96, 1152)\n"
     ]
    },
    {
     "name": "stderr",
     "output_type": "stream",
     "text": [
      "100%|██████████| 3/3 [00:00<00:00,  4.85it/s]\n",
      "100%|██████████| 1/1 [00:02<00:00,  2.76s/it]"
     ]
    },
    {
     "name": "stdout",
     "output_type": "stream",
     "text": [
      "\n",
      "WARNING imgsz=[346, 768] must be multiple of max stride 32, updating to [352, 768]\n",
      "0: 352x768 1 isolated, 89.8ms\n",
      "Speed: 1.7ms preprocess, 89.8ms inference, 1.2ms postprocess per image at shape (1, 3, 352, 768)\n"
     ]
    },
    {
     "name": "stderr",
     "output_type": "stream",
     "text": [
      "\n",
      "100%|██████████| 1/1 [00:00<00:00,  4.19it/s]\n",
      "100%|██████████| 1/1 [00:00<00:00,  1.05it/s]"
     ]
    },
    {
     "name": "stdout",
     "output_type": "stream",
     "text": [
      "\n",
      "WARNING imgsz=[102, 1152] must be multiple of max stride 32, updating to [128, 1152]\n",
      "0: 128x1152 2 embeddings, 40.2ms\n",
      "Speed: 1.1ms preprocess, 40.2ms inference, 1.5ms postprocess per image at shape (1, 3, 128, 1152)\n"
     ]
    },
    {
     "name": "stderr",
     "output_type": "stream",
     "text": [
      "\n",
      "100%|██████████| 2/2 [00:00<00:00,  5.52it/s]\n",
      "100%|██████████| 1/1 [00:00<00:00,  1.63it/s]"
     ]
    },
    {
     "name": "stdout",
     "output_type": "stream",
     "text": [
      "\n",
      "WARNING imgsz=[94, 768] must be multiple of max stride 32, updating to [96, 768]\n",
      "0: 96x768 2 embeddings, 25.3ms\n",
      "Speed: 0.9ms preprocess, 25.3ms inference, 1.6ms postprocess per image at shape (1, 3, 96, 768)\n"
     ]
    },
    {
     "name": "stderr",
     "output_type": "stream",
     "text": [
      "\n",
      "100%|██████████| 2/2 [00:00<00:00,  5.34it/s]\n"
     ]
    },
    {
     "name": "stdout",
     "output_type": "stream",
     "text": [
      "\n",
      "WARNING imgsz=[165, 1152] must be multiple of max stride 32, updating to [192, 1152]\n",
      "0: 192x1152 6 embeddings, 75.7ms\n",
      "Speed: 1.7ms preprocess, 75.7ms inference, 0.8ms postprocess per image at shape (1, 3, 192, 1152)\n"
     ]
    },
    {
     "name": "stderr",
     "output_type": "stream",
     "text": [
      "100%|██████████| 6/6 [00:01<00:00,  3.60it/s]\n"
     ]
    },
    {
     "name": "stdout",
     "output_type": "stream",
     "text": [
      "\n",
      "WARNING imgsz=[108, 1152] must be multiple of max stride 32, updating to [128, 1152]\n",
      "0: 128x1152 3 embeddings, 72.3ms\n",
      "Speed: 1.3ms preprocess, 72.3ms inference, 1.0ms postprocess per image at shape (1, 3, 128, 1152)\n"
     ]
    },
    {
     "name": "stderr",
     "output_type": "stream",
     "text": [
      "100%|██████████| 3/3 [00:00<00:00,  3.76it/s]\n"
     ]
    },
    {
     "name": "stdout",
     "output_type": "stream",
     "text": [
      "\n",
      "WARNING imgsz=[89, 1152] must be multiple of max stride 32, updating to [96, 1152]\n",
      "0: 96x1152 3 embeddings, 34.2ms\n",
      "Speed: 0.9ms preprocess, 34.2ms inference, 1.1ms postprocess per image at shape (1, 3, 96, 1152)\n"
     ]
    },
    {
     "name": "stderr",
     "output_type": "stream",
     "text": [
      "100%|██████████| 3/3 [00:00<00:00,  4.69it/s]\n"
     ]
    },
    {
     "name": "stdout",
     "output_type": "stream",
     "text": [
      "\n",
      "WARNING imgsz=[116, 1152] must be multiple of max stride 32, updating to [128, 1152]\n",
      "0: 128x1152 (no detections), 69.7ms\n",
      "Speed: 1.7ms preprocess, 69.7ms inference, 0.8ms postprocess per image at shape (1, 3, 128, 1152)\n"
     ]
    },
    {
     "name": "stderr",
     "output_type": "stream",
     "text": [
      "0it [00:00, ?it/s]\n",
      "100%|██████████| 1/1 [00:00<00:00,  1.44it/s]"
     ]
    },
    {
     "name": "stdout",
     "output_type": "stream",
     "text": [
      "\n",
      "WARNING imgsz=[140, 768] must be multiple of max stride 32, updating to [160, 768]\n",
      "0: 160x768 (no detections), 42.2ms\n",
      "Speed: 1.2ms preprocess, 42.2ms inference, 0.9ms postprocess per image at shape (1, 3, 160, 768)\n"
     ]
    },
    {
     "name": "stderr",
     "output_type": "stream",
     "text": [
      "\n",
      "0it [00:00, ?it/s]\n"
     ]
    },
    {
     "name": "stdout",
     "output_type": "stream",
     "text": [
      "\n",
      "WARNING imgsz=[1085, 768] must be multiple of max stride 32, updating to [1088, 768]\n",
      "0: 1088x768 (no detections), 266.1ms\n",
      "Speed: 8.7ms preprocess, 266.1ms inference, 0.7ms postprocess per image at shape (1, 3, 1088, 768)\n"
     ]
    },
    {
     "name": "stderr",
     "output_type": "stream",
     "text": [
      "0it [00:00, ?it/s]\n"
     ]
    },
    {
     "name": "stdout",
     "output_type": "stream",
     "text": [
      "[]\n",
      "Chương 1\n",
      "\n",
      "Ma trận\n",
      "\n",
      "Nội dung\n",
      "\n",
      "• Định nghĩa và ví dụ.\n",
      "\n",
      "• Các phép biến đổi sơ cấp.\n",
      "\n",
      "• Các phép toán đối với ma trận.\n",
      "\n",
      "• Hạng của ma trận.\n",
      "\n",
      "• Ma trận nghịch đảo.\n",
      "\n",
      "1.1\n",
      "Các khái niệm cơ bản\n",
      "\n",
      "Định nghĩa 1.1 (Ma trận) .\n",
      "Ma trận cỡm × n là một bảng số(thực hoặc phức) hình chữnhật có m hàng và n cột.\n",
      "\n",
      "\n",
      "\n",
      "\n",
      "\n",
      "A =\n",
      "\n",
      "\n",
      "\n",
      "\n",
      "\n",
      "\n",
      "\n",
      "\n",
      "\n",
      "\n",
      "\n",
      "\n",
      "\n",
      "a11\n",
      ". . .\n",
      "a1j\n",
      ". . .\n",
      "a1n\n",
      ". . .\n",
      ". . .\n",
      ". . .\n",
      ". . .\n",
      ". . .\n",
      "ai1\n",
      ". . .\n",
      "aij\n",
      ". . .\n",
      "ain\n",
      ". . .\n",
      ". . .\n",
      ". . .\n",
      ". . .\n",
      ". . .\n",
      "am1\n",
      ". . .\n",
      "amj\n",
      ". . .\n",
      "amn\n",
      "\n",
      "Ví dụ1.1\n",
      "\n",
      "\u0013\n",
      "\n",
      "\u0013\n",
      "\n",
      "A =\n",
      "\u00123\n",
      "4\n",
      "1\n",
      "2\n",
      "0\n",
      "5\n",
      "\n",
      "2×3\n",
      ", B =\n",
      "\u00121 + i\n",
      "2\n",
      "3 −i\n",
      "4i\n",
      "\n",
      "A là ma trận cỡ2 × 3 có 2 hàng và 3 cột. Các phần tửcủa ma trận A:\n",
      "\n",
      "a11 = 3, a12 = 4, a13 = 1, a21 = 2, a22 = 0, a32 = 5.\n",
      "\n",
      "B là ma trận cỡ2 × 2 có các phần tửtrong phức.\n",
      "\n",
      "Ghi chú\n",
      "\n",
      "• Ma trận A cỡm × n thường được ký hiệu bởi A = (aij)m×n.\n",
      "\n",
      "• Tập tất cảcác ma trận cỡm×n trên trường sốK được ký hiệu Mm×n(K).\n",
      "\n",
      "Ma trận không.\n",
      "Ma trận không có tất cảcác phần tửbằng 0, ký hiệu là 0\n",
      "\n",
      "\u0013\n",
      ".\n",
      "\n",
      "02×3 =\n",
      "\u00120\n",
      "0\n",
      "0\n",
      "0\n",
      "0\n",
      "0\n",
      "\n",
      "Có vô sốma trận 0 tùy theo cỡ.\n",
      "\n",
      "11\n",
      "\n",
      "\n"
     ]
    }
   ],
   "source": [
    "# trích suất trang đầu phần 1.1 Các khái niệm cơ bản\n",
    "\n",
    "p2t = Pix2Text.from_config(\n",
    "    enable_formula=True,\n",
    "    mfd_config={\"model_name\": \"mfd-pro\", \"model_backend\": \"onnx\"}\n",
    "    )\n",
    "\n",
    "# phát hiện công thức và chuyển thành latex\n",
    "def extrac_text_and_formula(page):\n",
    "    layout = page.get_text('dict', sort=True)\n",
    "    pix = page.get_pixmap(dpi=300)\n",
    "    img = pix.pil_image() # chuyển về ảnh pil\n",
    "    \n",
    "    # phát hiện công thức trong ảnh\n",
    "    page_obj = p2t.recognize_page(img, page_number=page.number, text_contain_formula=True, save_debug_res=None) \n",
    "    formulas = [e for e in page_obj.elements if e.type == 'FORMULA']\n",
    "    print(formulas)\n",
    "\n",
    "    for f in formulas:\n",
    "        r = f.position # region (x0, y0, x1, y1)\n",
    "        latex = f.text\n",
    "        for block in layout['blocks']:\n",
    "            for line in block.get('lines', []):\n",
    "                for i, span in enumerate(line['spans']):\n",
    "                    sb = span['bbox'] # span box (x0, y0, x1, y1)\n",
    "                    if not (sb[0] > r[2] or sb[1] > r[3] or sb[2] < r[0] or sb[3] < r[1]):\n",
    "                        line['spans'][i] = {\n",
    "                            'type': 'formula',\n",
    "                            'text': f'$$ {latex} $$',\n",
    "                            'bbox': r\n",
    "                        }\n",
    "                        break\n",
    "    return layout\n",
    "\n",
    "# chuyển pdf về markdown\n",
    "def render_md(layout):\n",
    "    md = ''\n",
    "    for block in layout['blocks']:\n",
    "        for line in block.get('lines', []):\n",
    "            spans = sorted(line['spans'], key=lambda s: s['bbox'][0])\n",
    "            for s in spans:\n",
    "                md += s['text']\n",
    "            md += '\\n'\n",
    "        md += '\\n'\n",
    "    return md\n",
    "\n",
    "doc = fitz.open('source/giao_trinh_4.pdf')\n",
    "page = doc.load_page(11)\n",
    "layout = extrac_text_and_formula(page)\n",
    "md = render_md(layout)\n",
    "print(md)"
   ]
  }
 ],
 "metadata": {
  "kernelspec": {
   "display_name": "ragmathenv",
   "language": "python",
   "name": "python3"
  },
  "language_info": {
   "codemirror_mode": {
    "name": "ipython",
    "version": 3
   },
   "file_extension": ".py",
   "mimetype": "text/x-python",
   "name": "python",
   "nbconvert_exporter": "python",
   "pygments_lexer": "ipython3",
   "version": "3.10.10"
  }
 },
 "nbformat": 4,
 "nbformat_minor": 5
}
