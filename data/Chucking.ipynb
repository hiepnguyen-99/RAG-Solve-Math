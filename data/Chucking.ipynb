{
 "cells": [
  {
   "cell_type": "code",
   "execution_count": null,
   "id": "22043555",
   "metadata": {},
   "outputs": [
    {
     "name": "stdout",
     "output_type": "stream",
     "text": [
      "WARNING:tensorflow:From c:\\Users\\dongh\\AppData\\Local\\Programs\\Python\\Python310\\lib\\site-packages\\tf_keras\\src\\losses.py:2976: The name tf.losses.sparse_softmax_cross_entropy is deprecated. Please use tf.compat.v1.losses.sparse_softmax_cross_entropy instead.\n",
      "\n"
     ]
    }
   ],
   "source": [
    "import re\n",
    "import os\n",
    "import torch\n",
    "import glob\n",
    "import hashlib\n",
    "\n",
    "from langchain.text_splitter import MarkdownHeaderTextSplitter\n",
    "from langchain.document_loaders import TextLoader, DirectoryLoader\n",
    "from sentence_transformers import SentenceTransformer\n",
    "from langchain.vectorstores import Chroma\n",
    "from langchain.embeddings import HuggingFaceEmbeddings\n",
    "from langchain.schema import Document\n",
    "from more_itertools import chunked\n",
    "\n",
    "\n",
    "DEVICE = \"cuda\" if torch.cuda.is_available() else \"cpu\"\n",
    "raw_data_folder = \"data/cleaned\"\n",
    "model_name = \"intfloat/multilingual-e5-base\"\n",
    "persist_directory = \"chroma_db\""
   ]
  },
  {
   "cell_type": "markdown",
   "id": "821141d2",
   "metadata": {},
   "source": [
    "## READ_FILES"
   ]
  },
  {
   "cell_type": "code",
   "execution_count": 2,
   "id": "fb89f1b0",
   "metadata": {},
   "outputs": [],
   "source": [
    "txt_files = glob.glob(os.path.join(raw_data_folder, \"*.txt\"))\n",
    "md_files = glob.glob(os.path.join(raw_data_folder, \"*.md\"))\n",
    "\n",
    "def read_txt_file(file_path):\n",
    "    try:\n",
    "        with open(file_path, 'r', encoding='utf-8') as file:\n",
    "            return file.read()\n",
    "    except FileNotFoundError:\n",
    "        print(f\"File not found: {file_path}\")\n",
    "        return None\n",
    "    \n",
    "def clean_text(text):\n",
    "    #text.to_lower()  # Chuyển đổi chữ hoa thành chữ thường\n",
    "    #text = re.sub(r'#* ', '', text)  # Remove Markdown headers\n",
    "    text = re.sub(r'\\n+', ' ', text)  # Remove newlines\n",
    "    text = text.strip() \n",
    "    return text\n",
    "\n",
    "markdown_text = \"\"\n",
    "\n",
    "for file_path in md_files:\n",
    "    try:\n",
    "        content = read_txt_file(file_path)\n",
    "        #content = clean_text(content)\n",
    "        if content:\n",
    "            markdown_text += f\"\\n\\n## {os.path.basename(file_path)}\\n\\n{content}\"\n",
    "    except Exception as e:\n",
    "        print(f\"Error reading {file_path}: {e}\")"
   ]
  },
  {
   "cell_type": "code",
   "execution_count": 3,
   "id": "2104f8fa",
   "metadata": {},
   "outputs": [
    {
     "name": "stderr",
     "output_type": "stream",
     "text": [
      "100%|██████████| 1/1 [00:00<00:00, 997.93it/s]\n"
     ]
    },
    {
     "data": {
      "text/plain": [
       "[Document(metadata={'source': 'data\\\\cleaned\\\\page12.md'}, page_content='# Chương 1 Ma trận\\n\\n## 1.1 Các khái niệm cơ bản\\n\\nĐịnh nghĩa 1.1 (Ma trận) . Ma trận cỡ m × n là một bảng số (thực hoặc phức) hình chữ nhật có m hàng và n cột.\\n\\n$$ A = \\\\left( \\\\begin{matrix} { a }_{ 11 } & \\\\cdots & { a }_{ 1j } & \\\\cdots & { a }_{ 1n } \\\\\\\\ \\\\vdots & \\\\ddots & \\\\vdots & \\\\ddots & \\\\vdots \\\\\\\\ { a }_{ i1 } & \\\\cdots & { a }_{ ij } & \\\\cdots & { a }_{ in } \\\\\\\\ \\\\vdots & \\\\ddots & \\\\vdots & \\\\ddots & \\\\vdots \\\\\\\\ { a }_{ m1 } & \\\\cdots & { a }_{ mj } & \\\\cdots & { a }_{ mn } \\\\end{matrix} \\\\right) $$\\n\\nVí dụ 1.1\\n\\n$$ A = \\\\left( \\\\begin{matrix} 3 & 4 & 1 \\\\\\\\ 2 & 0 & 5 \\\\end{matrix} \\\\right)_{ 2 \\\\times 3 } , \\\\quad B = \\\\left( \\\\begin{matrix} 1 + i & 2 \\\\\\\\ 3-i & 4i \\\\end{matrix} \\\\right) $$\\n\\nA là ma trận cỡ 2 × 3 có 2 hàng và 3 cột. Các phần tử của ma trận A:\\n\\na11 = 3, a12 = 4, a13 = 1, a21 = 2, a22 = 0, a32 = 5.\\n\\nB là ma trận cỡ 2 × 2 có các phần tử trong phức.\\n\\nGhi chú\\n\\n• Ma trận A cỡ m × n thường được ký hiệu bởi A = (aij)m×n.\\n\\n• Tập tất cả các ma trận cỡ m×n trên trường số K được ký hiệu Mm×n(K).\\n\\nMa trận không. Ma trận không có tất cả các phần tử bằng 0, ký hiệu là 0.\\n\\n$$ \\\\mathbf{ 0 }_{ 2 \\\\times 3 } = \\\\left( \\\\begin{matrix} 0 & 0 & 0 \\\\\\\\ 0 & 0 & 0 \\\\end{matrix} \\\\right) $$\\n\\nCó vô số ma trận 0 tùy theo cỡ.')]"
      ]
     },
     "execution_count": 3,
     "metadata": {},
     "output_type": "execute_result"
    }
   ],
   "source": [
    "loeader = DirectoryLoader(raw_data_folder,\n",
    "                           glob=\"**/*.md\",\n",
    "                             show_progress=True,\n",
    "                              loader_cls=TextLoader,\n",
    "                              loader_kwargs={\"encoding\": \"utf-8\"}\n",
    "                              )\n",
    "documents = loeader.load()\n",
    "documents\n"
   ]
  },
  {
   "cell_type": "markdown",
   "id": "b44746b4",
   "metadata": {},
   "source": [
    "## CHUCKING"
   ]
  },
  {
   "cell_type": "code",
   "execution_count": 4,
   "id": "b416bcaf",
   "metadata": {},
   "outputs": [],
   "source": [
    "headers_to_split_on = [\n",
    "            (\"#\", \"Header 1\"),\n",
    "            (\"##\", \"Header 2\"),\n",
    "            (\"###\", \"Header 3\"),\n",
    "            (\"####\", \"Header 4\"),\n",
    "            ]\n",
    "\n",
    "splitter = MarkdownHeaderTextSplitter(\n",
    "    headers_to_split_on = headers_to_split_on\n",
    ")\n",
    "\n",
    "\n",
    "\n",
    "# Split the documents into chunks based on the headers\n",
    "\n",
    "all_chunks = []\n",
    "for doc in documents:\n",
    "    chunks = splitter.split_text(doc.page_content)\n",
    "    for chunk in chunks:\n",
    "        chunk.metadata[\"source\"] = doc.metadata.get(\"source\", \"\")\n",
    "    all_chunks.extend(chunks)\n",
    "\n",
    "#chunks = splitter.split_text(all_chunks)\n"
   ]
  },
  {
   "cell_type": "code",
   "execution_count": 5,
   "id": "662736de",
   "metadata": {},
   "outputs": [
    {
     "data": {
      "text/plain": [
       "[Document(metadata={'Header 1': 'Chương 1 Ma trận', 'Header 2': '1.1 Các khái niệm cơ bản', 'source': 'data\\\\cleaned\\\\page12.md'}, page_content='Định nghĩa 1.1 (Ma trận) . Ma trận cỡ m × n là một bảng số (thực hoặc phức) hình chữ nhật có m hàng và n cột.  \\n$$ A = \\\\left( \\\\begin{matrix} { a }_{ 11 } & \\\\cdots & { a }_{ 1j } & \\\\cdots & { a }_{ 1n } \\\\\\\\ \\\\vdots & \\\\ddots & \\\\vdots & \\\\ddots & \\\\vdots \\\\\\\\ { a }_{ i1 } & \\\\cdots & { a }_{ ij } & \\\\cdots & { a }_{ in } \\\\\\\\ \\\\vdots & \\\\ddots & \\\\vdots & \\\\ddots & \\\\vdots \\\\\\\\ { a }_{ m1 } & \\\\cdots & { a }_{ mj } & \\\\cdots & { a }_{ mn } \\\\end{matrix} \\\\right) $$  \\nVí dụ 1.1  \\n$$ A = \\\\left( \\\\begin{matrix} 3 & 4 & 1 \\\\\\\\ 2 & 0 & 5 \\\\end{matrix} \\\\right)_{ 2 \\\\times 3 } , \\\\quad B = \\\\left( \\\\begin{matrix} 1 + i & 2 \\\\\\\\ 3-i & 4i \\\\end{matrix} \\\\right) $$  \\nA là ma trận cỡ 2 × 3 có 2 hàng và 3 cột. Các phần tử của ma trận A:  \\na11 = 3, a12 = 4, a13 = 1, a21 = 2, a22 = 0, a32 = 5.  \\nB là ma trận cỡ 2 × 2 có các phần tử trong phức.  \\nGhi chú  \\n• Ma trận A cỡ m × n thường được ký hiệu bởi A = (aij)m×n.  \\n• Tập tất cả các ma trận cỡ m×n trên trường số K được ký hiệu Mm×n(K).  \\nMa trận không. Ma trận không có tất cả các phần tử bằng 0, ký hiệu là 0.  \\n$$ \\\\mathbf{ 0 }_{ 2 \\\\times 3 } = \\\\left( \\\\begin{matrix} 0 & 0 & 0 \\\\\\\\ 0 & 0 & 0 \\\\end{matrix} \\\\right) $$  \\nCó vô số ma trận 0 tùy theo cỡ.')]"
      ]
     },
     "execution_count": 5,
     "metadata": {},
     "output_type": "execute_result"
    }
   ],
   "source": [
    "all_chunks"
   ]
  },
  {
   "cell_type": "markdown",
   "id": "a006ea32",
   "metadata": {},
   "source": [
    "## EMBEDING"
   ]
  },
  {
   "cell_type": "code",
   "execution_count": null,
   "id": "5530bd95",
   "metadata": {},
   "outputs": [
    {
     "name": "stderr",
     "output_type": "stream",
     "text": [
      "C:\\Users\\dongh\\AppData\\Local\\Temp\\ipykernel_16464\\3186819850.py:1: LangChainDeprecationWarning: The class `HuggingFaceEmbeddings` was deprecated in LangChain 0.2.2 and will be removed in 1.0. An updated version of the class exists in the :class:`~langchain-huggingface package and should be used instead. To use it run `pip install -U :class:`~langchain-huggingface` and import as `from :class:`~langchain_huggingface import HuggingFaceEmbeddings``.\n",
      "  embedding_model = HuggingFaceEmbeddings(\n"
     ]
    }
   ],
   "source": [
    "embedding_model = HuggingFaceEmbeddings(\n",
    "    model_name=model_name,\n",
    "    model_kwargs={\"device\": DEVICE},\n",
    "    encode_kwargs={\"normalize_embeddings\": True}\n",
    ")\n",
    "\n",
    "\n",
    "if os.path.exists(persist_directory):\n",
    "    print(f\"Persist directory {persist_directory} already exists. Loading existing vectorstore.\")\n",
    "    vectorstore = Chroma(persist_directory=persist_directory,\n",
    "                            embedding=embedding_model,\n",
    "                          collection_name=\"math_vectors\")\n",
    "    #vectorstore.add_documents(all_chunks)\n",
    "    BATCH_SIZE = 100\n",
    "    for i, chunk in enumerate(chunked(all_chunks, BATCH_SIZE)):\n",
    "        print(f\"Processing chunk {i + 1}/{len(all_chunks) // BATCH_SIZE + 1}\")\n",
    "        vectorstore.add_documents(chunk)\n",
    "else:\n",
    "    vectorstore = Chroma.from_documents(\n",
    "        documents=all_chunks,\n",
    "        embedding=embedding_model,\n",
    "        persist_directory=persist_directory,\n",
    "        collection_name=\"math_vectors\"\n",
    "    )\n",
    "\n",
    "\n",
    "\n",
    "\n",
    "#vectorstore.persist()"
   ]
  },
  {
   "cell_type": "markdown",
   "id": "c7e9307a",
   "metadata": {},
   "source": [
    "Test"
   ]
  },
  {
   "cell_type": "code",
   "execution_count": 14,
   "id": "80e6d71b",
   "metadata": {},
   "outputs": [
    {
     "name": "stdout",
     "output_type": "stream",
     "text": [
      "\n",
      "--- Kết quả 1 ---\n",
      "Từ file: data\\cleaned\\page12.md\n",
      "header1 Chương 1 Ma trận\n",
      "header2 1.1 Các khái niệm cơ bản\n",
      "header3 \n",
      "Định nghĩa 1.1 (Ma trận) . Ma trận cỡ m × n là một bảng số (thực hoặc phức) hình chữ nhật có m hàng và n cột.  \n",
      "$$ A = \\left( \\begin{matrix} { a }_{ 11 } & \\cdots & { a }_{ 1j } & \\cdots & { a }_{ 1n } \\\\ \\vdots & \\ddots & \\vdots & \\ddots & \\vdots \\\\ { a }_{ i1 } & \\cdots & { a }_{ ij } & \\cdots & { a }_{ in } \\\\ \\vdots & \\ddots & \\vdots & \\ddots & \\vdots \\\\ { a }_{ m1 } & \\cdots & { a }_{ mj } & \\cdots & { a }_{ mn } \\end{matrix} \\right) $$  \n",
      "Ví dụ 1.1  \n",
      "$$ A = \\left( \\begin{matrix} 3 & 4 & 1 \\\\ 2 & 0 & 5 \\end{matrix} \\right)_{ 2 \\times 3 } , \\quad B = \\left( \\begin{matrix} 1 + i & 2 \\\\ 3-i & 4i \\end{matrix} \\right) $$  \n",
      "A là ma trận cỡ 2 × 3 có 2 hàng và 3 cột. Các phần tử của ma trận A:  \n",
      "a11 = 3, a12 = 4, a13 = 1, a21 = 2, a22 = 0, a32 = 5.  \n",
      "B là ma trận cỡ 2 × 2 có các phần tử trong phức.  \n",
      "Ghi chú  \n",
      "• Ma trận A cỡ m × n thường được ký hiệu bởi A = (aij)m×n.  \n",
      "• Tập tất cả các ma trận cỡ m×n trên trường số K được ký hiệu Mm×n(K).  \n",
      "Ma trận không. Ma trận không có tất cả các phần tử bằng 0, ký hiệu là 0.  \n",
      "$$ \\mathbf{ 0 }_{ 2 \\times 3 } = \\left( \\begin{matrix} 0 & 0 & 0 \\\\ 0 & 0 & 0 \\end{matrix} \\right) $$  \n",
      "Có vô số ma trận 0 tùy theo cỡ. ...\n",
      "\n",
      "--- Kết quả 2 ---\n",
      "Từ file: data\\cleaned\\page12.md\n",
      "header1 Chương 1 Ma trận\n",
      "header2 1.1 Các khái niệm cơ bản\n",
      "header3 \n",
      "Định nghĩa 1.1 (Ma trận) . Ma trận cỡ m × n là một bảng số (thực hoặc phức) hình chữ nhật có m hàng và n cột.  \n",
      "$$ A = \\left( \\begin{matrix} { a }_{ 11 } & \\cdots & { a }_{ 1j } & \\cdots & { a }_{ 1n } \\\\ \\vdots & \\ddots & \\vdots & \\ddots & \\vdots \\\\ { a }_{ i1 } & \\cdots & { a }_{ ij } & \\cdots & { a }_{ in } \\\\ \\vdots & \\ddots & \\vdots & \\ddots & \\vdots \\\\ { a }_{ m1 } & \\cdots & { a }_{ mj } & \\cdots & { a }_{ mn } \\end{matrix} \\right) $$  \n",
      "Ví dụ 1.1  \n",
      "$$ A = \\left( \\begin{matrix} 3 & 4 & 1 \\\\ 2 & 0 & 5 \\end{matrix} \\right)_{ 2 \\times 3 } , \\quad B = \\left( \\begin{matrix} 1 + i & 2 \\\\ 3-i & 4i \\end{matrix} \\right) $$  \n",
      "A là ma trận cỡ 2 × 3 có 2 hàng và 3 cột. Các phần tử của ma trận A:  \n",
      "a11 = 3, a12 = 4, a13 = 1, a21 = 2, a22 = 0, a32 = 5.  \n",
      "B là ma trận cỡ 2 × 2 có các phần tử trong phức.  \n",
      "Ghi chú  \n",
      "• Ma trận A cỡ m × n thường được ký hiệu bởi A = (aij)m×n.  \n",
      "• Tập tất cả các ma trận cỡ m×n trên trường số K được ký hiệu Mm×n(K).  \n",
      "Ma trận không. Ma trận không có tất cả các phần tử bằng 0, ký hiệu là 0.  \n",
      "$$ \\mathbf{ 0 }_{ 2 \\times 3 } = \\left( \\begin{matrix} 0 & 0 & 0 \\\\ 0 & 0 & 0 \\end{matrix} \\right) $$  \n",
      "Có vô số ma trận 0 tùy theo cỡ. ...\n",
      "\n",
      "--- Kết quả 3 ---\n",
      "Từ file: data\\cleaned\\page12.md\n",
      "header1 Chương 1 Ma trận\n",
      "header2 1.1 Các khái niệm cơ bản\n",
      "header3 \n",
      "Định nghĩa 1.1 (Ma trận) . Ma trận cỡ m × n là một bảng số (thực hoặc phức) hình chữ nhật có m hàng và n cột.  \n",
      "$$ A = \\left( \\begin{matrix} { a }_{ 11 } & \\cdots & { a }_{ 1j } & \\cdots & { a }_{ 1n } \\\\ \\vdots & \\ddots & \\vdots & \\ddots & \\vdots \\\\ { a }_{ i1 } & \\cdots & { a }_{ ij } & \\cdots & { a }_{ in } \\\\ \\vdots & \\ddots & \\vdots & \\ddots & \\vdots \\\\ { a }_{ m1 } & \\cdots & { a }_{ mj } & \\cdots & { a }_{ mn } \\end{matrix} \\right) $$  \n",
      "Ví dụ 1.1  \n",
      "$$ A = \\left( \\begin{matrix} 3 & 4 & 1 \\\\ 2 & 0 & 5 \\end{matrix} \\right)_{ 2 \\times 3 } , \\quad B = \\left( \\begin{matrix} 1 + i & 2 \\\\ 3-i & 4i \\end{matrix} \\right) $$  \n",
      "A là ma trận cỡ 2 × 3 có 2 hàng và 3 cột. Các phần tử của ma trận A:  \n",
      "a11 = 3, a12 = 4, a13 = 1, a21 = 2, a22 = 0, a32 = 5.  \n",
      "B là ma trận cỡ 2 × 2 có các phần tử trong phức.  \n",
      "Ghi chú  \n",
      "• Ma trận A cỡ m × n thường được ký hiệu bởi A = (aij)m×n.  \n",
      "• Tập tất cả các ma trận cỡ m×n trên trường số K được ký hiệu Mm×n(K).  \n",
      "Ma trận không. Ma trận không có tất cả các phần tử bằng 0, ký hiệu là 0.  \n",
      "$$ \\mathbf{ 0 }_{ 2 \\times 3 } = \\left( \\begin{matrix} 0 & 0 & 0 \\\\ 0 & 0 & 0 \\end{matrix} \\right) $$  \n",
      "Có vô số ma trận 0 tùy theo cỡ. ...\n"
     ]
    }
   ],
   "source": [
    "from langchain.chains import RetrievalQA\n",
    "\n",
    "\n",
    "vectorstore = Chroma(\n",
    "    persist_directory=persist_directory,\n",
    "    embedding_function=embedding_model,\n",
    "    collection_name=\"math_vectors\"\n",
    ")\n",
    "\n",
    "retriever = vectorstore.as_retriever(search_kwargs={\"k\": 3})\n",
    "\n",
    "# Nhập câu hỏi\n",
    "query = \"Ma trận là gì\"\n",
    "\n",
    "# Truy xuất các đoạn văn liên quan\n",
    "docs = retriever.get_relevant_documents(query)\n",
    "\n",
    "for i, doc in enumerate(docs):\n",
    "    print(f\"\\n--- Kết quả {i+1} ---\")\n",
    "    print(\"Từ file:\", doc.metadata.get(\"source\", \"\"))\n",
    "    print(\"header1\", doc.metadata.get(\"Header 1\", \"\"))\n",
    "    print(\"header2\", doc.metadata.get(\"Header 2\", \"\"))\n",
    "    print(\"header3\", doc.metadata.get(\"Header 3\", \"\"))\n",
    "    print(doc.page_content, \"...\")"
   ]
  },
  {
   "cell_type": "code",
   "execution_count": null,
   "id": "f8dac3c9",
   "metadata": {},
   "outputs": [],
   "source": [
    "# Load model\n",
    "model = SentenceTransformer(model_name, device=DEVICE)"
   ]
  },
  {
   "cell_type": "code",
   "execution_count": null,
   "id": "c78f5db8",
   "metadata": {},
   "outputs": [],
   "source": [
    "# Tạo embedding\n",
    "texts = [chunk.page_content for chunk in chunks]\n",
    "embeddings = model.encode(texts, \n",
    "                          convert_to_tensor=False,\n",
    "                          normalize_embeddings=True)"
   ]
  },
  {
   "cell_type": "code",
   "execution_count": 10,
   "id": "f7a6d96c",
   "metadata": {},
   "outputs": [
    {
     "data": {
      "text/plain": [
       "array([[ 0.01175354,  0.04333695,  0.01675817, ..., -0.01774279,\n",
       "        -0.02854558,  0.07406582],\n",
       "       [ 0.01095208,  0.0504429 , -0.01873817, ..., -0.02134096,\n",
       "        -0.03130301,  0.03099393]], dtype=float32)"
      ]
     },
     "execution_count": 10,
     "metadata": {},
     "output_type": "execute_result"
    }
   ],
   "source": [
    "embeddings"
   ]
  }
 ],
 "metadata": {
  "kernelspec": {
   "display_name": "Python 3",
   "language": "python",
   "name": "python3"
  },
  "language_info": {
   "codemirror_mode": {
    "name": "ipython",
    "version": 3
   },
   "file_extension": ".py",
   "mimetype": "text/x-python",
   "name": "python",
   "nbconvert_exporter": "python",
   "pygments_lexer": "ipython3",
   "version": "3.10.0"
  }
 },
 "nbformat": 4,
 "nbformat_minor": 5
}
