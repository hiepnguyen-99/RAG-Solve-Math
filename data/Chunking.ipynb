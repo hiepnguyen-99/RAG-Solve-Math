{
 "cells": [
  {
   "cell_type": "code",
   "execution_count": 1,
   "id": "22043555",
   "metadata": {},
   "outputs": [],
   "source": [
    "import re\n",
    "import os\n",
    "import torch\n",
    "import glob\n",
    "import hashlib\n",
    "\n",
    "from langchain.text_splitter import MarkdownHeaderTextSplitter\n",
    "from langchain.document_loaders import TextLoader, DirectoryLoader\n",
    "from sentence_transformers import SentenceTransformer\n",
    "from langchain.vectorstores import Chroma\n",
    "from langchain.embeddings import HuggingFaceEmbeddings\n",
    "from langchain.schema import Document\n",
    "from more_itertools import chunked\n",
    "\n",
    "\n",
    "DEVICE = \"cuda\" if torch.cuda.is_available() else \"cpu\"\n",
    "raw_data_folder = \"../TEST\"\n",
    "model_name = \"intfloat/multilingual-e5-base\"\n",
    "persist_directory = \"../chroma_db\""
   ]
  },
  {
   "cell_type": "markdown",
   "id": "821141d2",
   "metadata": {},
   "source": [
    "## READ_FILES"
   ]
  },
  {
   "cell_type": "code",
   "execution_count": 3,
   "id": "fb89f1b0",
   "metadata": {},
   "outputs": [],
   "source": [
    "txt_files = glob.glob(os.path.join(raw_data_folder, \"*.txt\"))\n",
    "md_files = glob.glob(os.path.join(raw_data_folder, \"*.md\"))\n",
    "\n",
    "def read_txt_file(file_path):\n",
    "    try:\n",
    "        with open(file_path, 'r', encoding='utf-8') as file:\n",
    "            return file.read()\n",
    "    except FileNotFoundError:\n",
    "        print(f\"File not found: {file_path}\")\n",
    "        return None\n",
    "    \n",
    "def clean_text(text):\n",
    "    #text.to_lower()  # Chuyển đổi chữ hoa thành chữ thường\n",
    "    #text = re.sub(r'#* ', '', text)  # Remove Markdown headers\n",
    "    text = re.sub(r'\\n+', ' ', text)  # Remove newlines\n",
    "    text = text.strip() \n",
    "    return text\n",
    "\n",
    "markdown_text = \"\"\n",
    "\n",
    "for file_path in md_files:\n",
    "    try:\n",
    "        content = read_txt_file(file_path)\n",
    "        #content = clean_text(content)\n",
    "        if content:\n",
    "            markdown_text += f\"\\n\\n## {os.path.basename(file_path)}\\n\\n{content}\"\n",
    "    except Exception as e:\n",
    "        print(f\"Error reading {file_path}: {e}\")"
   ]
  },
  {
   "cell_type": "code",
   "execution_count": 4,
   "id": "2104f8fa",
   "metadata": {},
   "outputs": [
    {
     "name": "stderr",
     "output_type": "stream",
     "text": [
      "100%|██████████| 12/12 [00:00<00:00, 3878.83it/s]\n"
     ]
    },
    {
     "data": {
      "text/plain": [
       "[Document(metadata={'source': '..\\\\TEST\\\\file_11_svd.md'}, page_content='# Phân tích giá trị kỳ dị (SVD)\\n\\n## Định nghĩa\\nPhân tích giá trị kỳ dị (Singular Value Decomposition - SVD) là phép phân tích một ma trận \\\\( A \\\\) bất kỳ thành ba ma trận:\\n\\\\[ A = U \\\\Sigma V^T \\\\]\\nTrong đó:\\n- \\\\( U \\\\) là ma trận trực giao \\\\( m \\\\times m \\\\)\\n- \\\\( \\\\Sigma \\\\) là ma trận đường chéo \\\\( m \\\\times n \\\\) chứa các giá trị kỳ dị\\n- \\\\( V^T \\\\) là chuyển vị của ma trận trực giao \\\\( n \\\\times n \\\\)\\n\\n## Ý nghĩa hình học\\nSVD biểu diễn ma trận như một phép biến đổi gồm:\\n1. Xoay hệ trục đầu vào (\\\\( V \\\\))\\n2. Co giãn dọc các trục toạ độ (\\\\( \\\\Sigma \\\\))\\n3. Xoay hệ trục đầu ra (\\\\( U \\\\))\\n\\n## Ứng dụng\\n- Giảm nhiễu và nén ảnh\\n- Giải hệ phương trình không xác định\\n- Phân tích dữ liệu trong học máy\\n\\n## Quan hệ với trị riêng\\nGiá trị kỳ dị là căn bậc hai của trị riêng của \\\\( A^TA \\\\) hoặc \\\\( AA^T \\\\)\\n\\n## Tính chất\\n- Mọi ma trận đều có SVD\\n- Giá trị kỳ dị luôn không âm\\n- Số giá trị kỳ dị bằng hạng của ma trận\\n\\n'),\n",
       " Document(metadata={'source': '..\\\\TEST\\\\file_12_qr_decomposition.md'}, page_content='# Phân tích QR\\n\\n## Định nghĩa\\nPhân tích QR là việc phân tích một ma trận \\\\( A \\\\) thành tích của hai ma trận:\\n\\\\[ A = QR \\\\]\\nTrong đó:\\n- \\\\( Q \\\\) là ma trận trực giao (\\\\( Q^TQ = I \\\\))\\n- \\\\( R \\\\) là ma trận tam giác trên\\n\\n## Ứng dụng\\n- Giải hệ phương trình tuyến tính\\n- Tìm nghiệm gần đúng của hệ phương trình quá xác định (least squares)\\n- Cơ sở trong các thuật toán phân tích phổ trị riêng\\n\\n## Phương pháp Gram-Schmidt\\nDùng để xây dựng ma trận \\\\( Q \\\\) từ các vector cơ sở ban đầu.\\n\\n## Tính chất\\n- Ma trận \\\\( Q \\\\) có các vector trực chuẩn làm cột\\n- Phân tích QR tồn tại nếu \\\\( A \\\\) có hạng đầy đủ\\n\\n## Biến thể\\n- **QR có trọng số**: ứng dụng trong thống kê\\n- **Phân tích QR mỏng**: chỉ lấy phần cần thiết để tiết kiệm bộ nhớ\\n\\n'),\n",
       " Document(metadata={'source': '..\\\\TEST\\\\file_13_chuan_ma_tran.md'}, page_content='# Chuẩn ma trận\\n\\n## Định nghĩa\\n**Chuẩn ma trận** là một hàm ánh xạ ma trận về một số thực không âm thỏa mãn:\\n1. \\\\( \\\\|A\\\\| \\\\geq 0 \\\\), và \\\\( \\\\|A\\\\| = 0 \\\\iff A = 0 \\\\)\\n2. \\\\( \\\\|cA\\\\| = |c|\\\\|A\\\\| \\\\)\\n3. \\\\( \\\\|A + B\\\\| \\\\leq \\\\|A\\\\| + \\\\|B\\\\| \\\\)\\n\\n## Các loại chuẩn thông dụng\\n- **Chuẩn 1**: Tổng lớn nhất của các giá trị tuyệt đối theo cột\\n- **Chuẩn vô cùng**: Tổng lớn nhất theo hàng\\n- **Chuẩn Frobenius**: \\\\( \\\\|A\\\\|_F = \\\\sqrt{\\\\sum_{i,j} |a_{ij}|^2} \\\\)\\n- **Chuẩn phổ (Spectral norm)**: Giá trị kỳ dị lớn nhất của \\\\( A \\\\)\\n\\n## Ứng dụng\\n- Ước lượng sai số\\n- Đo độ lớn của ma trận\\n- Phân tích hội tụ trong thuật toán số\\n\\n## Tính chất\\n- \\\\( \\\\|AB\\\\| \\\\leq \\\\|A\\\\| \\\\cdot \\\\|B\\\\| \\\\)\\n- Dễ tính toán hơn trị riêng hoặc SVD trong một số bài toán\\n\\n'),\n",
       " Document(metadata={'source': '..\\\\TEST\\\\file_14_ma_tran_phan_hang.md'}, page_content='# Ma trận phân hạng (Rank Matrix)\\n\\n## Định nghĩa\\n**Hạng của ma trận** là số lượng vector độc lập tuyến tính tối đa trong tập hàng hoặc cột của ma trận đó.\\n\\n\\\\[ \\\\text{rank}(A) = \\\\dim(\\\\text{Col}(A)) = \\\\dim(\\\\text{Row}(A)) \\\\]\\n\\n## Cách tìm hạng\\n- Dùng phép khử Gauss để đưa về dạng bậc thang\\n- Đếm số hàng khác 0 sau khi rút gọn\\n\\n## Tính chất\\n- \\\\( \\\\text{rank}(A) \\\\leq \\\\min(m, n) \\\\)\\n- \\\\( \\\\text{rank}(A) = \\\\text{rank}(A^T) \\\\)\\n- \\\\( \\\\text{rank}(AB) \\\\leq \\\\min(\\\\text{rank}(A), \\\\text{rank}(B)) \\\\)\\n\\n## Hạng và nghiệm hệ phương trình\\n- Nếu \\\\( \\\\, \\\\text{rank}(A) = \\\\text{rank}([A | B]) = n \\\\), hệ có nghiệm duy nhất\\n- Nếu \\\\( \\\\, \\\\text{rank}(A) = \\\\text{rank}([A | B]) < n \\\\), hệ có vô số nghiệm\\n- Nếu \\\\( \\\\, \\\\text{rank}(A) < \\\\text{rank}([A | B]) \\\\), hệ vô nghiệm\\n\\n## Ứng dụng\\n- Phân tích số chiều dữ liệu\\n- Phát hiện dữ liệu trùng lặp trong học máy\\n\\n'),\n",
       " Document(metadata={'source': '..\\\\TEST\\\\file_15_chuyen_co_so.md'}, page_content='# Chuyển cơ sở\\n\\n## Định nghĩa\\nChuyển cơ sở là quá trình biểu diễn một vector hoặc một biến đổi tuyến tính dưới cơ sở mới.\\n\\n## Ma trận chuyển cơ sở\\nCho hai cơ sở \\\\( B \\\\) và \\\\( C \\\\), ma trận chuyển cơ sở từ \\\\( B \\\\) sang \\\\( C \\\\) là \\\\( P \\\\) sao cho:\\n\\\\[ [v]_C = P [v]_B \\\\]\\n\\n## Tính chất\\n- Ma trận chuyển cơ sở là khả nghịch\\n- Ma trận biểu diễn của biến đổi tuyến tính thay đổi theo công thức:\\n\\\\[ [T]_C = P [T]_B P^{-1} \\\\]\\n\\n## Ứng dụng\\n- Đơn giản hóa ma trận biểu diễn\\n- Diagonal hóa hoặc tam giác hóa ma trận\\n- Chuyển đổi giữa các hệ trục trong đồ họa và vật lý\\n\\n## Ví dụ\\nChuyển vector \\\\( v = (1, 2) \\\\) từ cơ sở chuẩn sang cơ sở \\\\( B = \\\\{(1, 1), (1, -1)\\\\} \\\\)\\n\\n'),\n",
       " Document(metadata={'source': '..\\\\TEST\\\\file_16_dang_bac_thang.md'}, page_content='# Dạng bậc thang và khử Gauss\\n\\n## Định nghĩa dạng bậc thang\\nMột ma trận có dạng bậc thang hàng (row echelon form) nếu:\\n- Tất cả các hàng gồm toàn số 0 nằm dưới cùng\\n- Số phần tử 0 đầu hàng tăng dần\\n- Phần tử khác 0 đầu tiên của mỗi hàng (pivot) nằm bên phải pivot của hàng trước\\n\\n## Dạng bậc thang rút gọn\\nThêm yêu cầu:\\n- Mỗi pivot là 1\\n- Pivot là phần tử duy nhất khác 0 trong cột của nó\\n\\n## Phương pháp khử Gauss\\nLà quá trình đưa ma trận về dạng bậc thang bằng phép biến đổi sơ cấp:\\n- Đổi chỗ hai hàng\\n- Nhân một hàng với hằng số khác 0\\n- Cộng một bội của một hàng vào hàng khác\\n\\n## Ứng dụng\\n- Giải hệ phương trình tuyến tính\\n- Tính hạng ma trận\\n- Tìm nghịch đảo\\n\\n'),\n",
       " Document(metadata={'source': '..\\\\TEST\\\\file_17_ma_tran_nguoc.md'}, page_content='# Ma trận nghịch đảo\\n\\n## Định nghĩa\\nMa trận \\\\( A \\\\) khả nghịch nếu tồn tại ma trận \\\\( A^{-1} \\\\) sao cho:\\n\\\\[ AA^{-1} = A^{-1}A = I \\\\]\\n\\n## Điều kiện tồn tại\\n- Ma trận vuông\\n- \\\\( \\\\text{det}(A) \\\\neq 0 \\\\)\\n\\n## Cách tính\\n- Dùng công thức định thức và ma trận phụ hợp\\n- Khử Gauss-Jordan: ghép \\\\( A \\\\) với \\\\( I \\\\), đưa về \\\\( [I | A^{-1}] \\\\)\\n\\n## Tính chất\\n- \\\\( (A^{-1})^{-1} = A \\\\)\\n- \\\\( (AB)^{-1} = B^{-1}A^{-1} \\\\)\\n- \\\\( (A^T)^{-1} = (A^{-1})^T \\\\)\\n\\n## Ứng dụng\\n- Giải hệ phương trình \\\\( AX = B \\\\)\\n- Tính giá trị kỳ dị, trị riêng\\n- Ứng dụng trong học máy và điều khiển\\n\\n'),\n",
       " Document(metadata={'source': '..\\\\TEST\\\\file_18_he_so_tu_do.md'}, page_content='# Hệ số tự do và nghiệm tổng quát\\n\\n## Biến tự do\\nKhi giải hệ phương trình, nếu số ẩn lớn hơn số phương trình thì một số ẩn có thể là **biến tự do**, không bị ràng buộc bởi phương trình nào.\\n\\n## Nghiệm tổng quát\\nLà biểu thức nghiệm phụ thuộc vào biến tự do:\\n\\\\[ x = x_p + c_1v_1 + c_2v_2 + ... + c_kv_k \\\\]\\nTrong đó:\\n- \\\\( x_p \\\\): một nghiệm cụ thể\\n- \\\\( v_i \\\\): các vector tạo thành không gian nghiệm đồng nhất\\n- \\\\( c_i \\\\): các hằng số tuỳ ý\\n\\n## Ứng dụng\\n- Diễn tả tập nghiệm vô số nghiệm\\n- Phân tích không gian nghiệm\\n\\n## Biểu diễn vector theo cơ sở\\nNghiệm tổng quát thường được biểu diễn dưới dạng tổ hợp tuyến tính của cơ sở không gian nghiệm\\n\\n'),\n",
       " Document(metadata={'source': '..\\\\TEST\\\\file_19_tich_kronecker.md'}, page_content='# Tích Kronecker\\n\\n## Định nghĩa\\nTích Kronecker của hai ma trận \\\\( A \\\\in \\\\mathbb{R}^{m \\\\times n} \\\\) và \\\\( B \\\\in \\\\mathbb{R}^{p \\\\times q} \\\\):\\n\\\\[ A \\\\otimes B = \\\\begin{bmatrix} a_{11}B & a_{12}B & \\\\dots & a_{1n}B \\\\\\\\ a_{21}B & a_{22}B & \\\\dots & a_{2n}B \\\\\\\\ \\\\vdots & \\\\vdots & \\\\ddots & \\\\vdots \\\\\\\\ a_{m1}B & a_{m2}B & \\\\dots & a_{mn}B \\\\end{bmatrix} \\\\]\\n\\n## Kích thước\\n\\\\( (m \\\\cdot p) \\\\times (n \\\\cdot q) \\\\)\\n\\n## Tính chất\\n- Không giao hoán\\n- \\\\( (A \\\\otimes B)(C \\\\otimes D) = (AC \\\\otimes BD) \\\\)\\n- \\\\( (A \\\\otimes B)^T = A^T \\\\otimes B^T \\\\)\\n\\n## Ứng dụng\\n- Xử lý ảnh và tín hiệu\\n- Biểu diễn hệ thống động lực học lớn\\n- Trong học sâu: mô hình hóa tương tác đa chiều\\n\\n'),\n",
       " Document(metadata={'source': '..\\\\TEST\\\\file_20_ma_tran_chuyen_vi.md'}, page_content='# Ma trận chuyển vị\\n\\n## Định nghĩa\\nMa trận chuyển vị \\\\( A^T \\\\) của ma trận \\\\( A \\\\) là ma trận thu được bằng cách đổi hàng và cột:\\n\\\\[ (A^T)_{ij} = A_{ji} \\\\]\\n\\n## Tính chất\\n- \\\\( (A^T)^T = A \\\\)\\n- \\\\( (A + B)^T = A^T + B^T \\\\)\\n- \\\\( (AB)^T = B^T A^T \\\\)\\n- \\\\( (cA)^T = cA^T \\\\)\\n\\n## Ma trận đối xứng\\n\\\\( A \\\\) là ma trận đối xứng nếu \\\\( A = A^T \\\\)\\n\\n## Ma trận trực giao\\n\\\\( Q \\\\) là trực giao nếu \\\\( Q^T = Q^{-1} \\\\)\\n\\n## Ứng dụng\\n- Đơn giản hoá phép nhân\\n- Biểu diễn trong giải tích, xác suất và học máy\\n\\n'),\n",
       " Document(metadata={'source': '..\\\\TEST\\\\linear_algebra_md_file.md'}, page_content='# Không gian vector\\n\\n## Định nghĩa\\nMột **không gian vector** (hay không gian tuyến tính) là một tập hợp các phần tử gọi là **vector**, cùng với hai phép toán:\\n- **Cộng vector**\\n- **Nhân vector với vô hướng**\\n\\nCác phép toán này phải thỏa mãn 8 tiên đề cơ bản:\\n1. Tính kết hợp của phép cộng\\n2. Tính giao hoán của phép cộng\\n3. Tồn tại phần tử không (vector không)\\n4. Tồn tại phần tử đối\\n5. Tính kết hợp của phép nhân vô hướng\\n6. Tính phân phối của phép nhân vô hướng với phép cộng vector\\n7. Tính phân phối của phép nhân vô hướng với phép cộng vô hướng\\n8. Phần tử đơn vị nhân với vector không đổi\\n\\n## Ví dụ về không gian vector\\n- \\\\( \\\\mathbb{R}^n \\\\): Tập hợp tất cả các vector có n phần tử thực\\n- Tập các đa thức có bậc nhỏ hơn hoặc bằng n\\n- Tập các hàm liên tục trên một đoạn \\\\( [a, b] \\\\)\\n\\n## Tập con sinh (Span)\\n**Tập con sinh** của một tập hợp các vector là tập tất cả các tổ hợp tuyến tính có thể có từ các vector trong tập hợp đó.\\n\\n## Cơ sở và số chiều\\n- **Cơ sở** là một tập các vector vừa **sinh ra không gian vector**, vừa **độc lập tuyến tính**.\\n- **Số chiều** là số lượng vector trong một cơ sở bất kỳ của không gian đó.\\n\\n## Không gian con\\nMột tập con \\\\( W \\\\subseteq V \\\\) là một **không gian con** nếu:\\n- \\\\( W \\\\) chứa vector không\\n- \\\\( W \\\\) đóng dưới phép cộng và nhân vô hướng\\n\\n## Độc lập tuyến tính\\nMột tập hợp các vector \\\\( \\\\{v_1, v_2, ..., v_n\\\\} \\\\) là **độc lập tuyến tính** nếu phương trình \\\\( c_1v_1 + c_2v_2 + ... + c_nv_n = 0 \\\\) chỉ có nghiệm duy nhất là \\\\( c_1 = c_2 = ... = c_n = 0 \\\\).\\n\\n\\n# Biến đổi tuyến tính\\n\\n## Định nghĩa\\nMột **biến đổi tuyến tính** là một hàm ánh xạ \\\\( T: V \\\\rightarrow W \\\\) giữa hai không gian vector sao cho:\\n- \\\\( T(u + v) = T(u) + T(v) \\\\)\\n- \\\\( T(cu) = cT(u) \\\\) với mọi vector \\\\( u, v \\\\in V \\\\) và mọi vô hướng \\\\( c \\\\)\\n\\n## Hạt nhân và ảnh\\n- **Hạt nhân** (kernel): \\\\( \\\\text{Ker}(T) = \\\\{v \\\\in V \\\\mid T(v) = 0\\\\} \\\\)\\n- **Ảnh** (image): \\\\( \\\\text{Im}(T) = \\\\{T(v) \\\\mid v \\\\in V\\\\} \\\\)\\n\\n## Định lý hạng-nullity\\nCho ánh xạ tuyến tính \\\\( T: V \\\\to W \\\\), ta có:\\n\\\\[ \\\\dim(V) = \\\\text{rank}(T) + \\\\text{nullity}(T) \\\\]\\n\\n## Biểu diễn ma trận\\nMỗi biến đổi tuyến tính giữa các không gian hữu hạn chiều có thể biểu diễn bởi một ma trận. Cột của ma trận là ảnh của các vector cơ sở.\\n\\n## Thành phần của biến đổi tuyến tính\\n- **Hạng (Rank)**: Số chiều của ảnh\\n- **Nullity**: Số chiều của hạt nhân\\n\\n\\n# Ma trận\\n\\n## Khái niệm\\n**Ma trận** là một bảng hình chữ nhật gồm các số, sắp xếp theo hàng và cột. Ma trận kích thước \\\\( m \\\\times n \\\\) có \\\\( m \\\\) hàng và \\\\( n \\\\) cột.\\n\\n## Các phép toán với ma trận\\n- **Cộng trừ ma trận**: Thực hiện theo phần tử tương ứng\\n- **Nhân ma trận với vô hướng**\\n- **Nhân hai ma trận**: Ma trận \\\\( A_{m \\\\times n} \\\\) nhân với \\\\( B_{n \\\\times p} \\\\) cho kết quả là ma trận \\\\( C_{m \\\\times p} \\\\)\\n\\n## Ma trận đặc biệt\\n- **Ma trận đơn vị (I)**: Ma trận vuông có đường chéo chính là 1, còn lại là 0\\n- **Ma trận đường chéo**\\n- **Ma trận khả nghịch**: Ma trận có tồn tại ma trận nghịch đảo \\\\( A^{-1} \\\\) sao cho \\\\( AA^{-1} = I \\\\)\\n\\n## Định thức\\nChỉ áp dụng cho ma trận vuông. Định thức có tính chất:\\n- \\\\( \\\\text{det}(AB) = \\\\text{det}(A) \\\\cdot \\\\text{det}(B) \\\\)\\n- Ma trận khả nghịch khi và chỉ khi \\\\( \\\\text{det}(A) \\\\neq 0 \\\\)\\n\\n# Trị riêng và vector riêng\\n\\n## Định nghĩa\\nCho ma trận vuông \\\\( A \\\\), một số \\\\( \\\\lambda \\\\) là **trị riêng** nếu tồn tại vector \\\\( v \\\\neq 0 \\\\) sao cho:\\n\\\\[ Av = \\\\lambda v \\\\]\\n\\nVector \\\\( v \\\\) được gọi là **vector riêng** tương ứng với trị riêng \\\\( \\\\lambda \\\\).\\n\\n## Đa thức đặc trưng\\nĐể tìm trị riêng, giải phương trình:\\n\\\\[ \\\\text{det}(A - \\\\lambda I) = 0 \\\\]\\nĐây là **đa thức đặc trưng** của ma trận \\\\( A \\\\).\\n\\n## Đường chéo hóa\\nMa trận \\\\( A \\\\) gọi là **đường chéo hóa được** nếu tồn tại ma trận khả nghịch \\\\( P \\\\) sao cho:\\n\\\\[ P^{-1}AP = D \\\\]\\nTrong đó \\\\( D \\\\) là ma trận đường chéo với các trị riêng nằm trên đường chéo.\\n\\n## Ứng dụng\\n- Giải hệ phương trình vi phân\\n- Phân tích PCA trong học máy\\n- Nâng lũy thừa ma trận\\n\\n\\n# Không gian tích vô hướng\\n\\n## Định nghĩa\\nMột **không gian tích vô hướng** là không gian vector có thêm một phép toán:\\n\\\\[ \\\\langle u, v \\\\rangle \\\\]\\nthoả mãn:\\n1. Tuyến tính theo thành phần đầu\\n2. Đối xứng: \\\\( \\\\langle u, v \\\\rangle = \\\\langle v, u \\\\rangle \\\\)\\n3. Tích vô hướng dương: \\\\( \\\\langle v, v \\\\rangle \\\\ge 0 \\\\), và bằng 0 khi \\\\( v = 0 \\\\)\\n\\n## Chuẩn và khoảng cách\\n- **Chuẩn (norm)** của vector \\\\( v \\\\): \\\\( \\\\|v\\\\| = \\\\sqrt{\\\\langle v, v \\\\rangle} \\\\)\\n- **Khoảng cách** giữa \\\\( u \\\\) và \\\\( v \\\\): \\\\( d(u, v) = \\\\|u - v\\\\| \\\\)\\n\\n## Trực giao và cơ sở trực chuẩn\\n- Hai vector \\\\( u, v \\\\) là **trực giao** nếu \\\\( \\\\langle u, v \\\\rangle = 0 \\\\)\\n- Tập vector là **trực chuẩn** nếu tất cả các vector đều có độ dài 1 và trực giao với nhau\\n\\n## Quá trình Gram-Schmidt\\nLà một thuật toán dùng để tạo cơ sở trực chuẩn từ một tập vector bất kỳ, đảm bảo độc lập tuyến tính và trực giao hóa.\\n\\n## Ứng dụng\\n- Biến đổi Fourier\\n- Giải hệ phương trình tuyến tính bằng phương pháp chiếu\\n- Nén dữ liệu bằng phân tích thành phần chính (PCA)\\n\\n'),\n",
       " Document(metadata={'source': '..\\\\TEST\\\\linear_algebra_md_files.md'}, page_content='# Hệ phương trình tuyến tính\\n\\n## Định nghĩa\\nMột **hệ phương trình tuyến tính** là tập hợp các phương trình có dạng:\\n\\\\[ a_1x_1 + a_2x_2 + \\\\dots + a_nx_n = b \\\\]\\n\\n## Phương pháp giải\\n- **Khử Gauss (Gaussian elimination)**\\n- **Nghịch đảo ma trận**\\n- **Phân tích LU**\\n\\n## Ma trận hệ số và vector hằng số\\nMột hệ phương trình có thể viết lại dưới dạng ma trận:\\n\\\\[ AX = B \\\\]\\nTrong đó:\\n- \\\\( A \\\\): Ma trận hệ số\\n- \\\\( X \\\\): Vector ẩn\\n- \\\\( B \\\\): Vector kết quả\\n\\n## Số nghiệm\\n- **Không có nghiệm**: hệ vô nghiệm\\n- **Một nghiệm duy nhất**: hệ xác định\\n- **Vô số nghiệm**: hệ suy biến\\n\\n# Các loại ma trận đặc biệt\\n\\n## Ma trận đường chéo (Diagonal Matrix)\\nTất cả phần tử ngoài đường chéo chính đều bằng 0.\\n\\n## Ma trận tam giác\\n- **Tam giác trên**: tất cả phần tử dưới đường chéo bằng 0\\n- **Tam giác dưới**: ngược lại\\n\\n## Ma trận trực giao\\nMa trận \\\\( Q \\\\) được gọi là **trực giao** nếu:\\n\\\\[ Q^TQ = QQ^T = I \\\\]\\n\\n## Ma trận đối xứng\\nMa trận \\\\( A \\\\) đối xứng nếu \\\\( A = A^T \\\\)\\n\\n## Ma trận khả nghịch (Invertible Matrix)\\nTồn tại ma trận \\\\( A^{-1} \\\\) sao cho:\\n\\\\[ AA^{-1} = A^{-1}A = I \\\\]\\n\\n\\n# Không gian đối ngẫu (Dual space)\\n\\n## Định nghĩa\\nKhông gian đối ngẫu \\\\( V^* \\\\) của không gian vector \\\\( V \\\\) là tập tất cả các ánh xạ tuyến tính từ \\\\( V \\\\) vào \\\\( \\\\mathbb{R} \\\\).\\n\\n## Phần tử của \\\\( V^* \\\\)\\nGọi là **hàm tuyến tính** hay **hàm đối ngẫu**.\\n\\n## Cơ sở đối ngẫu\\nNếu \\\\( \\\\{v_1, v_2, ..., v_n\\\\} \\\\) là cơ sở của \\\\( V \\\\), thì tồn tại cơ sở đối ngẫu \\\\( \\\\{f_1, ..., f_n\\\\} \\\\) sao cho:\\n\\\\[ f_i(v_j) = \\\\delta_{ij} \\\\]\\n\\n# Ứng dụng của đại số tuyến tính trong học máy\\n\\n## Biến đổi PCA (Principal Component Analysis)\\n- Giảm chiều dữ liệu bằng cách chiếu lên không gian con\\n- Sử dụng trị riêng và vector riêng\\n\\n## Học sâu (Deep learning)\\n- Ma trận trọng số trong mạng neuron\\n- Tích vô hướng, chuẩn hóa, đạo hàm ma trận\\n\\n## Hồi quy tuyến tính\\n- Dự đoán đầu ra bằng tổ hợp tuyến tính các đầu vào\\n- Tối ưu nghiệm bằng đạo hàm và phương pháp ma trận\\n\\n# Phân kỳ và cơ hội dòng trong đại số tuyến tính\\n\\n## Giá trị kỳ vọng của ma trận lặp\\nNghiên cứu các ma trận lặp khi số lần nhân tiến tới vô hạn.\\n\\n## Lý thuyết Markov\\n- Ma trận chuyển trạng thái\\n- Vector trạng thái ổn định\\n\\n## Ứng dụng trong kinh tế\\n- Phân tích đầu vào - đầu ra Leontief\\n- Dòng chảy tài nguyên, sản xuất\\n\\n')]"
      ]
     },
     "execution_count": 4,
     "metadata": {},
     "output_type": "execute_result"
    }
   ],
   "source": [
    "loeader = DirectoryLoader(raw_data_folder,\n",
    "                           glob=\"**/*.md\",\n",
    "                             show_progress=True,\n",
    "                              loader_cls=TextLoader,\n",
    "                              loader_kwargs={\"encoding\": \"utf-8\"}\n",
    "                              )\n",
    "documents = loeader.load()\n",
    "len(documents)\n",
    "documents\n",
    "\n"
   ]
  },
  {
   "cell_type": "markdown",
   "id": "b44746b4",
   "metadata": {},
   "source": [
    "## CHUNKING"
   ]
  },
  {
   "cell_type": "code",
   "execution_count": 5,
   "id": "b416bcaf",
   "metadata": {},
   "outputs": [],
   "source": [
    "headers_to_split_on = [\n",
    "            (\"#\", \"Header 1\"),\n",
    "            (\"##\", \"Header 2\"),\n",
    "            #(\"###\", \"Header 3\"),\n",
    "            #(\"####\", \"Header 4\"),\n",
    "            ]\n",
    "\n",
    "splitter = MarkdownHeaderTextSplitter(\n",
    "    headers_to_split_on = headers_to_split_on\n",
    ")\n",
    "\n",
    "\n",
    "\n",
    "# Split the documents into chunks based on the headers\n",
    "\n",
    "all_chunks = []\n",
    "for doc in documents:\n",
    "    chunks = splitter.split_text(doc.page_content)\n",
    "    for chunk in chunks:\n",
    "        # Gộp metadata vào nội dung để vector hóa\n",
    "        header1 = chunk.metadata.get(\"Header 1\", \"\")\n",
    "        header2 = chunk.metadata.get(\"Header 2\", \"\")\n",
    "        merged_text = f\"[{header1}] [{header2}]\\n{chunk.page_content}\"\n",
    "\n",
    "        # Gán lại nội dung mới\n",
    "        chunk.page_content = merged_text\n",
    "        chunk.metadata[\"source\"] = doc.metadata.get(\"source\", \"\")\n",
    "        all_chunks.append(chunk)\n",
    "\n",
    "\n",
    "\n",
    "#chunks = splitter.split_text(all_chunks)\n"
   ]
  },
  {
   "cell_type": "code",
   "execution_count": 7,
   "id": "662736de",
   "metadata": {},
   "outputs": [
    {
     "data": {
      "text/plain": [
       "88"
      ]
     },
     "execution_count": 7,
     "metadata": {},
     "output_type": "execute_result"
    }
   ],
   "source": [
    "len(all_chunks)"
   ]
  },
  {
   "cell_type": "markdown",
   "id": "a006ea32",
   "metadata": {},
   "source": [
    "## EMBEDING"
   ]
  },
  {
   "cell_type": "code",
   "execution_count": 8,
   "id": "5530bd95",
   "metadata": {},
   "outputs": [
    {
     "name": "stderr",
     "output_type": "stream",
     "text": [
      "C:\\Users\\dongh\\AppData\\Local\\Temp\\ipykernel_14208\\156581409.py:1: LangChainDeprecationWarning: The class `HuggingFaceEmbeddings` was deprecated in LangChain 0.2.2 and will be removed in 1.0. An updated version of the class exists in the :class:`~langchain-huggingface package and should be used instead. To use it run `pip install -U :class:`~langchain-huggingface` and import as `from :class:`~langchain_huggingface import HuggingFaceEmbeddings``.\n",
      "  embedding_model = HuggingFaceEmbeddings(\n"
     ]
    }
   ],
   "source": [
    "embedding_model = HuggingFaceEmbeddings(\n",
    "    model_name=model_name,\n",
    "    model_kwargs={\"device\": DEVICE},\n",
    "    encode_kwargs={\"normalize_embeddings\": True}\n",
    ")\n",
    "\n",
    "\n",
    "if os.path.exists(persist_directory):\n",
    "    print(f\"Persist directory {persist_directory} already exists. Loading existing vectorstore.\")\n",
    "    vectorstore = Chroma(persist_directory=persist_directory,\n",
    "                            embedding_function=embedding_model,\n",
    "                          collection_name=\"math_vectors\")\n",
    "    #vectorstore.add_documents(all_chunks)\n",
    "    BATCH_SIZE = 100\n",
    "    for i, chunk in enumerate(chunked(all_chunks, BATCH_SIZE)):\n",
    "        print(f\"Processing chunk {i + 1}/{len(all_chunks) // BATCH_SIZE + 1}\")\n",
    "        vectorstore.add_documents(chunk)\n",
    "else:\n",
    "    vectorstore = Chroma.from_documents(\n",
    "        documents=all_chunks,\n",
    "        embedding=embedding_model,\n",
    "        persist_directory=persist_directory,\n",
    "        collection_name=\"math_vectors\"\n",
    "    )\n",
    "\n",
    "\n",
    "\n",
    "\n",
    "#vectorstore.persist()"
   ]
  },
  {
   "cell_type": "markdown",
   "id": "c7e9307a",
   "metadata": {},
   "source": [
    "Test"
   ]
  },
  {
   "cell_type": "code",
   "execution_count": 5,
   "id": "80e6d71b",
   "metadata": {},
   "outputs": [
    {
     "name": "stdout",
     "output_type": "stream",
     "text": [
      "\n",
      "--- Kết quả 1 ---\n",
      "Từ file: ..\\TEST\\file_15_chuyen_co_so.md\n",
      "header1 Chuyển cơ sở\n",
      "header2 Ma trận chuyển cơ sở\n",
      "header3 \n",
      "[Chuyển cơ sở] [Ma trận chuyển cơ sở]\n",
      "Cho hai cơ sở \\( B \\) và \\( C \\), ma trận chuyển cơ sở từ \\( B \\) sang \\( C \\) là \\( P \\) sao cho:\n",
      "\\[ [v]_C = P [v]_B \\]\n",
      "\n",
      "--- Kết quả 2 ---\n",
      "Từ file: ..\\TEST\\file_15_chuyen_co_so.md\n",
      "header1 Chuyển cơ sở\n",
      "header2 Ví dụ\n",
      "header3 \n",
      "[Chuyển cơ sở] [Ví dụ]\n",
      "Chuyển vector \\( v = (1, 2) \\) từ cơ sở chuẩn sang cơ sở \\( B = \\{(1, 1), (1, -1)\\} \\)\n",
      "\n",
      "--- Kết quả 3 ---\n",
      "Từ file: ..\\TEST\\file_15_chuyen_co_so.md\n",
      "header1 Chuyển cơ sở\n",
      "header2 Tính chất\n",
      "header3 \n",
      "[Chuyển cơ sở] [Tính chất]\n",
      "- Ma trận chuyển cơ sở là khả nghịch\n",
      "- Ma trận biểu diễn của biến đổi tuyến tính thay đổi theo công thức:\n",
      "\\[ [T]_C = P [T]_B P^{-1} \\]\n"
     ]
    }
   ],
   "source": [
    "from langchain.chains import RetrievalQA\n",
    "\n",
    "\n",
    "embedding_model = HuggingFaceEmbeddings(\n",
    "    model_name=model_name,\n",
    "    model_kwargs={\"device\": DEVICE},\n",
    "    encode_kwargs={\"normalize_embeddings\": True}\n",
    ")\n",
    "\n",
    "vectorstore = Chroma(\n",
    "    persist_directory=persist_directory,\n",
    "    embedding_function=embedding_model,\n",
    "    collection_name=\"math_vectors\"\n",
    ")\n",
    "\n",
    "retriever = vectorstore.as_retriever(search_kwargs={\"k\": 3})\n",
    "\n",
    "query = \"Cho 1 ví dụ về ma trận chuyển cơ sở\"\n",
    "docs = retriever.get_relevant_documents(query)\n",
    "\n",
    "for i, doc in enumerate(docs):\n",
    "    print(f\"\\n--- Kết quả {i+1} ---\")\n",
    "    print(\"Từ file:\", doc.metadata.get(\"source\", \"\"))\n",
    "    print(\"header1\", doc.metadata.get(\"Header 1\", \"\"))\n",
    "    print(\"header2\", doc.metadata.get(\"Header 2\", \"\"))\n",
    "    print(\"header3\", doc.metadata.get(\"Header 3\", \"\"))\n",
    "    print(doc.page_content)\n"
   ]
  },
  {
   "cell_type": "code",
   "execution_count": null,
   "id": "f8dac3c9",
   "metadata": {},
   "outputs": [],
   "source": [
    "# Load model\n",
    "model = SentenceTransformer(model_name, device=DEVICE)"
   ]
  },
  {
   "cell_type": "code",
   "execution_count": null,
   "id": "c78f5db8",
   "metadata": {},
   "outputs": [],
   "source": [
    "# Tạo embedding\n",
    "texts = [chunk.page_content for chunk in chunks]\n",
    "embeddings = model.encode(texts, \n",
    "                          convert_to_tensor=False,\n",
    "                          normalize_embeddings=True)"
   ]
  },
  {
   "cell_type": "code",
   "execution_count": 10,
   "id": "f7a6d96c",
   "metadata": {},
   "outputs": [
    {
     "data": {
      "text/plain": [
       "array([[ 0.01175354,  0.04333695,  0.01675817, ..., -0.01774279,\n",
       "        -0.02854558,  0.07406582],\n",
       "       [ 0.01095208,  0.0504429 , -0.01873817, ..., -0.02134096,\n",
       "        -0.03130301,  0.03099393]], dtype=float32)"
      ]
     },
     "execution_count": 10,
     "metadata": {},
     "output_type": "execute_result"
    }
   ],
   "source": [
    "embeddings"
   ]
  }
 ],
 "metadata": {
  "kernelspec": {
   "display_name": "Python 3",
   "language": "python",
   "name": "python3"
  },
  "language_info": {
   "codemirror_mode": {
    "name": "ipython",
    "version": 3
   },
   "file_extension": ".py",
   "mimetype": "text/x-python",
   "name": "python",
   "nbconvert_exporter": "python",
   "pygments_lexer": "ipython3",
   "version": "3.10.0"
  }
 },
 "nbformat": 4,
 "nbformat_minor": 5
}
